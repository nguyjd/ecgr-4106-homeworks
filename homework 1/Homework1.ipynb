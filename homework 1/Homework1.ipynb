{
 "cells": [
  {
   "cell_type": "markdown",
   "id": "a6bea181",
   "metadata": {},
   "source": [
    "Jonathon Nguyen\n",
    "\n",
    "ID: 801093003\n",
    "\n",
    "Homework 1\n"
   ]
  },
  {
   "cell_type": "code",
   "execution_count": 1,
   "id": "05bb97de",
   "metadata": {},
   "outputs": [],
   "source": [
    "import torch\n",
    "import imageio\n",
    "import numpy as np \n",
    "import pandas as pd\n",
    "from matplotlib import pyplot as plt"
   ]
  },
  {
   "cell_type": "markdown",
   "id": "c8fbe4cd",
   "metadata": {},
   "source": [
    "<b>Problem One<b>"
   ]
  },
  {
   "cell_type": "code",
   "execution_count": 2,
   "id": "7f9265af",
   "metadata": {},
   "outputs": [],
   "source": [
    "# Load all the images. \n",
    "# When loading the images, the stride was using negative number. So I used np.ascontiguousarray() to fix that.\n",
    "redBagImage = np.ascontiguousarray(imageio.imread(\"Images/RedCoughDropBag.jpg\"))\n",
    "blueSlidesImage = np.ascontiguousarray(imageio.imread(\"Images/BlueSlides.jpg\"))\n",
    "greenBagImage = np.ascontiguousarray(imageio.imread(\"Images/GreenFoodLionBag.jpg\"))\n",
    "blueBoxImage = np.ascontiguousarray(imageio.imread(\"Images/BlueMask.jpg\"))\n",
    "greenBookImage = np.ascontiguousarray(imageio.imread(\"Images/GreenTextbook.jpg\"))\n",
    "\n",
    "# Convert the images to a tensors.\n",
    "redBagImage = torch.from_numpy(redBagImage)\n",
    "blueSlidesImage = torch.from_numpy(blueSlidesImage)\n",
    "greenBagImage = torch.from_numpy(greenBagImage)\n",
    "blueBoxImage = torch.from_numpy(blueBoxImage)\n",
    "greenBookImage = torch.from_numpy(greenBookImage)"
   ]
  },
  {
   "cell_type": "code",
   "execution_count": 3,
   "id": "236fe078",
   "metadata": {},
   "outputs": [
    {
     "name": "stdout",
     "output_type": "stream",
     "text": [
      "Red Cough Drop Bag Image Mean: 128.5584716796875\n",
      "Blue Slides Image Mean: 120.75616455078125\n",
      "Green Food Lion Bag Image Mean: 107.5559310913086\n",
      "Blue Mask Box Image Mean: 116.16466522216797\n",
      "Green Textbook Image Mean: 117.69389343261719\n"
     ]
    }
   ],
   "source": [
    "# Converted the Data type to float in order to take the mean.\n",
    "redBagImage = redBagImage.float()\n",
    "blueSlidesImage = blueSlidesImage.float()\n",
    "greenBagImage = greenBagImage.float()\n",
    "blueBoxImage = blueBoxImage.float()\n",
    "greenBookImage = greenBookImage.float()\n",
    "\n",
    "# Find the mean of the image to find the brightness.\n",
    "redBagMean = redBagImage.mean()\n",
    "blueSlidesMean = blueSlidesImage.mean()\n",
    "greenBagMean = greenBagImage.mean()\n",
    "blueBoxMean = blueBoxImage.mean()\n",
    "greenBookMean = greenBookImage.mean()\n",
    "\n",
    "# Print out the data.\n",
    "print(f\"Red Cough Drop Bag Image Mean: {redBagMean}\")\n",
    "print(f\"Blue Slides Image Mean: {blueSlidesMean}\")\n",
    "print(f\"Green Food Lion Bag Image Mean: {greenBagMean}\")\n",
    "print(f\"Blue Mask Box Image Mean: {blueBoxMean}\")\n",
    "print(f\"Green Textbook Image Mean: {greenBookMean}\")"
   ]
  },
  {
   "cell_type": "code",
   "execution_count": 4,
   "id": "c8cf773e",
   "metadata": {},
   "outputs": [
    {
     "name": "stdout",
     "output_type": "stream",
     "text": [
      "Red Cough Drop Bag Image\n",
      "\n",
      "Red Channel Tensor Average: 175.42739868164062\n",
      "Green Channel Tensor Average: 116.5374755859375\n",
      "Blue Channel Tensor Average: 93.48994445800781\n"
     ]
    }
   ],
   "source": [
    "# Find the mean for each color channel.\n",
    "print(\"Red Cough Drop Bag Image\\n\")\n",
    "print(f\"Red Channel Tensor Average: {redBagImage[:, :, 0].mean()}\")\n",
    "print(f\"Green Channel Tensor Average: {redBagImage[:, :, 1].mean()}\")\n",
    "print(f\"Blue Channel Tensor Average: {redBagImage[:, :, 2].mean()}\")"
   ]
  },
  {
   "cell_type": "code",
   "execution_count": 5,
   "id": "707bcd7d",
   "metadata": {},
   "outputs": [
    {
     "name": "stdout",
     "output_type": "stream",
     "text": [
      "Blue Slides Image\n",
      "\n",
      "Red Channel Tensor Average: 116.03614807128906\n",
      "Green Channel Tensor Average: 117.88151550292969\n",
      "Blue Channel Tensor Average: 128.31166076660156\n"
     ]
    }
   ],
   "source": [
    "# Find the mean for each color channel.\n",
    "print(\"Blue Slides Image\\n\")\n",
    "print(f\"Red Channel Tensor Average: {blueSlidesImage[:, :, 0].mean()}\")\n",
    "print(f\"Green Channel Tensor Average: {blueSlidesImage[:, :, 1].mean()}\")\n",
    "print(f\"Blue Channel Tensor Average: {blueSlidesImage[:, :, 2].mean()}\")"
   ]
  },
  {
   "cell_type": "code",
   "execution_count": 6,
   "id": "9f81ed6a",
   "metadata": {},
   "outputs": [
    {
     "name": "stdout",
     "output_type": "stream",
     "text": [
      "Green Food Lion Bag\n",
      "\n",
      "Red Channel Tensor Average: 108.66057586669922\n",
      "Green Channel Tensor Average: 120.62203979492188\n",
      "Blue Channel Tensor Average: 93.41419982910156\n"
     ]
    }
   ],
   "source": [
    "# Find the mean for each color channel.\n",
    "print(\"Green Food Lion Bag\\n\")\n",
    "print(f\"Red Channel Tensor Average: {greenBagImage[:, :, 0].mean()}\")\n",
    "print(f\"Green Channel Tensor Average: {greenBagImage[:, :, 1].mean()}\")\n",
    "print(f\"Blue Channel Tensor Average: {greenBagImage[:, :, 2].mean()}\")"
   ]
  },
  {
   "cell_type": "code",
   "execution_count": 7,
   "id": "2f0df0d2",
   "metadata": {},
   "outputs": [
    {
     "name": "stdout",
     "output_type": "stream",
     "text": [
      "Blue Mask Box Image\n",
      "\n",
      "Red Channel Tensor Average: 97.59624481201172\n",
      "Green Channel Tensor Average: 119.44755554199219\n",
      "Blue Channel Tensor Average: 131.1785125732422\n"
     ]
    }
   ],
   "source": [
    "# Find the mean for each color channel.\n",
    "print(\"Blue Mask Box Image\\n\")\n",
    "print(f\"Red Channel Tensor Average: {blueBoxImage[:, :, 0].mean()}\")\n",
    "print(f\"Green Channel Tensor Average: {blueBoxImage[:, :, 1].mean()}\")\n",
    "print(f\"Blue Channel Tensor Average: {blueBoxImage[:, :, 2].mean()}\")"
   ]
  },
  {
   "cell_type": "code",
   "execution_count": 8,
   "id": "77e7463d",
   "metadata": {},
   "outputs": [
    {
     "name": "stdout",
     "output_type": "stream",
     "text": [
      "Green Textbook Image\n",
      "\n",
      "Red Channel Tensor Average: 121.12944793701172\n",
      "Green Channel Tensor Average: 137.35079956054688\n",
      "Blue Channel Tensor Average: 94.44293975830078\n"
     ]
    }
   ],
   "source": [
    "# Find the mean for each color channel.\n",
    "print(\"Green Textbook Image\\n\")\n",
    "print(f\"Red Channel Tensor Average: {greenBookImage[:, :, 0].mean()}\")\n",
    "print(f\"Green Channel Tensor Average: {greenBookImage[:, :, 1].mean()}\")\n",
    "print(f\"Blue Channel Tensor Average: {greenBookImage[:, :, 2].mean()}\")"
   ]
  },
  {
   "cell_type": "markdown",
   "id": "03d2da5c",
   "metadata": {},
   "source": [
    "<b>Problem Two<b>"
   ]
  },
  {
   "cell_type": "markdown",
   "id": "cb76c5f1",
   "metadata": {},
   "source": [
    " "
   ]
  },
  {
   "cell_type": "code",
   "execution_count": 9,
   "id": "ca85dfbd",
   "metadata": {},
   "outputs": [],
   "source": [
    "# Define the non-linear model\n",
    "def model(t_u, w2, w1, b):\n",
    "    return w2* t_u ** 2 + w1 * t_u + b\n",
    "\n",
    "def loss_fn(t_p, t_c):\n",
    "    squared_diffs = (t_p - t_c) ** 2\n",
    "    return squared_diffs.mean()"
   ]
  },
  {
   "cell_type": "code",
   "execution_count": 10,
   "id": "b21d2670",
   "metadata": {},
   "outputs": [],
   "source": [
    "def training_loop(epochs, learning_rate, params, t_u, t_c):\n",
    "    for epoch in range(1, epochs + 1):\n",
    "        w2, w1, b = params\n",
    "        \n",
    "        if params.grad is not None:\n",
    "            params.grad.zero_()\n",
    "        \n",
    "        # Pass the input vars and parms into the model\n",
    "        # Find the loss and back progragate.\n",
    "        t_p = model(t_u, w2, w1, b)\n",
    "        loss = loss_fn(t_p, t_c)\n",
    "        loss.backward()\n",
    "        \n",
    "        with torch.no_grad():\n",
    "            params -= learning_rate * params.grad\n",
    "        \n",
    "        # Every 500 epoch, it will print the loss.\n",
    "        if (epoch % 500 == 0):\n",
    "            print('Epoch %d, Loss %f' % (epoch, float(loss)))\n",
    "        \n",
    "    return params"
   ]
  },
  {
   "cell_type": "code",
   "execution_count": 11,
   "id": "6ecd3bb0",
   "metadata": {},
   "outputs": [],
   "source": [
    "t_c = [0.5, 14.0, 15.0, 28.0, 11.0, 8.0, 3.0, -4.0, 6.0, 13.0, 21.0]\n",
    "t_u = [35.7, 55.9, 58.2, 81.9, 56.3, 48.9, 33.9, 21.8, 48.4, 60.4, 68.4]\n",
    "\n",
    "# Convert the list into tensors.\n",
    "t_c = torch.tensor(t_c)\n",
    "t_u = torch.tensor(t_u)\n",
    "\n",
    "# normalize the input.\n",
    "t_u_normalize = 0.1 * t_u\n",
    "\n",
    "# Set it to loop for 5000.\n",
    "NUM_EPOCHS = 5000"
   ]
  },
  {
   "cell_type": "code",
   "execution_count": 12,
   "id": "a71ed0b4",
   "metadata": {
    "scrolled": true
   },
   "outputs": [
    {
     "name": "stdout",
     "output_type": "stream",
     "text": [
      "Epoch 500, Loss nan\n",
      "Epoch 1000, Loss nan\n",
      "Epoch 1500, Loss nan\n",
      "Epoch 2000, Loss nan\n",
      "Epoch 2500, Loss nan\n",
      "Epoch 3000, Loss nan\n",
      "Epoch 3500, Loss nan\n",
      "Epoch 4000, Loss nan\n",
      "Epoch 4500, Loss nan\n",
      "Epoch 5000, Loss nan\n"
     ]
    },
    {
     "data": {
      "text/plain": [
       "tensor([nan, nan, nan], requires_grad=True)"
      ]
     },
     "execution_count": 12,
     "metadata": {},
     "output_type": "execute_result"
    }
   ],
   "source": [
    "# Call the training loop with a learning rate of .1\n",
    "LEARNING_RATE = 0.1\n",
    "params = torch.tensor([1.0, 1.0, 0.0], requires_grad=True)\n",
    "training_loop(NUM_EPOCHS, LEARNING_RATE, params, t_u_normalize, t_c)"
   ]
  },
  {
   "cell_type": "code",
   "execution_count": 13,
   "id": "99a8a7c1",
   "metadata": {},
   "outputs": [
    {
     "name": "stdout",
     "output_type": "stream",
     "text": [
      "Epoch 500, Loss nan\n",
      "Epoch 1000, Loss nan\n",
      "Epoch 1500, Loss nan\n",
      "Epoch 2000, Loss nan\n",
      "Epoch 2500, Loss nan\n",
      "Epoch 3000, Loss nan\n",
      "Epoch 3500, Loss nan\n",
      "Epoch 4000, Loss nan\n",
      "Epoch 4500, Loss nan\n",
      "Epoch 5000, Loss nan\n"
     ]
    },
    {
     "data": {
      "text/plain": [
       "tensor([nan, nan, nan], requires_grad=True)"
      ]
     },
     "execution_count": 13,
     "metadata": {},
     "output_type": "execute_result"
    }
   ],
   "source": [
    "# Call the training loop with a learning rate of .01\n",
    "LEARNING_RATE = 0.01\n",
    "params = torch.tensor([1.0, 1.0, 0.0], requires_grad=True)\n",
    "training_loop(NUM_EPOCHS, LEARNING_RATE, params, t_u_normalize, t_c)"
   ]
  },
  {
   "cell_type": "code",
   "execution_count": 14,
   "id": "e49bdf40",
   "metadata": {},
   "outputs": [
    {
     "name": "stdout",
     "output_type": "stream",
     "text": [
      "Epoch 500, Loss nan\n",
      "Epoch 1000, Loss nan\n",
      "Epoch 1500, Loss nan\n",
      "Epoch 2000, Loss nan\n",
      "Epoch 2500, Loss nan\n",
      "Epoch 3000, Loss nan\n",
      "Epoch 3500, Loss nan\n",
      "Epoch 4000, Loss nan\n",
      "Epoch 4500, Loss nan\n",
      "Epoch 5000, Loss nan\n"
     ]
    },
    {
     "data": {
      "text/plain": [
       "tensor([nan, nan, nan], requires_grad=True)"
      ]
     },
     "execution_count": 14,
     "metadata": {},
     "output_type": "execute_result"
    }
   ],
   "source": [
    "# Call the training loop with a learning rate of .001\n",
    "LEARNING_RATE = 0.001\n",
    "params = torch.tensor([1.0, 1.0, 0.0], requires_grad=True)\n",
    "training_loop(NUM_EPOCHS, LEARNING_RATE, params, t_u_normalize, t_c)"
   ]
  },
  {
   "cell_type": "code",
   "execution_count": 15,
   "id": "bd0fc9ec",
   "metadata": {},
   "outputs": [
    {
     "name": "stdout",
     "output_type": "stream",
     "text": [
      "Epoch 500, Loss 10.708596\n",
      "Epoch 1000, Loss 8.642084\n",
      "Epoch 1500, Loss 7.171004\n",
      "Epoch 2000, Loss 6.123477\n",
      "Epoch 2500, Loss 5.377228\n",
      "Epoch 3000, Loss 4.845287\n",
      "Epoch 3500, Loss 4.465787\n",
      "Epoch 4000, Loss 4.194724\n",
      "Epoch 4500, Loss 4.000801\n",
      "Epoch 5000, Loss 3.861745\n"
     ]
    },
    {
     "data": {
      "text/plain": [
       "tensor([ 0.5570, -0.8881, -0.8753], requires_grad=True)"
      ]
     },
     "execution_count": 15,
     "metadata": {},
     "output_type": "execute_result"
    }
   ],
   "source": [
    "# Call the training loop with a learning rate of .0001\n",
    "LEARNING_RATE = 0.0001\n",
    "params = torch.tensor([1.0, 1.0, 0.0], requires_grad=True)\n",
    "params_new = training_loop(NUM_EPOCHS, LEARNING_RATE, params, t_u_normalize, t_c)\n",
    "params_new"
   ]
  },
  {
   "cell_type": "code",
   "execution_count": 16,
   "id": "f8607682",
   "metadata": {},
   "outputs": [
    {
     "data": {
      "text/plain": [
       "[<matplotlib.lines.Line2D at 0x2432c0eaa30>]"
      ]
     },
     "execution_count": 16,
     "metadata": {},
     "output_type": "execute_result"
    },
    {
     "data": {
      "image/png": "[encoded data removed]",
      "text/plain": [
       "<Figure size 432x288 with 1 Axes>"
      ]
     },
     "metadata": {
      "needs_background": "light"
     },
     "output_type": "display_data"
    }
   ],
   "source": [
    "# Defined the linear model so I can plot the predicted linear values.\n",
    "def linear_model(t_u, w, b):\n",
    "    return t_u*w + b\n",
    "\n",
    "# Pass the best params with the normalize model.\n",
    "t_p = model(t_u_normalize, *params_new)\n",
    "\n",
    "# I got the params from the lecture slides\n",
    "linear_params = torch.tensor([5.3671, -17.3012])\n",
    "t_p_linear = linear_model(t_u_normalize, *linear_params)\n",
    "\n",
    "fig = plt.figure()\n",
    "# Name the x and y axis\n",
    "plt.xlabel(\"Temperature in Fahrenheit\")\n",
    "plt.ylabel(\"Temperature in Celsius\")\n",
    "\n",
    "# Plot the model and the actual values.\n",
    "plt.plot(t_u.numpy(), t_p.detach().numpy())\n",
    "plt.plot(t_u.numpy(), t_p_linear.numpy())\n",
    "plt.plot(t_u.numpy(), t_c.numpy(), 'o')"
   ]
  },
  {
   "cell_type": "markdown",
   "id": "d076145b",
   "metadata": {},
   "source": [
    "<b>Problem Three<b>"
   ]
  },
  {
   "cell_type": "code",
   "execution_count": 17,
   "id": "e4dd9a7e",
   "metadata": {},
   "outputs": [],
   "source": [
    "# A model using 6 input vars and params.\n",
    "def model(x5, x4, x3, x2, x1, w5, w4, w3, w2, w1, b):\n",
    "    return w5*x5 + w4*x4 + w3*x3 + w2*x2 + w1*x1 + b\n",
    "\n",
    "# Squared difference error loss function.\n",
    "def loss_fn(prices_p, prices):\n",
    "    squared_diffs = (prices_p - prices) ** 2\n",
    "    return squared_diffs.mean()"
   ]
  },
  {
   "cell_type": "code",
   "execution_count": 18,
   "id": "25094301",
   "metadata": {},
   "outputs": [],
   "source": [
    "def training_loop(epochs, learning_rate, params, input_vars, prices):\n",
    "    for epoch in range(1, epochs + 1):\n",
    "        \n",
    "        if params.grad is not None:\n",
    "            params.grad.zero_()\n",
    "        \n",
    "        prices_p = model(*input_vars, *params)\n",
    "        loss = loss_fn(prices_p, prices)\n",
    "        loss.backward()\n",
    "        \n",
    "        with torch.no_grad():\n",
    "            params -= learning_rate * params.grad\n",
    "        \n",
    "        if (epoch % 500 == 0):\n",
    "            print('Epoch %d, Loss %f' % (epoch, float(loss)))\n",
    "        \n",
    "    return params"
   ]
  },
  {
   "cell_type": "code",
   "execution_count": 19,
   "id": "786afd53",
   "metadata": {},
   "outputs": [],
   "source": [
    "NUM_EPOCHS = 5000\n",
    "\n",
    "# Read the data from the provided CSV files\n",
    "housing = pd.DataFrame(pd.read_csv(\"Housing.csv\"))\n",
    "\n",
    "# split the data into the input vars and the prices.\n",
    "num_vars = ['area', 'bedrooms', 'bathrooms', 'stories', 'parking']\n",
    "prices = housing['price']\n",
    "\n",
    "# Turn input, prices and params into a tensor\n",
    "input_vars = []\n",
    "for col in num_vars:\n",
    "     # Packing the tensor into a list to pass as a param\n",
    "    tensor = torch.tensor(housing[col]).float()\n",
    "    mean = torch.mean(tensor)\n",
    "    std = torch.std(tensor)\n",
    "    input_vars.append((tensor - mean) / std)\n",
    "\n",
    "prices = torch.tensor(prices.values).float()\n",
    "mean = torch.mean(prices)\n",
    "std = torch.std(prices)\n",
    "prices = (prices - mean) / std"
   ]
  },
  {
   "cell_type": "code",
   "execution_count": 20,
   "id": "1717e919",
   "metadata": {
    "scrolled": false
   },
   "outputs": [
    {
     "name": "stdout",
     "output_type": "stream",
     "text": [
      "Epoch 500, Loss 0.437613\n",
      "Epoch 1000, Loss 0.437613\n",
      "Epoch 1500, Loss 0.437613\n",
      "Epoch 2000, Loss 0.437613\n",
      "Epoch 2500, Loss 0.437613\n",
      "Epoch 3000, Loss 0.437613\n",
      "Epoch 3500, Loss 0.437613\n",
      "Epoch 4000, Loss 0.437613\n",
      "Epoch 4500, Loss 0.437613\n",
      "Epoch 5000, Loss 0.437613\n"
     ]
    },
    {
     "data": {
      "text/plain": [
       "tensor([ 3.8417e-01,  6.6217e-02,  3.0456e-01,  2.5413e-01,  1.7393e-01,\n",
       "        -8.9192e-08], requires_grad=True)"
      ]
     },
     "execution_count": 20,
     "metadata": {},
     "output_type": "execute_result"
    }
   ],
   "source": [
    "# Call the training loop with a learning rate of .1\n",
    "LEARNING_RATE = 0.1\n",
    "params = torch.tensor([1.0, 1.0, 1.0, 1.0, 1.0, 0.0], requires_grad=True)\n",
    "training_loop(NUM_EPOCHS, LEARNING_RATE, params, input_vars, prices)"
   ]
  },
  {
   "cell_type": "code",
   "execution_count": 21,
   "id": "e2a49e31",
   "metadata": {},
   "outputs": [
    {
     "name": "stdout",
     "output_type": "stream",
     "text": [
      "Epoch 500, Loss 0.437613\n",
      "Epoch 1000, Loss 0.437613\n",
      "Epoch 1500, Loss 0.437613\n",
      "Epoch 2000, Loss 0.437613\n",
      "Epoch 2500, Loss 0.437613\n",
      "Epoch 3000, Loss 0.437613\n",
      "Epoch 3500, Loss 0.437613\n",
      "Epoch 4000, Loss 0.437613\n",
      "Epoch 4500, Loss 0.437613\n",
      "Epoch 5000, Loss 0.437613\n"
     ]
    }
   ],
   "source": [
    "# Call the training loop with a learning rate of .01\n",
    "LEARNING_RATE = 0.01\n",
    "params = torch.tensor([1.0, 1.0, 1.0, 1.0, 1.0, 0.0], requires_grad=True)\n",
    "params_new = training_loop(NUM_EPOCHS, LEARNING_RATE, params, input_vars, prices)"
   ]
  },
  {
   "cell_type": "code",
   "execution_count": 22,
   "id": "0c0ec6ee",
   "metadata": {},
   "outputs": [
    {
     "name": "stdout",
     "output_type": "stream",
     "text": [
      "Epoch 500, Loss 0.571184\n",
      "Epoch 1000, Loss 0.443695\n",
      "Epoch 1500, Loss 0.438594\n",
      "Epoch 2000, Loss 0.437866\n",
      "Epoch 2500, Loss 0.437682\n",
      "Epoch 3000, Loss 0.437632\n",
      "Epoch 3500, Loss 0.437618\n",
      "Epoch 4000, Loss 0.437614\n",
      "Epoch 4500, Loss 0.437613\n",
      "Epoch 5000, Loss 0.437613\n"
     ]
    },
    {
     "data": {
      "text/plain": [
       "tensor([ 3.8400e-01,  6.6427e-02,  3.0432e-01,  2.5415e-01,  1.7415e-01,\n",
       "        -8.3366e-08], requires_grad=True)"
      ]
     },
     "execution_count": 22,
     "metadata": {},
     "output_type": "execute_result"
    }
   ],
   "source": [
    "# Call the training loop with a learning rate of .001\n",
    "LEARNING_RATE = 0.001\n",
    "params = torch.tensor([1.0, 1.0, 1.0, 1.0, 1.0, 0.0], requires_grad=True)\n",
    "training_loop(NUM_EPOCHS, LEARNING_RATE, params, input_vars, prices)"
   ]
  },
  {
   "cell_type": "code",
   "execution_count": 23,
   "id": "44ebf070",
   "metadata": {},
   "outputs": [
    {
     "name": "stdout",
     "output_type": "stream",
     "text": [
      "Epoch 500, Loss 4.270935\n",
      "Epoch 1000, Loss 3.057837\n",
      "Epoch 1500, Loss 2.230426\n",
      "Epoch 2000, Loss 1.665829\n",
      "Epoch 2500, Loss 1.280357\n",
      "Epoch 3000, Loss 1.016998\n",
      "Epoch 3500, Loss 0.836914\n",
      "Epoch 4000, Loss 0.713641\n",
      "Epoch 4500, Loss 0.629144\n",
      "Epoch 5000, Loss 0.571129\n"
     ]
    },
    {
     "data": {
      "text/plain": [
       "tensor([4.5009e-01, 2.3335e-01, 3.4422e-01, 3.6517e-01, 3.6498e-01, 1.3991e-08],\n",
       "       requires_grad=True)"
      ]
     },
     "execution_count": 23,
     "metadata": {},
     "output_type": "execute_result"
    }
   ],
   "source": [
    "# Call the training loop with a learning rate of .0001\n",
    "LEARNING_RATE = 0.0001\n",
    "params = torch.tensor([1.0, 1.0, 1.0, 1.0, 1.0, 0.0], requires_grad=True)\n",
    "training_loop(NUM_EPOCHS, LEARNING_RATE, params, input_vars, prices)"
   ]
  },
  {
   "cell_type": "code",
   "execution_count": 24,
   "id": "7341024d",
   "metadata": {},
   "outputs": [
    {
     "data": {
      "text/plain": [
       "[<matplotlib.lines.Line2D at 0x2432c1c7d30>]"
      ]
     },
     "execution_count": 24,
     "metadata": {},
     "output_type": "execute_result"
    },
    {
     "data": {
      "image/png": "[encoded data removed]",
      "text/plain": [
       "<Figure size 432x288 with 1 Axes>"
      ]
     },
     "metadata": {
      "needs_background": "light"
     },
     "output_type": "display_data"
    }
   ],
   "source": [
    "# Find the predicted prices\n",
    "prices_p = model(*input_vars, *params_new)\n",
    "\n",
    "fig = plt.figure()\n",
    "# Name the x and y axis\n",
    "plt.xlabel(\"Houses Number\")\n",
    "plt.ylabel(\"House Price\")\n",
    "\n",
    "# Plot the model and the actual values.\n",
    "plt.plot(prices_p.detach().numpy())\n",
    "plt.plot(prices.numpy(), 'o')"
   ]
  },
  {
   "cell_type": "code",
   "execution_count": null,
   "id": "bef556ba",
   "metadata": {},
   "outputs": [],
   "source": []
  },
  {
   "cell_type": "code",
   "execution_count": null,
   "id": "a2714c34",
   "metadata": {},
   "outputs": [],
   "source": []
  }
 ],
 "metadata": {
  "kernelspec": {
   "display_name": "Python 3 (ipykernel)",
   "language": "python",
   "name": "python3"
  },
  "language_info": {
   "codemirror_mode": {
    "name": "ipython",
    "version": 3
   },
   "file_extension": ".py",
   "mimetype": "text/x-python",
   "name": "python",
   "nbconvert_exporter": "python",
   "pygments_lexer": "ipython3",
   "version": "3.8.12"
  }
 },
 "nbformat": 4,
 "nbformat_minor": 5
}
