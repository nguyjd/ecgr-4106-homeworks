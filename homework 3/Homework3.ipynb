{
 "cells": [
  {
   "cell_type": "markdown",
   "id": "91f9a9d1",
   "metadata": {},
   "source": [
    "Jonathon Nguyen\n",
    "\n",
    "ID: 801093003\n",
    "\n",
    "Homework 3"
   ]
  },
  {
   "cell_type": "code",
   "execution_count": 1,
   "id": "3ef050df",
   "metadata": {},
   "outputs": [],
   "source": [
    "import torch\n",
    "import torch.nn as nn\n",
    "import torch.nn.functional as f\n",
    "from torchvision import datasets\n",
    "import torch.optim as optim\n",
    "\n",
    "import time\n",
    "import datetime\n",
    "import numpy as np\n",
    "from PIL import Image\n",
    "import pandas as pd\n",
    "from matplotlib import pyplot as plt"
   ]
  },
  {
   "cell_type": "markdown",
   "id": "3535e0e2",
   "metadata": {},
   "source": [
    "<b>Problem 1a</b>  \n",
    "Build a Convolutional Neural Network, like what we built in lectures (without skip connections), to classify the images across all 10 classes in CIFAR 10. \n",
    "\n",
    "You need to adjust the fully connected layer at the end properly with respect to the number of output classes. Train your network for 300 epochs. \n",
    "\n",
    "Report your training time, training loss, and evaluation accuracy after 300 epochs. Analyze your results in your report and compare them against a fully connected network (homework 2) on training time, achieved accuracy, and model size. Make sure to submit your code by providing the GitHub URL of your course repository for this course."
   ]
  },
  {
   "cell_type": "code",
   "execution_count": 2,
   "id": "65a21195",
   "metadata": {},
   "outputs": [],
   "source": [
    "class CNN(nn.Module):\n",
    "    def __init__(self, n_channels1 = 32):\n",
    "        super().__init__()\n",
    "        self.n_channels1 = n_channels1\n",
    "        self.conv1 = nn.Conv2d(3, self.n_channels1, kernel_size = 3, padding = 1)\n",
    "        self.conv2 = nn.Conv2d(n_channels1, (self.n_channels1 // 2), kernel_size = 3, padding = 1)\n",
    "        self.fc1 = nn.Linear(8 * 8 * (self.n_channels1 // 2), 32)\n",
    "        self.fc2 = nn.Linear(32, 10)\n",
    "        \n",
    "    def forward(self, x):\n",
    "        out = f.max_pool2d(torch.relu(self.conv1(x)), 2)\n",
    "        out = f.max_pool2d(torch.relu(self.conv2(out)), 2)\n",
    "        out = out.view(-1, 8 * 8 * (self.n_channels1 // 2))\n",
    "        out = torch.relu(self.fc1(out))\n",
    "        out = self.fc2(out)\n",
    "        return out\n",
    "        "
   ]
  },
  {
   "cell_type": "code",
   "execution_count": 3,
   "id": "9d98971f",
   "metadata": {},
   "outputs": [],
   "source": [
    "def training_loop(epochs, optimizer, model, loss_fn, train_loader, val_loader):\n",
    "    training_losses = []\n",
    "    val_losses = []\n",
    "    accuracies = []\n",
    "    for epoch in range(1, epochs + 1):\n",
    "        # Temp vars for use in finding the accuracy.\n",
    "        correct_labels = 0\n",
    "        count = 0\n",
    "        loss_val_value = 0\n",
    "        \n",
    "        #Set the model to inference mode\n",
    "        model.eval()\n",
    "        with torch.no_grad():\n",
    "            for imgs, labels in val_loader:\n",
    "                # Move the data to correct device\n",
    "                imgs = imgs.to(device=device)\n",
    "                labels = labels.to(device=device)\n",
    "                \n",
    "                # Pass imgs through the model and find the loss.\n",
    "                output = model(imgs)\n",
    "                loss_val = loss_fn(output, labels)\n",
    "                loss_val_value += float(loss_val)\n",
    "                \n",
    "                # Find the accurcey of the model.\n",
    "                _, predicted = torch.max(output, dim=1)\n",
    "                count += labels.shape[0]\n",
    "                correct_labels += int((predicted == labels).sum())\n",
    "            \n",
    "            # Store the loss and accuracy.\n",
    "            loss_val_value /= len(val_loader)\n",
    "            val_losses.append(loss_val_value)\n",
    "            accuracies.append(correct_labels/count)\n",
    "        \n",
    "        #Set the model to training mode.\n",
    "        model.train()\n",
    "        loss_train_value = 0\n",
    "        for imgs, labels in train_loader:\n",
    "            # Move the data to correct device\n",
    "            imgs = imgs.to(device=device)\n",
    "            labels = labels.to(device=device)\n",
    "            \n",
    "            # Pass imgs through the model and find the loss.\n",
    "            output = model(imgs)\n",
    "            loss_train = loss_fn(output, labels)\n",
    "            loss_train_value += float(loss_train)\n",
    "            \n",
    "            # Adject the params\n",
    "            optimizer.zero_grad()\n",
    "            loss_train.backward()\n",
    "            optimizer.step()\n",
    "        \n",
    "        # Store the loss\n",
    "        loss_train_value /= len(train_loader)\n",
    "        training_losses.append(loss_train_value)\n",
    "        \n",
    "        # Print out the loss every 10 epoch\n",
    "        if epoch % 10 == 0 or epoch == 1:\n",
    "            print(f\"Epoch: {epoch}, Training Loss: {loss_train_value}\", end=\"\")\n",
    "            print(f\", Validation Loss: {loss_val_value}, Accuracy: {(correct_labels/count)*100}%\")\n",
    "        \n",
    "    return training_losses, val_losses, accuracies"
   ]
  },
  {
   "cell_type": "code",
   "execution_count": 4,
   "id": "372047cd",
   "metadata": {},
   "outputs": [],
   "source": [
    "from torchvision import transforms\n",
    "\n",
    "transforms = transforms.Compose([\n",
    "    transforms.ToTensor(),\n",
    "    transforms.Normalize((0.4915, 0.4823, 0.4468),\n",
    "                         (0.2470, 0.2435, 0.2616))\n",
    "])"
   ]
  },
  {
   "cell_type": "code",
   "execution_count": 5,
   "id": "a306c0de",
   "metadata": {},
   "outputs": [
    {
     "name": "stdout",
     "output_type": "stream",
     "text": [
      "Files already downloaded and verified\n",
      "Files already downloaded and verified\n"
     ]
    }
   ],
   "source": [
    "# Download the cifar10 dataset.\n",
    "data = '.\\cifar10'\n",
    "cirfar10_train = datasets.CIFAR10(data, train=True, download=True, transform=transforms)\n",
    "cirfar10_val = datasets.CIFAR10(data, train=False, download=True, transform=transforms)"
   ]
  },
  {
   "cell_type": "code",
   "execution_count": 6,
   "id": "73711c77",
   "metadata": {},
   "outputs": [
    {
     "name": "stdout",
     "output_type": "stream",
     "text": [
      "Training on cuda\n"
     ]
    }
   ],
   "source": [
    "if torch.cuda.is_available():\n",
    "    device = 'cuda'\n",
    "else:\n",
    "    device = 'cpu'\n",
    "    \n",
    "print(f\"Training on {device}\")"
   ]
  },
  {
   "cell_type": "code",
   "execution_count": 7,
   "id": "73622bc2",
   "metadata": {
    "scrolled": true
   },
   "outputs": [],
   "source": [
    "NUM_EPOCHS = 300\n",
    "LEARNING_RATE = 1e-2\n",
    "BATCH_SIZE = 1024\n",
    "\n",
    "model = CNN().to(device=device)\n",
    "\n",
    "loss = nn.CrossEntropyLoss()\n",
    "optimizer = optim.SGD(model.parameters(), lr=LEARNING_RATE)\n",
    "\n",
    "# Load the data into a dataloaders.\n",
    "train_loader = torch.utils.data.DataLoader(cirfar10_train, \n",
    "                                           batch_size=BATCH_SIZE, \n",
    "                                           shuffle=True, \n",
    "                                           pin_memory=True, \n",
    "                                           persistent_workers=True, \n",
    "                                           num_workers=6)\n",
    "\n",
    "val_loader = torch.utils.data.DataLoader(cirfar10_val, \n",
    "                                         batch_size=BATCH_SIZE, \n",
    "                                         shuffle=False, \n",
    "                                         pin_memory=True, \n",
    "                                         persistent_workers=True, \n",
    "                                         num_workers=3)"
   ]
  },
  {
   "cell_type": "code",
   "execution_count": 8,
   "id": "a624deef",
   "metadata": {},
   "outputs": [
    {
     "name": "stdout",
     "output_type": "stream",
     "text": [
      "Epoch: 1, Training Loss: 2.305602535909536, Validation Loss: 2.3121751308441163, Accuracy: 10.11%\n",
      "Epoch: 10, Training Loss: 1.9291672998545122, Validation Loss: 1.9370896935462951, Accuracy: 31.990000000000002%\n",
      "Epoch: 20, Training Loss: 1.6594633472209075, Validation Loss: 1.6585296273231507, Accuracy: 41.449999999999996%\n",
      "Epoch: 30, Training Loss: 1.498929965252779, Validation Loss: 1.4898319244384766, Accuracy: 47.03%\n",
      "Epoch: 40, Training Loss: 1.404080512572308, Validation Loss: 1.38954336643219, Accuracy: 50.32%\n",
      "Epoch: 50, Training Loss: 1.3129716357406305, Validation Loss: 1.3112048983573914, Accuracy: 53.080000000000005%\n",
      "Epoch: 60, Training Loss: 1.250903961609821, Validation Loss: 1.274636197090149, Accuracy: 54.769999999999996%\n",
      "Epoch: 70, Training Loss: 1.2004633825652453, Validation Loss: 1.2412559151649476, Accuracy: 55.60000000000001%\n",
      "Epoch: 80, Training Loss: 1.1685705890460891, Validation Loss: 1.180311143398285, Accuracy: 58.29%\n",
      "Epoch: 90, Training Loss: 1.1148327467392902, Validation Loss: 1.1465291619300841, Accuracy: 59.599999999999994%\n",
      "Epoch: 100, Training Loss: 1.0835568929205135, Validation Loss: 1.1290300011634826, Accuracy: 60.419999999999995%\n",
      "Epoch: 110, Training Loss: 1.040319793078364, Validation Loss: 1.0970861792564393, Accuracy: 61.370000000000005%\n",
      "Epoch: 120, Training Loss: 1.0210050964842037, Validation Loss: 1.0693644762039185, Accuracy: 62.55%\n",
      "Epoch: 130, Training Loss: 0.9863086695573768, Validation Loss: 1.068938946723938, Accuracy: 62.28%\n",
      "Epoch: 140, Training Loss: 0.9650118813222769, Validation Loss: 1.060538363456726, Accuracy: 62.82%\n",
      "Epoch: 150, Training Loss: 0.9441507507343682, Validation Loss: 1.1016021490097045, Accuracy: 61.69%\n",
      "Epoch: 160, Training Loss: 0.9199867649954192, Validation Loss: 1.008621096611023, Accuracy: 64.28%\n",
      "Epoch: 170, Training Loss: 0.9015746554549859, Validation Loss: 0.985485726594925, Accuracy: 65.75%\n",
      "Epoch: 180, Training Loss: 0.8713095017841884, Validation Loss: 0.9721763849258422, Accuracy: 66.18%\n",
      "Epoch: 190, Training Loss: 0.8544519677454111, Validation Loss: 0.972357428073883, Accuracy: 66.34%\n",
      "Epoch: 200, Training Loss: 0.8382194236833223, Validation Loss: 0.9563979089260102, Accuracy: 66.66%\n",
      "Epoch: 210, Training Loss: 0.823471369792004, Validation Loss: 0.9828782200813293, Accuracy: 65.89%\n",
      "Epoch: 220, Training Loss: 0.8206155519096219, Validation Loss: 0.9883782267570496, Accuracy: 65.74%\n",
      "Epoch: 230, Training Loss: 0.8036479645845841, Validation Loss: 0.9642310738563538, Accuracy: 66.67999999999999%\n",
      "Epoch: 240, Training Loss: 0.784364217398118, Validation Loss: 0.9555550694465638, Accuracy: 67.39%\n",
      "Epoch: 250, Training Loss: 0.7736416568561476, Validation Loss: 0.9365805327892304, Accuracy: 67.52%\n",
      "Epoch: 260, Training Loss: 0.7591804983664532, Validation Loss: 0.9473631143569946, Accuracy: 67.5%\n",
      "Epoch: 270, Training Loss: 0.7483133138442526, Validation Loss: 0.930991780757904, Accuracy: 68.01%\n",
      "Epoch: 280, Training Loss: 0.7451121369186713, Validation Loss: 0.930854070186615, Accuracy: 68.34%\n",
      "Epoch: 290, Training Loss: 0.7307489404872972, Validation Loss: 0.9203104794025421, Accuracy: 68.23%\n",
      "Epoch: 300, Training Loss: 0.7214466004955525, Validation Loss: 0.941399747133255, Accuracy: 67.60000000000001%\n",
      " \n",
      "Final Loss: 0.7214466004955525, Final Accuracy: 67.60000000000001%\n",
      "Training Time: 863.33 seconds\n"
     ]
    }
   ],
   "source": [
    "try:\n",
    "    # Using time to time the training.\n",
    "    start_time = time.time()\n",
    "    training_losses, val_losses, accuracies = training_loop(NUM_EPOCHS, optimizer, model, loss, train_loader, val_loader)\n",
    "    end_time = time.time()\n",
    "except Exception as err:\n",
    "    print(err)\n",
    "finally:\n",
    "    # Close the threads\n",
    "    try:\n",
    "        train_loader._iterator._shutdown_workers()\n",
    "    except Exception as err:\n",
    "        print(err)\n",
    "        print(\"[Training loader]: Could not shutdown the workers. Might not have spawn yet.\")\n",
    "\n",
    "    try:\n",
    "        val_loader._iterator._shutdown_workers()\n",
    "    except Exception as err:\n",
    "        print(err)\n",
    "        print(\"[Validation loader]: Could not shutdown the workers. Might not have spawn yet.\")\n",
    "\n",
    "# Report the final stats about the training.\n",
    "print(\" \")\n",
    "print(f\"Final Loss: {training_losses[-1]}, Final Accuracy: {accuracies[-1] * 100}%\")\n",
    "print(f\"Training Time: {(end_time - start_time):.2f} seconds\")"
   ]
  },
  {
   "cell_type": "code",
   "execution_count": 9,
   "id": "04b034cc",
   "metadata": {},
   "outputs": [
    {
     "data": {
      "text/plain": [
       "Text(0.5, 1.0, 'Problem 1a Losses')"
      ]
     },
     "execution_count": 9,
     "metadata": {},
     "output_type": "execute_result"
    },
    {
     "data": {
      "image/png": "[encoded data removed]",
      "text/plain": [
       "<Figure size 432x288 with 1 Axes>"
      ]
     },
     "metadata": {
      "needs_background": "light"
     },
     "output_type": "display_data"
    }
   ],
   "source": [
    "# Plotting the Losses\n",
    "\n",
    "fig = plt.figure()\n",
    "# Name the x and y axis\n",
    "plt.xlabel(\"Epochs\")\n",
    "plt.ylabel(\"Loss\")\n",
    "\n",
    "# Plot the model and the actual values.\n",
    "plt.plot(training_losses, label='Training loss')\n",
    "plt.plot(val_losses, label='Validation loss')\n",
    "plt.legend()\n",
    "plt.title(\"Problem 1a Losses\")"
   ]
  },
  {
   "cell_type": "code",
   "execution_count": 10,
   "id": "583245f7",
   "metadata": {},
   "outputs": [
    {
     "data": {
      "text/plain": [
       "Text(0.5, 1.0, 'Problem 1a Accuracy')"
      ]
     },
     "execution_count": 10,
     "metadata": {},
     "output_type": "execute_result"
    },
    {
     "data": {
      "image/png": "[encoded data removed]",
      "text/plain": [
       "<Figure size 432x288 with 1 Axes>"
      ]
     },
     "metadata": {
      "needs_background": "light"
     },
     "output_type": "display_data"
    }
   ],
   "source": [
    "# Plotting the accuracy of the model.\n",
    "\n",
    "fig = plt.figure()\n",
    "# Name the x and y axis\n",
    "plt.xlabel(\"Epochs\")\n",
    "plt.ylabel(\"Percents\")\n",
    "\n",
    "for i, x in enumerate(accuracies):\n",
    "    accuracies[i] = x * 100\n",
    "    \n",
    "\n",
    "plt.plot(accuracies, label='Accuracy')\n",
    "plt.legend()\n",
    "plt.title(\"Problem 1a Accuracy\")"
   ]
  },
  {
   "cell_type": "markdown",
   "id": "f6ea1830",
   "metadata": {},
   "source": [
    "<b>Problem 1b</b>  \n",
    "Extend your CNN by adding one more additional convolution layer followed by an activation function and pooling function. \n",
    "\n",
    "You also need to adjust your fully connected layer properly with respect to intermediate feature dimensions. \n",
    "\n",
    "Train your network for 300 epochs. Report your training time, loss, and evaluation accuracy after 300 epochs. Analyze your results in your report and compare your model size and accuracy over the baseline implementation in Problem1a. Do you see any over-fitting? Make sure to submit your code by providing the GitHub URL of your course repository for this course."
   ]
  },
  {
   "cell_type": "code",
   "execution_count": 11,
   "id": "4f7df7d3",
   "metadata": {},
   "outputs": [],
   "source": [
    "class CNN2(nn.Module):\n",
    "    def __init__(self, n_channels1 = 32):\n",
    "        super().__init__()\n",
    "        self.n_channels1 = n_channels1\n",
    "        self.conv1 = nn.Conv2d(3, self.n_channels1, kernel_size = 3, padding = 1)\n",
    "        self.conv2 = nn.Conv2d(n_channels1, (self.n_channels1 // 2), kernel_size = 3, padding = 1)\n",
    "        self.conv3 = nn.Conv2d((self.n_channels1 // 2), (self.n_channels1 // 4), kernel_size = 3, padding = 1)\n",
    "        self.fc1 = nn.Linear(4 * 4 * (self.n_channels1 // 4), 32)\n",
    "        self.fc2 = nn.Linear(32, 10)\n",
    "        \n",
    "    def forward(self, x):\n",
    "        out = f.max_pool2d(torch.relu(self.conv1(x)), 2)\n",
    "        out = f.max_pool2d(torch.relu(self.conv2(out)), 2)\n",
    "        out = f.max_pool2d(torch.relu(self.conv3(out)), 2)\n",
    "        out = out.view(-1, 4 * 4 * (self.n_channels1 // 4))\n",
    "        out = torch.tanh(self.fc1(out))\n",
    "        out = self.fc2(out)\n",
    "        return out"
   ]
  },
  {
   "cell_type": "code",
   "execution_count": 12,
   "id": "c2098a0d",
   "metadata": {},
   "outputs": [],
   "source": [
    "NUM_EPOCHS = 300\n",
    "LEARNING_RATE = 1e-2\n",
    "BATCH_SIZE = 1024\n",
    "\n",
    "model = CNN2().to(device=device)\n",
    "\n",
    "loss = nn.CrossEntropyLoss()\n",
    "optimizer = optim.SGD(model.parameters(), lr=LEARNING_RATE)\n",
    "\n",
    "# Load the data into a dataloaders.\n",
    "train_loader = torch.utils.data.DataLoader(cirfar10_train, \n",
    "                                           batch_size=BATCH_SIZE, \n",
    "                                           shuffle=True,\n",
    "                                           pin_memory=True, \n",
    "                                           persistent_workers=True, \n",
    "                                           num_workers=6)\n",
    "\n",
    "val_loader = torch.utils.data.DataLoader(cirfar10_val, \n",
    "                                         batch_size=BATCH_SIZE, \n",
    "                                         shuffle=False, \n",
    "                                         pin_memory=True, \n",
    "                                         persistent_workers=True, \n",
    "                                         num_workers=3)"
   ]
  },
  {
   "cell_type": "code",
   "execution_count": 13,
   "id": "109d987b",
   "metadata": {},
   "outputs": [
    {
     "name": "stdout",
     "output_type": "stream",
     "text": [
      "Epoch: 1, Training Loss: 2.3107252412912795, Validation Loss: 2.3120309114456177, Accuracy: 8.450000000000001%\n",
      "Epoch: 10, Training Loss: 2.225430070137491, Validation Loss: 2.241087627410889, Accuracy: 16.509999999999998%\n",
      "Epoch: 20, Training Loss: 1.919831531388419, Validation Loss: 1.9262834191322327, Accuracy: 30.85%\n",
      "Epoch: 30, Training Loss: 1.771781408056921, Validation Loss: 1.7778437852859497, Accuracy: 36.55%\n",
      "Epoch: 40, Training Loss: 1.6699672888736337, Validation Loss: 1.67917320728302, Accuracy: 39.26%\n",
      "Epoch: 50, Training Loss: 1.5859574055185124, Validation Loss: 1.5968814849853517, Accuracy: 42.309999999999995%\n",
      "Epoch: 60, Training Loss: 1.5406970272258835, Validation Loss: 1.5358842253684997, Accuracy: 44.06%\n",
      "Epoch: 70, Training Loss: 1.4918825675030143, Validation Loss: 1.4969459056854248, Accuracy: 45.48%\n",
      "Epoch: 80, Training Loss: 1.4478091877333972, Validation Loss: 1.4377393960952758, Accuracy: 47.599999999999994%\n",
      "Epoch: 90, Training Loss: 1.393387383344222, Validation Loss: 1.418656086921692, Accuracy: 48.51%\n",
      "Epoch: 100, Training Loss: 1.3519291537148612, Validation Loss: 1.3555461406707763, Accuracy: 50.870000000000005%\n",
      "Epoch: 110, Training Loss: 1.3360169663721202, Validation Loss: 1.3206599950790405, Accuracy: 52.31%\n",
      "Epoch: 120, Training Loss: 1.2982215686720244, Validation Loss: 1.307943093776703, Accuracy: 52.900000000000006%\n",
      "Epoch: 130, Training Loss: 1.2628063401397394, Validation Loss: 1.2673134207725525, Accuracy: 54.33%\n",
      "Epoch: 140, Training Loss: 1.2394342957710733, Validation Loss: 1.2563806533813477, Accuracy: 54.97%\n",
      "Epoch: 150, Training Loss: 1.2041479446450059, Validation Loss: 1.2186126470565797, Accuracy: 56.67%\n",
      "Epoch: 160, Training Loss: 1.1788364892103234, Validation Loss: 1.1935233354568482, Accuracy: 57.550000000000004%\n",
      "Epoch: 170, Training Loss: 1.1528086200052379, Validation Loss: 1.1723742246627809, Accuracy: 58.34%\n",
      "Epoch: 180, Training Loss: 1.132169314793178, Validation Loss: 1.1733972311019898, Accuracy: 58.4%\n",
      "Epoch: 190, Training Loss: 1.1105279289946264, Validation Loss: 1.1681254982948304, Accuracy: 58.830000000000005%\n",
      "Epoch: 200, Training Loss: 1.0856285800739212, Validation Loss: 1.103242003917694, Accuracy: 60.97%\n",
      "Epoch: 210, Training Loss: 1.0608316489628382, Validation Loss: 1.0964473843574525, Accuracy: 61.42999999999999%\n",
      "Epoch: 220, Training Loss: 1.041700552920906, Validation Loss: 1.0695664763450623, Accuracy: 62.63999999999999%\n",
      "Epoch: 230, Training Loss: 1.025863842088349, Validation Loss: 1.0565487027168274, Accuracy: 63.49%\n",
      "Epoch: 240, Training Loss: 1.0261672710885807, Validation Loss: 1.054923701286316, Accuracy: 63.27%\n",
      "Epoch: 250, Training Loss: 1.0010512909110711, Validation Loss: 1.07077499628067, Accuracy: 63.0%\n",
      "Epoch: 260, Training Loss: 0.9876439267275284, Validation Loss: 1.0265835285186768, Accuracy: 64.49000000000001%\n",
      "Epoch: 270, Training Loss: 0.9740931914777172, Validation Loss: 1.0217670798301697, Accuracy: 64.49000000000001%\n",
      "Epoch: 280, Training Loss: 0.9629652706944213, Validation Loss: 1.0164479315280914, Accuracy: 64.72%\n",
      "Epoch: 290, Training Loss: 0.9460890244464485, Validation Loss: 1.0086148858070374, Accuracy: 64.68%\n",
      "Epoch: 300, Training Loss: 0.9415717161431605, Validation Loss: 0.9943061351776123, Accuracy: 65.53999999999999%\n",
      " \n",
      "Final Loss: 0.9415717161431605, Final Accuracy: 65.53999999999999%\n",
      "Training Time: 826.61 seconds\n"
     ]
    }
   ],
   "source": [
    "try:\n",
    "    # Using time to time the training.\n",
    "    start_time = time.time()\n",
    "    training_losses, val_losses, accuracies = training_loop(NUM_EPOCHS, optimizer, model, loss, train_loader, val_loader)\n",
    "    end_time = time.time()\n",
    "except Exception as err:\n",
    "    print(err)\n",
    "finally:\n",
    "    # Close the threads\n",
    "    try:\n",
    "        train_loader._iterator._shutdown_workers()\n",
    "    except Exception as err:\n",
    "        print(err)\n",
    "        print(\"[Training loader]: Could not shutdown the workers. Might not have spawn yet.\")\n",
    "\n",
    "    try:\n",
    "        val_loader._iterator._shutdown_workers()\n",
    "    except Exception as err:\n",
    "        print(err)\n",
    "        print(\"[Validation loader]: Could not shutdown the workers. Might not have spawn yet.\")\n",
    "\n",
    "# Report the final stats about the training.\n",
    "print(\" \")\n",
    "print(f\"Final Loss: {training_losses[-1]}, Final Accuracy: {accuracies[-1] * 100}%\")\n",
    "print(f\"Training Time: {(end_time - start_time):.2f} seconds\")"
   ]
  },
  {
   "cell_type": "code",
   "execution_count": 14,
   "id": "00061247",
   "metadata": {},
   "outputs": [
    {
     "data": {
      "text/plain": [
       "Text(0.5, 1.0, 'Problem 1b Losses')"
      ]
     },
     "execution_count": 14,
     "metadata": {},
     "output_type": "execute_result"
    },
    {
     "data": {
      "image/png": "[encoded data removed]",
      "text/plain": [
       "<Figure size 432x288 with 1 Axes>"
      ]
     },
     "metadata": {
      "needs_background": "light"
     },
     "output_type": "display_data"
    }
   ],
   "source": [
    "# Plotting the Losses\n",
    "\n",
    "fig = plt.figure()\n",
    "# Name the x and y axis\n",
    "plt.xlabel(\"Epochs\")\n",
    "plt.ylabel(\"Loss\")\n",
    "\n",
    "# Plot the model and the actual values.\n",
    "plt.plot(training_losses, label='Training loss')\n",
    "plt.plot(val_losses, label='Validation loss')\n",
    "plt.legend()\n",
    "plt.title(\"Problem 1b Losses\")"
   ]
  },
  {
   "cell_type": "code",
   "execution_count": 15,
   "id": "47443ec1",
   "metadata": {},
   "outputs": [
    {
     "data": {
      "text/plain": [
       "Text(0.5, 1.0, 'Problem 1b Accuracy')"
      ]
     },
     "execution_count": 15,
     "metadata": {},
     "output_type": "execute_result"
    },
    {
     "data": {
      "image/png": "[encoded data removed]",
      "text/plain": [
       "<Figure size 432x288 with 1 Axes>"
      ]
     },
     "metadata": {
      "needs_background": "light"
     },
     "output_type": "display_data"
    }
   ],
   "source": [
    "# Plotting the accuracy of the model.\n",
    "\n",
    "fig = plt.figure()\n",
    "# Name the x and y axis\n",
    "plt.xlabel(\"Epochs\")\n",
    "plt.ylabel(\"Percents\")\n",
    "\n",
    "for i, x in enumerate(accuracies):\n",
    "    accuracies[i] = x * 100\n",
    "    \n",
    "\n",
    "plt.plot(accuracies, label='Accuracy')\n",
    "plt.legend()\n",
    "plt.title(\"Problem 1b Accuracy\")"
   ]
  },
  {
   "cell_type": "code",
   "execution_count": 16,
   "id": "f8f70eb2",
   "metadata": {},
   "outputs": [
    {
     "name": "stdout",
     "output_type": "stream",
     "text": [
      "Problem 1 Part a\n",
      "Model size: 38.65 k\n",
      "\n",
      "Problem 1 Part b\n",
      "Model size: 11.14 k\n"
     ]
    }
   ],
   "source": [
    "from ptflops import get_model_complexity_info\n",
    "\n",
    "model_p1a = CNN()\n",
    "model_p1b = CNN2()\n",
    "\n",
    "macs, params = get_model_complexity_info(model_p1a, (3, 32, 32), as_strings=True,\n",
    " print_per_layer_stat=False, verbose=False)\n",
    "# print out the Model size.\n",
    "print(\"Problem 1 Part a\")\n",
    "print(\"Model size: \" + params)\n",
    "\n",
    "print(\"\")\n",
    "\n",
    "macs, params = get_model_complexity_info(model_p1b, (3, 32, 32), as_strings=True,\n",
    " print_per_layer_stat=False, verbose=False)\n",
    "# print out the Model size.\n",
    "print(\"Problem 1 Part b\")\n",
    "print(\"Model size: \" + params)"
   ]
  },
  {
   "cell_type": "markdown",
   "id": "9e9cf309",
   "metadata": {},
   "source": [
    "<b>Problem 2a</b>  \n",
    "Build a ResNet based Convolutional Neural Network, like what we built in lectures (with skip connections), to classify the images across all 10 classes in CIFAR 10. For this problem, let’s use 10 blocks for ResNet and call it ResNet-10.  \n",
    "Use the similar dimensions and channels as we need in lectures. \n",
    "  \n",
    "Train your network for 300 epochs. Report your training time, training loss, and evaluation accuracy after 300 epochs. \n",
    "  \n",
    "Analyze your results in your report and compare them against problem 1.b on training time, achieved accuracy, and model size. \n",
    "Make sure to submit your code by providing the GitHub URL of your course repository for this course."
   ]
  },
  {
   "cell_type": "code",
   "execution_count": 7,
   "id": "0521428c",
   "metadata": {},
   "outputs": [],
   "source": [
    "class ResBlock(nn.Module):\n",
    "    def __init__(self, n_channels1):\n",
    "        super(ResBlock, self).__init__()\n",
    "        self.conv = nn.Conv2d(n_channels1, n_channels1, kernel_size = 3, padding = 1)\n",
    "        \n",
    "    def forward(self, x):\n",
    "        out = self.conv(x)\n",
    "        return torch.relu(out + x)"
   ]
  },
  {
   "cell_type": "code",
   "execution_count": 8,
   "id": "60667ef8",
   "metadata": {},
   "outputs": [],
   "source": [
    "class ResNet(nn.Module):\n",
    "    def __init__(self, n_channels1, n_blocks):\n",
    "        super().__init__()\n",
    "        self.n_channels1 = n_channels1\n",
    "        self.conv1 = nn.Conv2d(3, self.n_channels1, kernel_size = 3, padding = 1)\n",
    "        self.blocks = nn.Sequential(*(n_blocks * [ResBlock(n_channels1=self.n_channels1)]))\n",
    "        self.fc1 = nn.Linear(8 * 8 * self.n_channels1, 32)\n",
    "        self.fc2 = nn.Linear(32, 10)\n",
    "    \n",
    "    def forward(self, x):\n",
    "        out = f.max_pool2d(torch.relu(self.conv1(x)), 2)\n",
    "        out = f.max_pool2d(self.blocks(out), 2)\n",
    "        out = out.view(-1, 8 * 8 * self.n_channels1)\n",
    "        out = torch.relu(self.fc1(out))\n",
    "        out = self.fc2(out)\n",
    "        return out"
   ]
  },
  {
   "cell_type": "code",
   "execution_count": 9,
   "id": "744df635",
   "metadata": {},
   "outputs": [],
   "source": [
    "NUM_EPOCHS = 300\n",
    "LEARNING_RATE = 1e-2\n",
    "BATCH_SIZE = 1024\n",
    "NUM_CHANNELS = 32\n",
    "BLOCKS = 10\n",
    "\n",
    "model = ResNet(NUM_CHANNELS, BLOCKS).to(device=device)\n",
    "\n",
    "loss = nn.CrossEntropyLoss()\n",
    "optimizer = optim.SGD(model.parameters(), lr=LEARNING_RATE)\n",
    "\n",
    "# Load the data into a dataloaders.\n",
    "train_loader = torch.utils.data.DataLoader(cirfar10_train, \n",
    "                                           batch_size=BATCH_SIZE, \n",
    "                                           shuffle=True,\n",
    "                                           pin_memory=True, \n",
    "                                           persistent_workers=True, \n",
    "                                           num_workers=6)\n",
    "\n",
    "val_loader = torch.utils.data.DataLoader(cirfar10_val, \n",
    "                                         batch_size=BATCH_SIZE, \n",
    "                                         shuffle=False, \n",
    "                                         pin_memory=True, \n",
    "                                         persistent_workers=True, \n",
    "                                         num_workers=3)"
   ]
  },
  {
   "cell_type": "code",
   "execution_count": 16,
   "id": "8ad3a6f6",
   "metadata": {},
   "outputs": [
    {
     "name": "stdout",
     "output_type": "stream",
     "text": [
      "'NoneType' object has no attribute '_shutdown_workers'\n",
      "[Training loader]: Could not shutdown the workers. Might not have spawn yet.\n",
      "'NoneType' object has no attribute '_shutdown_workers'\n",
      "[Validation loader]: Could not shutdown the workers. Might not have spawn yet.\n"
     ]
    },
    {
     "ename": "KeyboardInterrupt",
     "evalue": "",
     "output_type": "error",
     "traceback": [
      "\u001b[1;31m---------------------------------------------------------------------------\u001b[0m",
      "\u001b[1;31mKeyboardInterrupt\u001b[0m                         Traceback (most recent call last)",
      "\u001b[1;32mC:\\Users\\JONATH~1\\AppData\\Local\\Temp/ipykernel_13008/1475586708.py\u001b[0m in \u001b[0;36m<module>\u001b[1;34m\u001b[0m\n\u001b[0;32m      2\u001b[0m     \u001b[1;31m# Using time to time the training.\u001b[0m\u001b[1;33m\u001b[0m\u001b[1;33m\u001b[0m\u001b[1;33m\u001b[0m\u001b[0m\n\u001b[0;32m      3\u001b[0m     \u001b[0mstart_time\u001b[0m \u001b[1;33m=\u001b[0m \u001b[0mtime\u001b[0m\u001b[1;33m.\u001b[0m\u001b[0mtime\u001b[0m\u001b[1;33m(\u001b[0m\u001b[1;33m)\u001b[0m\u001b[1;33m\u001b[0m\u001b[1;33m\u001b[0m\u001b[0m\n\u001b[1;32m----> 4\u001b[1;33m     \u001b[0mtraining_losses\u001b[0m\u001b[1;33m,\u001b[0m \u001b[0mval_losses\u001b[0m\u001b[1;33m,\u001b[0m \u001b[0maccuracies\u001b[0m \u001b[1;33m=\u001b[0m \u001b[0mtraining_loop\u001b[0m\u001b[1;33m(\u001b[0m\u001b[0mNUM_EPOCHS\u001b[0m\u001b[1;33m,\u001b[0m \u001b[0moptimizer\u001b[0m\u001b[1;33m,\u001b[0m \u001b[0mmodel\u001b[0m\u001b[1;33m,\u001b[0m \u001b[0mloss\u001b[0m\u001b[1;33m,\u001b[0m \u001b[0mtrain_loader\u001b[0m\u001b[1;33m,\u001b[0m \u001b[0mval_loader\u001b[0m\u001b[1;33m)\u001b[0m\u001b[1;33m\u001b[0m\u001b[1;33m\u001b[0m\u001b[0m\n\u001b[0m\u001b[0;32m      5\u001b[0m     \u001b[0mend_time\u001b[0m \u001b[1;33m=\u001b[0m \u001b[0mtime\u001b[0m\u001b[1;33m.\u001b[0m\u001b[0mtime\u001b[0m\u001b[1;33m(\u001b[0m\u001b[1;33m)\u001b[0m\u001b[1;33m\u001b[0m\u001b[1;33m\u001b[0m\u001b[0m\n\u001b[0;32m      6\u001b[0m \u001b[1;32mexcept\u001b[0m \u001b[0mException\u001b[0m \u001b[1;32mas\u001b[0m \u001b[0merr\u001b[0m\u001b[1;33m:\u001b[0m\u001b[1;33m\u001b[0m\u001b[1;33m\u001b[0m\u001b[0m\n",
      "\u001b[1;32mC:\\Users\\JONATH~1\\AppData\\Local\\Temp/ipykernel_13008/2571137316.py\u001b[0m in \u001b[0;36mtraining_loop\u001b[1;34m(epochs, optimizer, model, loss_fn, train_loader, val_loader)\u001b[0m\n\u001b[0;32m     12\u001b[0m         \u001b[0mmodel\u001b[0m\u001b[1;33m.\u001b[0m\u001b[0meval\u001b[0m\u001b[1;33m(\u001b[0m\u001b[1;33m)\u001b[0m\u001b[1;33m\u001b[0m\u001b[1;33m\u001b[0m\u001b[0m\n\u001b[0;32m     13\u001b[0m         \u001b[1;32mwith\u001b[0m \u001b[0mtorch\u001b[0m\u001b[1;33m.\u001b[0m\u001b[0mno_grad\u001b[0m\u001b[1;33m(\u001b[0m\u001b[1;33m)\u001b[0m\u001b[1;33m:\u001b[0m\u001b[1;33m\u001b[0m\u001b[1;33m\u001b[0m\u001b[0m\n\u001b[1;32m---> 14\u001b[1;33m             \u001b[1;32mfor\u001b[0m \u001b[0mimgs\u001b[0m\u001b[1;33m,\u001b[0m \u001b[0mlabels\u001b[0m \u001b[1;32min\u001b[0m \u001b[0mval_loader\u001b[0m\u001b[1;33m:\u001b[0m\u001b[1;33m\u001b[0m\u001b[1;33m\u001b[0m\u001b[0m\n\u001b[0m\u001b[0;32m     15\u001b[0m                 \u001b[1;31m# Move the data to correct device\u001b[0m\u001b[1;33m\u001b[0m\u001b[1;33m\u001b[0m\u001b[1;33m\u001b[0m\u001b[0m\n\u001b[0;32m     16\u001b[0m                 \u001b[0mimgs\u001b[0m \u001b[1;33m=\u001b[0m \u001b[0mimgs\u001b[0m\u001b[1;33m.\u001b[0m\u001b[0mto\u001b[0m\u001b[1;33m(\u001b[0m\u001b[0mdevice\u001b[0m\u001b[1;33m=\u001b[0m\u001b[0mdevice\u001b[0m\u001b[1;33m)\u001b[0m\u001b[1;33m\u001b[0m\u001b[1;33m\u001b[0m\u001b[0m\n",
      "\u001b[1;32mP:\\Anaconda3\\envs\\Python38\\lib\\site-packages\\torch\\utils\\data\\dataloader.py\u001b[0m in \u001b[0;36m__iter__\u001b[1;34m(self)\u001b[0m\n\u001b[0;32m    352\u001b[0m         \u001b[1;32mif\u001b[0m \u001b[0mself\u001b[0m\u001b[1;33m.\u001b[0m\u001b[0mpersistent_workers\u001b[0m \u001b[1;32mand\u001b[0m \u001b[0mself\u001b[0m\u001b[1;33m.\u001b[0m\u001b[0mnum_workers\u001b[0m \u001b[1;33m>\u001b[0m \u001b[1;36m0\u001b[0m\u001b[1;33m:\u001b[0m\u001b[1;33m\u001b[0m\u001b[1;33m\u001b[0m\u001b[0m\n\u001b[0;32m    353\u001b[0m             \u001b[1;32mif\u001b[0m \u001b[0mself\u001b[0m\u001b[1;33m.\u001b[0m\u001b[0m_iterator\u001b[0m \u001b[1;32mis\u001b[0m \u001b[1;32mNone\u001b[0m\u001b[1;33m:\u001b[0m\u001b[1;33m\u001b[0m\u001b[1;33m\u001b[0m\u001b[0m\n\u001b[1;32m--> 354\u001b[1;33m                 \u001b[0mself\u001b[0m\u001b[1;33m.\u001b[0m\u001b[0m_iterator\u001b[0m \u001b[1;33m=\u001b[0m \u001b[0mself\u001b[0m\u001b[1;33m.\u001b[0m\u001b[0m_get_iterator\u001b[0m\u001b[1;33m(\u001b[0m\u001b[1;33m)\u001b[0m\u001b[1;33m\u001b[0m\u001b[1;33m\u001b[0m\u001b[0m\n\u001b[0m\u001b[0;32m    355\u001b[0m             \u001b[1;32melse\u001b[0m\u001b[1;33m:\u001b[0m\u001b[1;33m\u001b[0m\u001b[1;33m\u001b[0m\u001b[0m\n\u001b[0;32m    356\u001b[0m                 \u001b[0mself\u001b[0m\u001b[1;33m.\u001b[0m\u001b[0m_iterator\u001b[0m\u001b[1;33m.\u001b[0m\u001b[0m_reset\u001b[0m\u001b[1;33m(\u001b[0m\u001b[0mself\u001b[0m\u001b[1;33m)\u001b[0m\u001b[1;33m\u001b[0m\u001b[1;33m\u001b[0m\u001b[0m\n",
      "\u001b[1;32mP:\\Anaconda3\\envs\\Python38\\lib\\site-packages\\torch\\utils\\data\\dataloader.py\u001b[0m in \u001b[0;36m_get_iterator\u001b[1;34m(self)\u001b[0m\n\u001b[0;32m    303\u001b[0m         \u001b[1;32melse\u001b[0m\u001b[1;33m:\u001b[0m\u001b[1;33m\u001b[0m\u001b[1;33m\u001b[0m\u001b[0m\n\u001b[0;32m    304\u001b[0m             \u001b[0mself\u001b[0m\u001b[1;33m.\u001b[0m\u001b[0mcheck_worker_number_rationality\u001b[0m\u001b[1;33m(\u001b[0m\u001b[1;33m)\u001b[0m\u001b[1;33m\u001b[0m\u001b[1;33m\u001b[0m\u001b[0m\n\u001b[1;32m--> 305\u001b[1;33m             \u001b[1;32mreturn\u001b[0m \u001b[0m_MultiProcessingDataLoaderIter\u001b[0m\u001b[1;33m(\u001b[0m\u001b[0mself\u001b[0m\u001b[1;33m)\u001b[0m\u001b[1;33m\u001b[0m\u001b[1;33m\u001b[0m\u001b[0m\n\u001b[0m\u001b[0;32m    306\u001b[0m \u001b[1;33m\u001b[0m\u001b[0m\n\u001b[0;32m    307\u001b[0m     \u001b[1;33m@\u001b[0m\u001b[0mproperty\u001b[0m\u001b[1;33m\u001b[0m\u001b[1;33m\u001b[0m\u001b[0m\n",
      "\u001b[1;32mP:\\Anaconda3\\envs\\Python38\\lib\\site-packages\\torch\\utils\\data\\dataloader.py\u001b[0m in \u001b[0;36m__init__\u001b[1;34m(self, loader)\u001b[0m\n\u001b[0;32m    916\u001b[0m             \u001b[1;31m#     before it starts, and __del__ tries to join but will get:\u001b[0m\u001b[1;33m\u001b[0m\u001b[1;33m\u001b[0m\u001b[1;33m\u001b[0m\u001b[0m\n\u001b[0;32m    917\u001b[0m             \u001b[1;31m#     AssertionError: can only join a started process.\u001b[0m\u001b[1;33m\u001b[0m\u001b[1;33m\u001b[0m\u001b[1;33m\u001b[0m\u001b[0m\n\u001b[1;32m--> 918\u001b[1;33m             \u001b[0mw\u001b[0m\u001b[1;33m.\u001b[0m\u001b[0mstart\u001b[0m\u001b[1;33m(\u001b[0m\u001b[1;33m)\u001b[0m\u001b[1;33m\u001b[0m\u001b[1;33m\u001b[0m\u001b[0m\n\u001b[0m\u001b[0;32m    919\u001b[0m             \u001b[0mself\u001b[0m\u001b[1;33m.\u001b[0m\u001b[0m_index_queues\u001b[0m\u001b[1;33m.\u001b[0m\u001b[0mappend\u001b[0m\u001b[1;33m(\u001b[0m\u001b[0mindex_queue\u001b[0m\u001b[1;33m)\u001b[0m\u001b[1;33m\u001b[0m\u001b[1;33m\u001b[0m\u001b[0m\n\u001b[0;32m    920\u001b[0m             \u001b[0mself\u001b[0m\u001b[1;33m.\u001b[0m\u001b[0m_workers\u001b[0m\u001b[1;33m.\u001b[0m\u001b[0mappend\u001b[0m\u001b[1;33m(\u001b[0m\u001b[0mw\u001b[0m\u001b[1;33m)\u001b[0m\u001b[1;33m\u001b[0m\u001b[1;33m\u001b[0m\u001b[0m\n",
      "\u001b[1;32mP:\\Anaconda3\\envs\\Python38\\lib\\multiprocessing\\process.py\u001b[0m in \u001b[0;36mstart\u001b[1;34m(self)\u001b[0m\n\u001b[0;32m    119\u001b[0m                \u001b[1;34m'daemonic processes are not allowed to have children'\u001b[0m\u001b[1;33m\u001b[0m\u001b[1;33m\u001b[0m\u001b[0m\n\u001b[0;32m    120\u001b[0m         \u001b[0m_cleanup\u001b[0m\u001b[1;33m(\u001b[0m\u001b[1;33m)\u001b[0m\u001b[1;33m\u001b[0m\u001b[1;33m\u001b[0m\u001b[0m\n\u001b[1;32m--> 121\u001b[1;33m         \u001b[0mself\u001b[0m\u001b[1;33m.\u001b[0m\u001b[0m_popen\u001b[0m \u001b[1;33m=\u001b[0m \u001b[0mself\u001b[0m\u001b[1;33m.\u001b[0m\u001b[0m_Popen\u001b[0m\u001b[1;33m(\u001b[0m\u001b[0mself\u001b[0m\u001b[1;33m)\u001b[0m\u001b[1;33m\u001b[0m\u001b[1;33m\u001b[0m\u001b[0m\n\u001b[0m\u001b[0;32m    122\u001b[0m         \u001b[0mself\u001b[0m\u001b[1;33m.\u001b[0m\u001b[0m_sentinel\u001b[0m \u001b[1;33m=\u001b[0m \u001b[0mself\u001b[0m\u001b[1;33m.\u001b[0m\u001b[0m_popen\u001b[0m\u001b[1;33m.\u001b[0m\u001b[0msentinel\u001b[0m\u001b[1;33m\u001b[0m\u001b[1;33m\u001b[0m\u001b[0m\n\u001b[0;32m    123\u001b[0m         \u001b[1;31m# Avoid a refcycle if the target function holds an indirect\u001b[0m\u001b[1;33m\u001b[0m\u001b[1;33m\u001b[0m\u001b[1;33m\u001b[0m\u001b[0m\n",
      "\u001b[1;32mP:\\Anaconda3\\envs\\Python38\\lib\\multiprocessing\\context.py\u001b[0m in \u001b[0;36m_Popen\u001b[1;34m(process_obj)\u001b[0m\n\u001b[0;32m    222\u001b[0m     \u001b[1;33m@\u001b[0m\u001b[0mstaticmethod\u001b[0m\u001b[1;33m\u001b[0m\u001b[1;33m\u001b[0m\u001b[0m\n\u001b[0;32m    223\u001b[0m     \u001b[1;32mdef\u001b[0m \u001b[0m_Popen\u001b[0m\u001b[1;33m(\u001b[0m\u001b[0mprocess_obj\u001b[0m\u001b[1;33m)\u001b[0m\u001b[1;33m:\u001b[0m\u001b[1;33m\u001b[0m\u001b[1;33m\u001b[0m\u001b[0m\n\u001b[1;32m--> 224\u001b[1;33m         \u001b[1;32mreturn\u001b[0m \u001b[0m_default_context\u001b[0m\u001b[1;33m.\u001b[0m\u001b[0mget_context\u001b[0m\u001b[1;33m(\u001b[0m\u001b[1;33m)\u001b[0m\u001b[1;33m.\u001b[0m\u001b[0mProcess\u001b[0m\u001b[1;33m.\u001b[0m\u001b[0m_Popen\u001b[0m\u001b[1;33m(\u001b[0m\u001b[0mprocess_obj\u001b[0m\u001b[1;33m)\u001b[0m\u001b[1;33m\u001b[0m\u001b[1;33m\u001b[0m\u001b[0m\n\u001b[0m\u001b[0;32m    225\u001b[0m \u001b[1;33m\u001b[0m\u001b[0m\n\u001b[0;32m    226\u001b[0m \u001b[1;32mclass\u001b[0m \u001b[0mDefaultContext\u001b[0m\u001b[1;33m(\u001b[0m\u001b[0mBaseContext\u001b[0m\u001b[1;33m)\u001b[0m\u001b[1;33m:\u001b[0m\u001b[1;33m\u001b[0m\u001b[1;33m\u001b[0m\u001b[0m\n",
      "\u001b[1;32mP:\\Anaconda3\\envs\\Python38\\lib\\multiprocessing\\context.py\u001b[0m in \u001b[0;36m_Popen\u001b[1;34m(process_obj)\u001b[0m\n\u001b[0;32m    325\u001b[0m         \u001b[1;32mdef\u001b[0m \u001b[0m_Popen\u001b[0m\u001b[1;33m(\u001b[0m\u001b[0mprocess_obj\u001b[0m\u001b[1;33m)\u001b[0m\u001b[1;33m:\u001b[0m\u001b[1;33m\u001b[0m\u001b[1;33m\u001b[0m\u001b[0m\n\u001b[0;32m    326\u001b[0m             \u001b[1;32mfrom\u001b[0m \u001b[1;33m.\u001b[0m\u001b[0mpopen_spawn_win32\u001b[0m \u001b[1;32mimport\u001b[0m \u001b[0mPopen\u001b[0m\u001b[1;33m\u001b[0m\u001b[1;33m\u001b[0m\u001b[0m\n\u001b[1;32m--> 327\u001b[1;33m             \u001b[1;32mreturn\u001b[0m \u001b[0mPopen\u001b[0m\u001b[1;33m(\u001b[0m\u001b[0mprocess_obj\u001b[0m\u001b[1;33m)\u001b[0m\u001b[1;33m\u001b[0m\u001b[1;33m\u001b[0m\u001b[0m\n\u001b[0m\u001b[0;32m    328\u001b[0m \u001b[1;33m\u001b[0m\u001b[0m\n\u001b[0;32m    329\u001b[0m     \u001b[1;32mclass\u001b[0m \u001b[0mSpawnContext\u001b[0m\u001b[1;33m(\u001b[0m\u001b[0mBaseContext\u001b[0m\u001b[1;33m)\u001b[0m\u001b[1;33m:\u001b[0m\u001b[1;33m\u001b[0m\u001b[1;33m\u001b[0m\u001b[0m\n",
      "\u001b[1;32mP:\\Anaconda3\\envs\\Python38\\lib\\multiprocessing\\popen_spawn_win32.py\u001b[0m in \u001b[0;36m__init__\u001b[1;34m(self, process_obj)\u001b[0m\n\u001b[0;32m     91\u001b[0m             \u001b[1;32mtry\u001b[0m\u001b[1;33m:\u001b[0m\u001b[1;33m\u001b[0m\u001b[1;33m\u001b[0m\u001b[0m\n\u001b[0;32m     92\u001b[0m                 \u001b[0mreduction\u001b[0m\u001b[1;33m.\u001b[0m\u001b[0mdump\u001b[0m\u001b[1;33m(\u001b[0m\u001b[0mprep_data\u001b[0m\u001b[1;33m,\u001b[0m \u001b[0mto_child\u001b[0m\u001b[1;33m)\u001b[0m\u001b[1;33m\u001b[0m\u001b[1;33m\u001b[0m\u001b[0m\n\u001b[1;32m---> 93\u001b[1;33m                 \u001b[0mreduction\u001b[0m\u001b[1;33m.\u001b[0m\u001b[0mdump\u001b[0m\u001b[1;33m(\u001b[0m\u001b[0mprocess_obj\u001b[0m\u001b[1;33m,\u001b[0m \u001b[0mto_child\u001b[0m\u001b[1;33m)\u001b[0m\u001b[1;33m\u001b[0m\u001b[1;33m\u001b[0m\u001b[0m\n\u001b[0m\u001b[0;32m     94\u001b[0m             \u001b[1;32mfinally\u001b[0m\u001b[1;33m:\u001b[0m\u001b[1;33m\u001b[0m\u001b[1;33m\u001b[0m\u001b[0m\n\u001b[0;32m     95\u001b[0m                 \u001b[0mset_spawning_popen\u001b[0m\u001b[1;33m(\u001b[0m\u001b[1;32mNone\u001b[0m\u001b[1;33m)\u001b[0m\u001b[1;33m\u001b[0m\u001b[1;33m\u001b[0m\u001b[0m\n",
      "\u001b[1;32mP:\\Anaconda3\\envs\\Python38\\lib\\multiprocessing\\reduction.py\u001b[0m in \u001b[0;36mdump\u001b[1;34m(obj, file, protocol)\u001b[0m\n\u001b[0;32m     58\u001b[0m \u001b[1;32mdef\u001b[0m \u001b[0mdump\u001b[0m\u001b[1;33m(\u001b[0m\u001b[0mobj\u001b[0m\u001b[1;33m,\u001b[0m \u001b[0mfile\u001b[0m\u001b[1;33m,\u001b[0m \u001b[0mprotocol\u001b[0m\u001b[1;33m=\u001b[0m\u001b[1;32mNone\u001b[0m\u001b[1;33m)\u001b[0m\u001b[1;33m:\u001b[0m\u001b[1;33m\u001b[0m\u001b[1;33m\u001b[0m\u001b[0m\n\u001b[0;32m     59\u001b[0m     \u001b[1;34m'''Replacement for pickle.dump() using ForkingPickler.'''\u001b[0m\u001b[1;33m\u001b[0m\u001b[1;33m\u001b[0m\u001b[0m\n\u001b[1;32m---> 60\u001b[1;33m     \u001b[0mForkingPickler\u001b[0m\u001b[1;33m(\u001b[0m\u001b[0mfile\u001b[0m\u001b[1;33m,\u001b[0m \u001b[0mprotocol\u001b[0m\u001b[1;33m)\u001b[0m\u001b[1;33m.\u001b[0m\u001b[0mdump\u001b[0m\u001b[1;33m(\u001b[0m\u001b[0mobj\u001b[0m\u001b[1;33m)\u001b[0m\u001b[1;33m\u001b[0m\u001b[1;33m\u001b[0m\u001b[0m\n\u001b[0m\u001b[0;32m     61\u001b[0m \u001b[1;33m\u001b[0m\u001b[0m\n\u001b[0;32m     62\u001b[0m \u001b[1;31m#\u001b[0m\u001b[1;33m\u001b[0m\u001b[1;33m\u001b[0m\u001b[1;33m\u001b[0m\u001b[0m\n",
      "\u001b[1;31mKeyboardInterrupt\u001b[0m: "
     ]
    }
   ],
   "source": [
    "try:\n",
    "    # Using time to time the training.\n",
    "    start_time = time.time()\n",
    "    training_losses, val_losses, accuracies = training_loop(NUM_EPOCHS, optimizer, model, loss, train_loader, val_loader)\n",
    "    end_time = time.time()\n",
    "except Exception as err:\n",
    "    print(err)\n",
    "finally:\n",
    "    # Close the threads\n",
    "    try:\n",
    "        train_loader._iterator._shutdown_workers()\n",
    "    except Exception as err:\n",
    "        print(err)\n",
    "        print(\"[Training loader]: Could not shutdown the workers. Might not have spawn yet.\")\n",
    "\n",
    "    try:\n",
    "        val_loader._iterator._shutdown_workers()\n",
    "    except Exception as err:\n",
    "        print(err)\n",
    "        print(\"[Validation loader]: Could not shutdown the workers. Might not have spawn yet.\")\n",
    "\n",
    "# Report the final stats about the training.\n",
    "print(\" \")\n",
    "print(f\"Final Loss: {training_losses[-1]}, Final Accuracy: {accuracies[-1] * 100}%\")\n",
    "print(f\"Training Time: {(end_time - start_time):.2f} seconds\")"
   ]
  },
  {
   "cell_type": "code",
   "execution_count": 49,
   "id": "8cdfee15",
   "metadata": {},
   "outputs": [
    {
     "data": {
      "text/plain": [
       "Text(0.5, 1.0, 'Problem 2a Losses')"
      ]
     },
     "execution_count": 49,
     "metadata": {},
     "output_type": "execute_result"
    },
    {
     "data": {
      "image/png": "[encoded data removed]",
      "text/plain": [
       "<Figure size 432x288 with 1 Axes>"
      ]
     },
     "metadata": {
      "needs_background": "light"
     },
     "output_type": "display_data"
    }
   ],
   "source": [
    "# Plotting the Losses\n",
    "\n",
    "fig = plt.figure()\n",
    "# Name the x and y axis\n",
    "plt.xlabel(\"Epochs\")\n",
    "plt.ylabel(\"Loss\")\n",
    "\n",
    "# Plot the model and the actual values.\n",
    "plt.plot(training_losses, label='Training loss')\n",
    "plt.plot(val_losses, label='Validation loss')\n",
    "plt.legend()\n",
    "plt.title(\"Problem 2a Losses\")"
   ]
  },
  {
   "cell_type": "code",
   "execution_count": 50,
   "id": "cc9fa12b",
   "metadata": {},
   "outputs": [
    {
     "data": {
      "text/plain": [
       "Text(0.5, 1.0, 'Problem 2a Accuracy')"
      ]
     },
     "execution_count": 50,
     "metadata": {},
     "output_type": "execute_result"
    },
    {
     "data": {
      "image/png": "[encoded data removed]",
      "text/plain": [
       "<Figure size 432x288 with 1 Axes>"
      ]
     },
     "metadata": {
      "needs_background": "light"
     },
     "output_type": "display_data"
    }
   ],
   "source": [
    "# Plotting the accuracy of the model.\n",
    "\n",
    "fig = plt.figure()\n",
    "# Name the x and y axis\n",
    "plt.xlabel(\"Epochs\")\n",
    "plt.ylabel(\"Percents\")\n",
    "\n",
    "for i, x in enumerate(accuracies):\n",
    "    accuracies[i] = x * 100\n",
    "    \n",
    "\n",
    "plt.plot(accuracies, label='Accuracy')\n",
    "plt.legend()\n",
    "plt.title(\"Problem 2a Accuracy\")"
   ]
  },
  {
   "cell_type": "markdown",
   "id": "8598c36f",
   "metadata": {},
   "source": [
    "<b>Problem 2b</b>  \n",
    "Develop three additional trainings and evaluations for your ResNet-10 to assess the impacts of regularization to your ResNet-10.  \n",
    "\n",
    "- Weight Decay with lambda of 0.001  \n",
    "- Dropout with p=0.3  \n",
    "- Batch Normalization\n",
    "  \n",
    "Report and compare your training time, training loss, and evaluation accuracy after 300 epochs across these three different trainings. Analyze your results in your report and compare them against problem 1.a on training time, achieved accuracy."
   ]
  },
  {
   "cell_type": "code",
   "execution_count": 10,
   "id": "67b46f9c",
   "metadata": {},
   "outputs": [],
   "source": [
    "class ResBlockDropout(nn.Module):\n",
    "    def __init__(self, n_channels1, p):\n",
    "        super(ResBlockDropout, self).__init__()\n",
    "        self.conv = nn.Conv2d(n_channels1, n_channels1, kernel_size = 3, padding = 1)\n",
    "        self.dropout = nn.Dropout2d(p = p)\n",
    "        \n",
    "    def forward(self, x):\n",
    "        out = self.conv(x)\n",
    "        out = self.dropout(out)\n",
    "        out = torch.relu(out)\n",
    "        return out + x\n",
    "    \n",
    "class ResNetDropout(nn.Module):\n",
    "    def __init__(self, n_channels1, n_blocks, p):\n",
    "        super().__init__()\n",
    "        self.n_channels1 = n_channels1\n",
    "        self.conv1 = nn.Conv2d(3, self.n_channels1, kernel_size = 3, padding = 1)\n",
    "        self.blocks = nn.Sequential(*(n_blocks * [ResBlockDropout(n_channels1 = self.n_channels1, p = p)]))\n",
    "        self.dropout = nn.Dropout2d(p = p)\n",
    "        self.fc1 = nn.Linear(8 * 8 * self.n_channels1, 32)\n",
    "        self.fc2 = nn.Linear(32, 10)\n",
    "    \n",
    "    def forward(self, x):\n",
    "        out = f.max_pool2d(torch.relu(self.dropout(self.conv1(x))), 2)\n",
    "        out = f.max_pool2d(self.blocks(out), 2)\n",
    "        out = out.view(-1, 8 * 8 * self.n_channels1)\n",
    "        out = torch.relu(self.fc1(out))\n",
    "        out = self.fc2(out)\n",
    "        return out"
   ]
  },
  {
   "cell_type": "code",
   "execution_count": 11,
   "id": "591d4e9c",
   "metadata": {},
   "outputs": [],
   "source": [
    "class ResBlockBatchNorm(nn.Module):\n",
    "    def __init__(self, n_channels1):\n",
    "        super(ResBlockBatchNorm, self).__init__()\n",
    "        self.conv = nn.Conv2d(n_channels1, n_channels1, kernel_size = 3, padding = 1, bias = False)\n",
    "        self.batch_norm = nn.BatchNorm2d(num_features = n_channels1)\n",
    "        torch.nn.init.kaiming_normal_(self.conv.weight, nonlinearity = 'relu')\n",
    "        torch.nn.init.constant_(self.batch_norm.weight, 0.5)\n",
    "        torch.nn.init.zeros_(self.batch_norm.bias)\n",
    "        \n",
    "    def forward(self, x):\n",
    "        out = self.conv(x)\n",
    "        out = self.batch_norm(out)\n",
    "        out = torch.relu(out)\n",
    "        return out + x\n",
    "    \n",
    "    \n",
    "class ResNetBatchNorm(nn.Module):\n",
    "    def __init__(self, n_channels1, n_blocks):\n",
    "        super().__init__()\n",
    "        self.n_channels1 = n_channels1\n",
    "        self.conv1 = nn.Conv2d(3, self.n_channels1, kernel_size = 3, padding = 1)\n",
    "        self.batchnorm1 = nn.BatchNorm2d(num_features = n_channels1)\n",
    "        self.blocks = nn.Sequential(*(n_blocks * [ResBlockBatchNorm(n_channels1=self.n_channels1)]))\n",
    "        self.batchnorm2 = nn.BatchNorm2d(num_features = n_channels1)\n",
    "        self.fc1 = nn.Linear(8 * 8 * self.n_channels1, 32)\n",
    "        self.fc2 = nn.Linear(32, 10)\n",
    "    \n",
    "    def forward(self, x):\n",
    "        out = f.max_pool2d(torch.relu(self.batchnorm1(self.conv1(x))), 2)\n",
    "        out = f.max_pool2d(self.batchnorm2(self.blocks(out)), 2)\n",
    "        out = out.view(-1, 8 * 8 * self.n_channels1)\n",
    "        out = torch.relu(self.fc1(out))\n",
    "        out = self.fc2(out)\n",
    "        return out"
   ]
  },
  {
   "cell_type": "code",
   "execution_count": 12,
   "id": "2401d142",
   "metadata": {},
   "outputs": [],
   "source": [
    "def training_loopl2(epochs, optimizer, model, loss_fn, train_loader, val_loader, l2_lambda):\n",
    "    training_losses = []\n",
    "    val_losses = []\n",
    "    accuracies = []\n",
    "    for epoch in range(1, epochs + 1):\n",
    "        # Temp vars for use in finding the accuracy.\n",
    "        correct_labels = 0\n",
    "        count = 0\n",
    "        loss_val_value = 0\n",
    "        model.eval()\n",
    "        with torch.no_grad():\n",
    "            for imgs, labels in val_loader:\n",
    "                # Move the data to correct device\n",
    "                imgs = imgs.to(device=device)\n",
    "                labels = labels.to(device=device)\n",
    "                \n",
    "                # Pass imgs through the model and find the loss.\n",
    "                output = model(imgs)\n",
    "                loss_val = loss_fn(output, labels)\n",
    "                loss_val_value += float(loss_val)\n",
    "                \n",
    "                # Find the accurcey of the model.\n",
    "                _, predicted = torch.max(output, dim=1)\n",
    "                count += labels.shape[0]\n",
    "                correct_labels += int((predicted == labels).sum())\n",
    "            \n",
    "            # Store the loss and accuracy.\n",
    "            loss_val_value /= len(val_loader)\n",
    "            val_losses.append(loss_val_value)\n",
    "            accuracies.append(correct_labels/count)\n",
    "        \n",
    "        loss_train_value = 0\n",
    "        model.train()\n",
    "        for imgs, labels in train_loader:\n",
    "            # Move the data to correct device\n",
    "            imgs = imgs.to(device=device)\n",
    "            labels = labels.to(device=device)\n",
    "            \n",
    "            # Pass imgs through the model and find the loss.\n",
    "            output = model(imgs)\n",
    "            loss_train = loss_fn(output, labels)\n",
    "            \n",
    "            # Perform L2 regularization\n",
    "            l2_norm = sum(p.pow(2.0).sum() for p in model.parameters())\n",
    "            loss_train = loss_train + l2_lambda * l2_norm\n",
    "            loss_train_value += float(loss_train)\n",
    "            \n",
    "            # Adject the params\n",
    "            optimizer.zero_grad()\n",
    "            loss_train.backward()\n",
    "            optimizer.step()\n",
    "        \n",
    "        # Store the loss\n",
    "        loss_train_value /= len(train_loader)\n",
    "        training_losses.append(loss_train_value)\n",
    "        \n",
    "        # Print out the loss every 10 epoch\n",
    "        if epoch % 10 == 0 or epoch == 1:\n",
    "            print(f\"Epoch: {epoch}, Training Loss: {loss_train_value}\", end=\"\")\n",
    "            print(f\", Validation Loss: {loss_val_value}, Accuracy: {(correct_labels/count)*100}%\")\n",
    "        \n",
    "    return training_losses, val_losses, accuracies"
   ]
  },
  {
   "cell_type": "markdown",
   "id": "c8a779cc",
   "metadata": {},
   "source": [
    "<b>L2 regularization</b> "
   ]
  },
  {
   "cell_type": "code",
   "execution_count": 13,
   "id": "8734bfbb",
   "metadata": {},
   "outputs": [],
   "source": [
    "NUM_EPOCHS = 300\n",
    "LEARNING_RATE = 3e-3\n",
    "BATCH_SIZE = 1024\n",
    "NUM_CHANNELS = 32\n",
    "BLOCKS = 10\n",
    "LAMBDA = 0.001 \n",
    "\n",
    "model = ResNet(NUM_CHANNELS, BLOCKS).to(device=device)\n",
    "\n",
    "loss = nn.CrossEntropyLoss()\n",
    "optimizer = optim.SGD(model.parameters(), lr=LEARNING_RATE)\n",
    "\n",
    "# Load the data into a dataloaders.\n",
    "train_loader = torch.utils.data.DataLoader(cirfar10_train, \n",
    "                                           batch_size=BATCH_SIZE, \n",
    "                                           shuffle=True,\n",
    "                                           pin_memory=True, \n",
    "                                           persistent_workers=True, \n",
    "                                           num_workers=6)\n",
    "\n",
    "val_loader = torch.utils.data.DataLoader(cirfar10_val, \n",
    "                                         batch_size=BATCH_SIZE, \n",
    "                                         shuffle=False, \n",
    "                                         pin_memory=True, \n",
    "                                         persistent_workers=True, \n",
    "                                         num_workers=3)"
   ]
  },
  {
   "cell_type": "code",
   "execution_count": null,
   "id": "545cbb54",
   "metadata": {},
   "outputs": [
    {
     "name": "stdout",
     "output_type": "stream",
     "text": [
      "Epoch: 1, Training Loss: nan, Validation Loss: 12.043757724761964, Accuracy: 9.71%\n",
      "Epoch: 10, Training Loss: nan, Validation Loss: nan, Accuracy: 10.0%\n",
      "Epoch: 20, Training Loss: nan, Validation Loss: nan, Accuracy: 10.0%\n",
      "Epoch: 30, Training Loss: nan, Validation Loss: nan, Accuracy: 10.0%\n"
     ]
    }
   ],
   "source": [
    "try:\n",
    "    # Using time to time the training.\n",
    "    start_time = time.time()\n",
    "    training_losses, val_losses, accuracies = training_loopl2(NUM_EPOCHS, optimizer, model, \n",
    "                                                              loss, train_loader, val_loader, LAMBDA)\n",
    "    end_time = time.time()\n",
    "except Exception as err:\n",
    "    print(err)\n",
    "finally:\n",
    "    # Close the threads\n",
    "    try:\n",
    "        train_loader._iterator._shutdown_workers()\n",
    "    except Exception as err:\n",
    "        print(err)\n",
    "        print(\"[Training loader]: Could not shutdown the workers. Might not have spawn yet.\")\n",
    "\n",
    "    try:\n",
    "        val_loader._iterator._shutdown_workers()\n",
    "    except Exception as err:\n",
    "        print(err)\n",
    "        print(\"[Validation loader]: Could not shutdown the workers. Might not have spawn yet.\")\n",
    "\n",
    "# Report the final stats about the training.\n",
    "print(\" \")\n",
    "print(f\"Final Loss: {training_losses[-1]}, Final Accuracy: {accuracies[-1] * 100}%\")\n",
    "print(f\"Training Time: {(end_time - start_time):.2f} seconds\")"
   ]
  },
  {
   "cell_type": "code",
   "execution_count": null,
   "id": "c11d1650",
   "metadata": {},
   "outputs": [],
   "source": [
    "# Plotting the Losses\n",
    "\n",
    "fig = plt.figure()\n",
    "# Name the x and y axis\n",
    "plt.xlabel(\"Epochs\")\n",
    "plt.ylabel(\"Loss\")\n",
    "\n",
    "# Plot the model and the actual values.\n",
    "plt.plot(training_losses, label='Training loss')\n",
    "plt.plot(val_losses, label='Validation loss')\n",
    "plt.legend()\n",
    "plt.title(\"Problem 2b Losses (L2 regularization)\")"
   ]
  },
  {
   "cell_type": "code",
   "execution_count": null,
   "id": "9f568d74",
   "metadata": {},
   "outputs": [],
   "source": [
    "# Plotting the accuracy of the model.\n",
    "\n",
    "fig = plt.figure()\n",
    "# Name the x and y axis\n",
    "plt.xlabel(\"Epochs\")\n",
    "plt.ylabel(\"Percents\")\n",
    "\n",
    "for i, x in enumerate(accuracies):\n",
    "    accuracies[i] = x * 100\n",
    "    \n",
    "\n",
    "plt.plot(accuracies, label='Accuracy')\n",
    "plt.legend()\n",
    "plt.title(\"Problem 2b Accuracy (L2 regularization)\")"
   ]
  },
  {
   "cell_type": "markdown",
   "id": "5f70d42e",
   "metadata": {},
   "source": [
    "<b>Dropout</b> "
   ]
  },
  {
   "cell_type": "code",
   "execution_count": null,
   "id": "8b527c62",
   "metadata": {},
   "outputs": [],
   "source": [
    "NUM_EPOCHS = 300\n",
    "LEARNING_RATE = 1e-2\n",
    "BATCH_SIZE = 1024\n",
    "NUM_CHANNELS = 32\n",
    "BLOCKS = 10\n",
    "DROPOUT_RATE = 0.3\n",
    "\n",
    "model = ResNetDropout(NUM_CHANNELS, BLOCKS, DROPOUT_RATE).to(device=device)\n",
    "\n",
    "loss = nn.CrossEntropyLoss()\n",
    "optimizer = optim.SGD(model.parameters(), lr=LEARNING_RATE)\n",
    "\n",
    "# Load the data into a dataloaders.\n",
    "train_loader = torch.utils.data.DataLoader(cirfar10_train, \n",
    "                                           batch_size=BATCH_SIZE, \n",
    "                                           shuffle=True,\n",
    "                                           pin_memory=True, \n",
    "                                           persistent_workers=True, \n",
    "                                           num_workers=6)\n",
    "\n",
    "val_loader = torch.utils.data.DataLoader(cirfar10_val, \n",
    "                                         batch_size=BATCH_SIZE, \n",
    "                                         shuffle=False, \n",
    "                                         pin_memory=True, \n",
    "                                         persistent_workers=True, \n",
    "                                         num_workers=3)"
   ]
  },
  {
   "cell_type": "code",
   "execution_count": null,
   "id": "749cc7e4",
   "metadata": {},
   "outputs": [],
   "source": [
    "try:\n",
    "    # Using time to time the training.\n",
    "    start_time = time.time()\n",
    "    training_losses, val_losses, accuracies = training_loop(NUM_EPOCHS, optimizer, model, loss, train_loader, val_loader)\n",
    "    end_time = time.time()\n",
    "except Exception as err:\n",
    "    print(err)\n",
    "finally:\n",
    "    # Close the threads\n",
    "    try:\n",
    "        train_loader._iterator._shutdown_workers()\n",
    "    except Exception as err:\n",
    "        print(err)\n",
    "        print(\"[Training loader]: Could not shutdown the workers. Might not have spawn yet.\")\n",
    "\n",
    "    try:\n",
    "        val_loader._iterator._shutdown_workers()\n",
    "    except Exception as err:\n",
    "        print(err)\n",
    "        print(\"[Validation loader]: Could not shutdown the workers. Might not have spawn yet.\")\n",
    "\n",
    "# Report the final stats about the training.\n",
    "print(\" \")\n",
    "print(f\"Final Loss: {training_losses[-1]}, Final Accuracy: {accuracies[-1] * 100}%\")\n",
    "print(f\"Training Time: {(end_time - start_time):.2f} seconds\")"
   ]
  },
  {
   "cell_type": "code",
   "execution_count": null,
   "id": "4d3ad0d1",
   "metadata": {},
   "outputs": [],
   "source": [
    "# Plotting the Losses\n",
    "\n",
    "fig = plt.figure()\n",
    "# Name the x and y axis\n",
    "plt.xlabel(\"Epochs\")\n",
    "plt.ylabel(\"Loss\")\n",
    "\n",
    "# Plot the model and the actual values.\n",
    "plt.plot(training_losses, label='Training loss')\n",
    "plt.plot(val_losses, label='Validation loss')\n",
    "plt.legend()\n",
    "plt.title(\"Problem 2b Losses (Dropout)\")"
   ]
  },
  {
   "cell_type": "code",
   "execution_count": null,
   "id": "de27866e",
   "metadata": {},
   "outputs": [],
   "source": [
    "# Plotting the accuracy of the model.\n",
    "\n",
    "fig = plt.figure()\n",
    "# Name the x and y axis\n",
    "plt.xlabel(\"Epochs\")\n",
    "plt.ylabel(\"Percents\")\n",
    "\n",
    "for i, x in enumerate(accuracies):\n",
    "    accuracies[i] = x * 100\n",
    "    \n",
    "\n",
    "plt.plot(accuracies, label='Accuracy')\n",
    "plt.legend()\n",
    "plt.title(\"Problem 2b Accuracy (Dropout)\")"
   ]
  },
  {
   "cell_type": "markdown",
   "id": "0082e9a1",
   "metadata": {},
   "source": [
    "<b>Batch Normalization</b> "
   ]
  },
  {
   "cell_type": "code",
   "execution_count": null,
   "id": "a42ce5ea",
   "metadata": {},
   "outputs": [],
   "source": [
    "NUM_EPOCHS = 300\n",
    "LEARNING_RATE = 1e-2\n",
    "BATCH_SIZE = 1024\n",
    "NUM_CHANNELS = 32\n",
    "BLOCKS = 10\n",
    "\n",
    "model = ResNetBatchNorm(NUM_CHANNELS, BLOCKS).to(device=device)\n",
    "\n",
    "loss = nn.CrossEntropyLoss()\n",
    "optimizer = optim.SGD(model.parameters(), lr=LEARNING_RATE)\n",
    "\n",
    "# Load the data into a dataloaders.\n",
    "train_loader = torch.utils.data.DataLoader(cirfar10_train, \n",
    "                                           batch_size=BATCH_SIZE, \n",
    "                                           shuffle=True,\n",
    "                                           pin_memory=True, \n",
    "                                           persistent_workers=True, \n",
    "                                           num_workers=6)\n",
    "\n",
    "val_loader = torch.utils.data.DataLoader(cirfar10_val, \n",
    "                                         batch_size=BATCH_SIZE, \n",
    "                                         shuffle=False, \n",
    "                                         pin_memory=True, \n",
    "                                         persistent_workers=True, \n",
    "                                         num_workers=3)"
   ]
  },
  {
   "cell_type": "code",
   "execution_count": null,
   "id": "0bac584c",
   "metadata": {},
   "outputs": [],
   "source": [
    "try:\n",
    "    # Using time to time the training.\n",
    "    start_time = time.time()\n",
    "    training_losses, val_losses, accuracies = training_loop(NUM_EPOCHS, optimizer, model, loss, train_loader, val_loader)\n",
    "    end_time = time.time()\n",
    "except Exception as err:\n",
    "    print(err)\n",
    "finally:\n",
    "    # Close the threads\n",
    "    try:\n",
    "        train_loader._iterator._shutdown_workers()\n",
    "    except Exception as err:\n",
    "        print(err)\n",
    "        print(\"[Training loader]: Could not shutdown the workers. Might not have spawn yet.\")\n",
    "\n",
    "    try:\n",
    "        val_loader._iterator._shutdown_workers()\n",
    "    except Exception as err:\n",
    "        print(err)\n",
    "        print(\"[Validation loader]: Could not shutdown the workers. Might not have spawn yet.\")\n",
    "\n",
    "# Report the final stats about the training.\n",
    "print(\" \")\n",
    "print(f\"Final Loss: {training_losses[-1]}, Final Accuracy: {accuracies[-1] * 100}%\")\n",
    "print(f\"Training Time: {(end_time - start_time):.2f} seconds\")"
   ]
  },
  {
   "cell_type": "code",
   "execution_count": null,
   "id": "a1b71fc9",
   "metadata": {},
   "outputs": [],
   "source": [
    "# Plotting the Losses\n",
    "\n",
    "fig = plt.figure()\n",
    "# Name the x and y axis\n",
    "plt.xlabel(\"Epochs\")\n",
    "plt.ylabel(\"Loss\")\n",
    "\n",
    "# Plot the model and the actual values.\n",
    "plt.plot(training_losses, label='Training loss')\n",
    "plt.plot(val_losses, label='Validation loss')\n",
    "plt.legend()\n",
    "plt.title(\"Problem 2b Losses (Batch Normalization)\")"
   ]
  },
  {
   "cell_type": "code",
   "execution_count": null,
   "id": "fb7e364e",
   "metadata": {},
   "outputs": [],
   "source": [
    "# Plotting the accuracy of the model.\n",
    "\n",
    "fig = plt.figure()\n",
    "# Name the x and y axis\n",
    "plt.xlabel(\"Epochs\")\n",
    "plt.ylabel(\"Percents\")\n",
    "\n",
    "for i, x in enumerate(accuracies):\n",
    "    accuracies[i] = x * 100\n",
    "    \n",
    "\n",
    "plt.plot(accuracies, label='Accuracy')\n",
    "plt.legend()\n",
    "plt.title(\"Problem 2b Accuracy (Batch Normalization)\")"
   ]
  },
  {
   "cell_type": "code",
   "execution_count": null,
   "id": "a57cc0e0",
   "metadata": {},
   "outputs": [],
   "source": [
    "model_l2 = ResNet(32, 10)\n",
    "model_dropout = ResNetDropout(32, 10, 0.3)\n",
    "model_batchnorm = ResNetBatchNorm(32, 10)\n",
    "\n",
    "macs, params = get_model_complexity_info(model_l2, (3, 32, 32), as_strings=True,\n",
    " print_per_layer_stat=False, verbose=False)\n",
    "# print out the Model size.\n",
    "print(\"L2 regularization\")\n",
    "print(\"Model size: \" + params)\n",
    "\n",
    "print(\"\")\n",
    "\n",
    "macs, params = get_model_complexity_info(model_dropout, (3, 32, 32), as_strings=True,\n",
    " print_per_layer_stat=False, verbose=False)\n",
    "# print out the Model size.\n",
    "print(\"Dropout\")\n",
    "print(\"Model size: \" + params)\n",
    "\n",
    "print(\"\")\n",
    "\n",
    "macs, params = get_model_complexity_info(model_batchnorm, (3, 32, 32), as_strings=True,\n",
    " print_per_layer_stat=False, verbose=False)\n",
    "# print out the Model size.\n",
    "print(\"Batch Normalization\")\n",
    "print(\"Model size: \" + params)"
   ]
  },
  {
   "cell_type": "code",
   "execution_count": null,
   "id": "aec34266",
   "metadata": {},
   "outputs": [],
   "source": []
  }
 ],
 "metadata": {
  "kernelspec": {
   "display_name": "Python 3 (ipykernel)",
   "language": "python",
   "name": "python3"
  },
  "language_info": {
   "codemirror_mode": {
    "name": "ipython",
    "version": 3
   },
   "file_extension": ".py",
   "mimetype": "text/x-python",
   "name": "python",
   "nbconvert_exporter": "python",
   "pygments_lexer": "ipython3",
   "version": "3.8.12"
  }
 },
 "nbformat": 4,
 "nbformat_minor": 5
}
