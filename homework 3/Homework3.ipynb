{
 "cells": [
  {
   "cell_type": "markdown",
   "id": "91f9a9d1",
   "metadata": {},
   "source": [
    "Jonathon Nguyen\n",
    "\n",
    "ID: 801093003\n",
    "\n",
    "Homework 3"
   ]
  },
  {
   "cell_type": "code",
   "execution_count": 1,
   "id": "3ef050df",
   "metadata": {},
   "outputs": [],
   "source": [
    "import torch\n",
    "import torch.nn as nn\n",
    "import torch.nn.functional as f\n",
    "from torchvision import datasets\n",
    "import torch.optim as optim\n",
    "\n",
    "import time\n",
    "import datetime\n",
    "import numpy as np\n",
    "from PIL import Image\n",
    "import pandas as pd\n",
    "from matplotlib import pyplot as plt"
   ]
  },
  {
   "cell_type": "markdown",
   "id": "3535e0e2",
   "metadata": {},
   "source": [
    "<b>Problem 1a</b>  \n",
    "Build a Convolutional Neural Network, like what we built in lectures (without skip connections), to classify the images across all 10 classes in CIFAR 10. \n",
    "\n",
    "You need to adjust the fully connected layer at the end properly with respect to the number of output classes. Train your network for 300 epochs. \n",
    "\n",
    "Report your training time, training loss, and evaluation accuracy after 300 epochs. Analyze your results in your report and compare them against a fully connected network (homework 2) on training time, achieved accuracy, and model size. Make sure to submit your code by providing the GitHub URL of your course repository for this course."
   ]
  },
  {
   "cell_type": "code",
   "execution_count": 2,
   "id": "65a21195",
   "metadata": {},
   "outputs": [],
   "source": [
    "class CNN(nn.Module):\n",
    "    def __init__(self, n_channels1 = 32):\n",
    "        super().__init__()\n",
    "        self.n_channels1 = n_channels1\n",
    "        self.conv1 = nn.Conv2d(3, self.n_channels1, kernel_size = 3, padding = 1)\n",
    "        self.conv2 = nn.Conv2d(n_channels1, (self.n_channels1 // 2), kernel_size = 3, padding = 1)\n",
    "        self.fc1 = nn.Linear(8 * 8 * (self.n_channels1 // 2), 32)\n",
    "        self.fc2 = nn.Linear(32, 10)\n",
    "        \n",
    "    def forward(self, x):\n",
    "        out = f.max_pool2d(torch.relu(self.conv1(x)), 2)\n",
    "        out = f.max_pool2d(torch.relu(self.conv2(out)), 2)\n",
    "        out = out.view(-1, 8 * 8 * (self.n_channels1 // 2))\n",
    "        out = torch.relu(self.fc1(out))\n",
    "        out = self.fc2(out)\n",
    "        return out\n",
    "        "
   ]
  },
  {
   "cell_type": "code",
   "execution_count": 3,
   "id": "9d98971f",
   "metadata": {},
   "outputs": [],
   "source": [
    "def training_loop(epochs, optimizer, model, loss_fn, train_loader, val_loader):\n",
    "    training_losses = []\n",
    "    val_losses = []\n",
    "    accuracies = []\n",
    "    for epoch in range(1, epochs + 1):\n",
    "        # Temp vars for use in finding the accuracy.\n",
    "        correct_labels = 0\n",
    "        count = 0\n",
    "        loss_val_value = 0\n",
    "        \n",
    "        #Set the model to inference mode\n",
    "        model.eval()\n",
    "        with torch.no_grad():\n",
    "            for imgs, labels in val_loader:\n",
    "                # Move the data to correct device\n",
    "                imgs = imgs.to(device=device)\n",
    "                labels = labels.to(device=device)\n",
    "                \n",
    "                # Pass imgs through the model and find the loss.\n",
    "                output = model(imgs)\n",
    "                loss_val = loss_fn(output, labels)\n",
    "                loss_val_value += float(loss_val)\n",
    "                \n",
    "                # Find the accurcey of the model.\n",
    "                _, predicted = torch.max(output, dim=1)\n",
    "                count += labels.shape[0]\n",
    "                correct_labels += int((predicted == labels).sum())\n",
    "            \n",
    "            # Store the loss and accuracy.\n",
    "            loss_val_value /= len(val_loader)\n",
    "            val_losses.append(loss_val_value)\n",
    "            accuracies.append(correct_labels/count)\n",
    "        \n",
    "        #Set the model to training mode.\n",
    "        model.train()\n",
    "        loss_train_value = 0\n",
    "        for imgs, labels in train_loader:\n",
    "            # Move the data to correct device\n",
    "            imgs = imgs.to(device=device)\n",
    "            labels = labels.to(device=device)\n",
    "            \n",
    "            # Pass imgs through the model and find the loss.\n",
    "            output = model(imgs)\n",
    "            loss_train = loss_fn(output, labels)\n",
    "            loss_train_value += float(loss_train)\n",
    "            \n",
    "            # Adject the params\n",
    "            optimizer.zero_grad()\n",
    "            loss_train.backward()\n",
    "            optimizer.step()\n",
    "        \n",
    "        # Store the loss\n",
    "        loss_train_value /= len(train_loader)\n",
    "        training_losses.append(loss_train_value)\n",
    "        \n",
    "        # Print out the loss every 10 epoch\n",
    "        if epoch % 10 == 0 or epoch == 1:\n",
    "            print(f\"Epoch: {epoch}, Training Loss: {loss_train_value}\", end=\"\")\n",
    "            print(f\", Validation Loss: {loss_val_value}, Accuracy: {(correct_labels/count)*100}%\")\n",
    "        \n",
    "    return training_losses, val_losses, accuracies"
   ]
  },
  {
   "cell_type": "code",
   "execution_count": 4,
   "id": "372047cd",
   "metadata": {},
   "outputs": [],
   "source": [
    "from torchvision import transforms\n",
    "\n",
    "transforms = transforms.Compose([\n",
    "    transforms.ToTensor(),\n",
    "    transforms.Normalize((0.4915, 0.4823, 0.4468),\n",
    "                         (0.2470, 0.2435, 0.2616))\n",
    "])"
   ]
  },
  {
   "cell_type": "code",
   "execution_count": 5,
   "id": "a306c0de",
   "metadata": {},
   "outputs": [
    {
     "name": "stdout",
     "output_type": "stream",
     "text": [
      "Files already downloaded and verified\n",
      "Files already downloaded and verified\n"
     ]
    }
   ],
   "source": [
    "# Download the cifar10 dataset.\n",
    "data = '.\\cifar10'\n",
    "cirfar10_train = datasets.CIFAR10(data, train=True, download=True, transform=transforms)\n",
    "cirfar10_val = datasets.CIFAR10(data, train=False, download=True, transform=transforms)"
   ]
  },
  {
   "cell_type": "code",
   "execution_count": 6,
   "id": "73711c77",
   "metadata": {},
   "outputs": [
    {
     "name": "stdout",
     "output_type": "stream",
     "text": [
      "Training on cpu\n"
     ]
    }
   ],
   "source": [
    "if torch.cuda.is_available():\n",
    "    device = 'cuda'\n",
    "else:\n",
    "    device = 'cpu'\n",
    "    \n",
    "print(f\"Training on {device}\")"
   ]
  },
  {
   "cell_type": "code",
   "execution_count": 7,
   "id": "73622bc2",
   "metadata": {
    "scrolled": true
   },
   "outputs": [],
   "source": [
    "NUM_EPOCHS = 300\n",
    "LEARNING_RATE = 1e-2\n",
    "BATCH_SIZE = 1024\n",
    "\n",
    "model = CNN().to(device=device)\n",
    "\n",
    "loss = nn.CrossEntropyLoss()\n",
    "optimizer = optim.SGD(model.parameters(), lr=LEARNING_RATE)\n",
    "\n",
    "# Load the data into a dataloaders.\n",
    "train_loader = torch.utils.data.DataLoader(cirfar10_train, \n",
    "                                           batch_size=BATCH_SIZE, \n",
    "                                           shuffle=True, \n",
    "                                           pin_memory=True, \n",
    "                                           persistent_workers=True, \n",
    "                                           num_workers=6)\n",
    "\n",
    "val_loader = torch.utils.data.DataLoader(cirfar10_val, \n",
    "                                         batch_size=BATCH_SIZE, \n",
    "                                         shuffle=False, \n",
    "                                         pin_memory=True, \n",
    "                                         persistent_workers=True, \n",
    "                                         num_workers=3)"
   ]
  },
  {
   "cell_type": "code",
   "execution_count": 8,
   "id": "a624deef",
   "metadata": {},
   "outputs": [
    {
     "name": "stdout",
     "output_type": "stream",
     "text": [
      "Epoch: 1, Training Loss: 2.3040478132209, Validation Loss: 2.3110695123672484, Accuracy: 9.11%\n",
      " \n",
      "Final Loss: 2.3040478132209, Final Accuracy: 9.11%\n",
      "Training Time: 48.79 seconds\n"
     ]
    }
   ],
   "source": [
    "# Using time to time the training.\n",
    "try:\n",
    "    start_time = time.time()\n",
    "    training_losses, val_losses, accuracies = training_loop(NUM_EPOCHS, optimizer, model, loss, train_loader, val_loader)\n",
    "    end_time = time.time()\n",
    "except Exception as e:\n",
    "    print(\"Exception in the training loop\")\n",
    "    print(e)\n",
    "finally:\n",
    "    try:\n",
    "        # Close the threads\n",
    "        train_loader._iterator._shutdown_workers()\n",
    "        val_loader._iterator._shutdown_workers()\n",
    "    except:\n",
    "        print(\"Failed shutting down the threads.\")\n",
    "\n",
    "# Report the final stats about the training.\n",
    "print(\" \")\n",
    "print(f\"Final Loss: {training_losses[-1]}, Final Accuracy: {accuracies[-1] * 100}%\")\n",
    "print(f\"Training Time: {(end_time - start_time):.2f} seconds\")"
   ]
  },
  {
   "cell_type": "code",
   "execution_count": 9,
   "id": "04b034cc",
   "metadata": {},
   "outputs": [
    {
     "data": {
      "text/plain": [
       "Text(0.5, 1.0, 'Problem 1a Losses')"
      ]
     },
     "execution_count": 9,
     "metadata": {},
     "output_type": "execute_result"
    },
    {
     "data": {
      "image/png": "[encoded data removed]",
      "text/plain": [
       "<Figure size 432x288 with 1 Axes>"
      ]
     },
     "metadata": {
      "needs_background": "light"
     },
     "output_type": "display_data"
    }
   ],
   "source": [
    "# Plotting the Losses\n",
    "\n",
    "fig = plt.figure()\n",
    "# Name the x and y axis\n",
    "plt.xlabel(\"Epochs\")\n",
    "plt.ylabel(\"Loss\")\n",
    "\n",
    "# Plot the model and the actual values.\n",
    "plt.plot(training_losses, label='Training loss')\n",
    "plt.plot(val_losses, label='Validation loss')\n",
    "plt.legend()\n",
    "plt.title(\"Problem 1a Losses\")"
   ]
  },
  {
   "cell_type": "code",
   "execution_count": 10,
   "id": "583245f7",
   "metadata": {},
   "outputs": [
    {
     "data": {
      "text/plain": [
       "Text(0.5, 1.0, 'Problem 1a Accuracy')"
      ]
     },
     "execution_count": 10,
     "metadata": {},
     "output_type": "execute_result"
    },
    {
     "data": {
      "image/png": "[encoded data removed]",
      "text/plain": [
       "<Figure size 432x288 with 1 Axes>"
      ]
     },
     "metadata": {
      "needs_background": "light"
     },
     "output_type": "display_data"
    }
   ],
   "source": [
    "# Plotting the accuracy of the model.\n",
    "\n",
    "fig = plt.figure()\n",
    "# Name the x and y axis\n",
    "plt.xlabel(\"Epochs\")\n",
    "plt.ylabel(\"Percents\")\n",
    "\n",
    "for i, x in enumerate(accuracies):\n",
    "    accuracies[i] = x * 100\n",
    "    \n",
    "\n",
    "plt.plot(accuracies, label='Accuracy')\n",
    "plt.legend()\n",
    "plt.title(\"Problem 1a Accuracy\")"
   ]
  },
  {
   "cell_type": "markdown",
   "id": "f6ea1830",
   "metadata": {},
   "source": [
    "<b>Problem 1b</b>  \n",
    "Extend your CNN by adding one more additional convolution layer followed by an activation function and pooling function. \n",
    "\n",
    "You also need to adjust your fully connected layer properly with respect to intermediate feature dimensions. \n",
    "\n",
    "Train your network for 300 epochs. Report your training time, loss, and evaluation accuracy after 300 epochs. Analyze your results in your report and compare your model size and accuracy over the baseline implementation in Problem1a. Do you see any over-fitting? Make sure to submit your code by providing the GitHub URL of your course repository for this course."
   ]
  },
  {
   "cell_type": "code",
   "execution_count": 11,
   "id": "4f7df7d3",
   "metadata": {},
   "outputs": [],
   "source": [
    "class CNN2(nn.Module):\n",
    "    def __init__(self, n_channels1 = 32):\n",
    "        super().__init__()\n",
    "        self.n_channels1 = n_channels1\n",
    "        self.conv1 = nn.Conv2d(3, self.n_channels1, kernel_size = 3, padding = 1)\n",
    "        self.conv2 = nn.Conv2d(n_channels1, (self.n_channels1 // 2), kernel_size = 3, padding = 1)\n",
    "        self.conv3 = nn.Conv2d((self.n_channels1 // 2), (self.n_channels1 // 4), kernel_size = 3, padding = 1)\n",
    "        self.fc1 = nn.Linear(4 * 4 * (self.n_channels1 // 4), 32)\n",
    "        self.fc2 = nn.Linear(32, 10)\n",
    "        \n",
    "    def forward(self, x):\n",
    "        out = f.max_pool2d(torch.relu(self.conv1(x)), 2)\n",
    "        out = f.max_pool2d(torch.relu(self.conv2(out)), 2)\n",
    "        out = f.max_pool2d(torch.relu(self.conv3(out)), 2)\n",
    "        out = out.view(-1, 4 * 4 * (self.n_channels1 // 4))\n",
    "        out = torch.tanh(self.fc1(out))\n",
    "        out = self.fc2(out)\n",
    "        return out"
   ]
  },
  {
   "cell_type": "code",
   "execution_count": 12,
   "id": "c2098a0d",
   "metadata": {},
   "outputs": [],
   "source": [
    "NUM_EPOCHS = 300\n",
    "LEARNING_RATE = 1e-2\n",
    "BATCH_SIZE = 1024\n",
    "\n",
    "model = CNN2().to(device=device)\n",
    "\n",
    "loss = nn.CrossEntropyLoss()\n",
    "optimizer = optim.SGD(model.parameters(), lr=LEARNING_RATE)\n",
    "\n",
    "# Load the data into a dataloaders.\n",
    "train_loader = torch.utils.data.DataLoader(cirfar10_train, \n",
    "                                           batch_size=BATCH_SIZE, \n",
    "                                           shuffle=True,\n",
    "                                           pin_memory=True, \n",
    "                                           persistent_workers=True, \n",
    "                                           num_workers=6)\n",
    "\n",
    "val_loader = torch.utils.data.DataLoader(cirfar10_val, \n",
    "                                         batch_size=BATCH_SIZE, \n",
    "                                         shuffle=False, \n",
    "                                         pin_memory=True, \n",
    "                                         persistent_workers=True, \n",
    "                                         num_workers=3)"
   ]
  },
  {
   "cell_type": "code",
   "execution_count": 13,
   "id": "109d987b",
   "metadata": {},
   "outputs": [
    {
     "name": "stdout",
     "output_type": "stream",
     "text": [
      "Epoch: 1, Training Loss: 2.3087884212026792, Validation Loss: 2.310524106025696, Accuracy: 12.24%\n",
      " \n",
      "Final Loss: 2.3087884212026792, Final Accuracy: 12.24%\n",
      "Training Time: 53.28 seconds\n"
     ]
    }
   ],
   "source": [
    "# Using time to time the training.\n",
    "try:\n",
    "    start_time = time.time()\n",
    "    training_losses, val_losses, accuracies = training_loop(NUM_EPOCHS, optimizer, model, loss, train_loader, val_loader)\n",
    "    end_time = time.time()\n",
    "except Exception as e:\n",
    "    print(\"Exception in the training loop\")\n",
    "    print(e)\n",
    "finally:\n",
    "    try:\n",
    "        # Close the threads\n",
    "        train_loader._iterator._shutdown_workers()\n",
    "        val_loader._iterator._shutdown_workers()\n",
    "    except:\n",
    "        print(\"Failed shutting down the threads.\")\n",
    "\n",
    "# Report the final stats about the training.\n",
    "print(\" \")\n",
    "print(f\"Final Loss: {training_losses[-1]}, Final Accuracy: {accuracies[-1] * 100}%\")\n",
    "print(f\"Training Time: {(end_time - start_time):.2f} seconds\")"
   ]
  },
  {
   "cell_type": "code",
   "execution_count": 14,
   "id": "00061247",
   "metadata": {},
   "outputs": [
    {
     "data": {
      "text/plain": [
       "Text(0.5, 1.0, 'Problem 1b Losses')"
      ]
     },
     "execution_count": 14,
     "metadata": {},
     "output_type": "execute_result"
    },
    {
     "data": {
      "image/png": "[encoded data removed]",
      "text/plain": [
       "<Figure size 432x288 with 1 Axes>"
      ]
     },
     "metadata": {
      "needs_background": "light"
     },
     "output_type": "display_data"
    }
   ],
   "source": [
    "# Plotting the Losses\n",
    "\n",
    "fig = plt.figure()\n",
    "# Name the x and y axis\n",
    "plt.xlabel(\"Epochs\")\n",
    "plt.ylabel(\"Loss\")\n",
    "\n",
    "# Plot the model and the actual values.\n",
    "plt.plot(training_losses, label='Training loss')\n",
    "plt.plot(val_losses, label='Validation loss')\n",
    "plt.legend()\n",
    "plt.title(\"Problem 1b Losses\")"
   ]
  },
  {
   "cell_type": "code",
   "execution_count": 15,
   "id": "47443ec1",
   "metadata": {},
   "outputs": [
    {
     "data": {
      "text/plain": [
       "Text(0.5, 1.0, 'Problem 1b Accuracy')"
      ]
     },
     "execution_count": 15,
     "metadata": {},
     "output_type": "execute_result"
    },
    {
     "data": {
      "image/png": "[encoded data removed]",
      "text/plain": [
       "<Figure size 432x288 with 1 Axes>"
      ]
     },
     "metadata": {
      "needs_background": "light"
     },
     "output_type": "display_data"
    }
   ],
   "source": [
    "# Plotting the accuracy of the model.\n",
    "\n",
    "fig = plt.figure()\n",
    "# Name the x and y axis\n",
    "plt.xlabel(\"Epochs\")\n",
    "plt.ylabel(\"Percents\")\n",
    "\n",
    "for i, x in enumerate(accuracies):\n",
    "    accuracies[i] = x * 100\n",
    "    \n",
    "\n",
    "plt.plot(accuracies, label='Accuracy')\n",
    "plt.legend()\n",
    "plt.title(\"Problem 1b Accuracy\")"
   ]
  },
  {
   "cell_type": "code",
   "execution_count": 16,
   "id": "f8f70eb2",
   "metadata": {},
   "outputs": [
    {
     "name": "stdout",
     "output_type": "stream",
     "text": [
      "Problem 1 Part a\n",
      "Model size: 38.65 k\n",
      "\n",
      "Problem 1 Part b\n",
      "Model size: 11.14 k\n"
     ]
    }
   ],
   "source": [
    "from ptflops import get_model_complexity_info\n",
    "\n",
    "model_p1a = CNN()\n",
    "model_p1b = CNN2()\n",
    "\n",
    "macs, params = get_model_complexity_info(model_p1a, (3, 32, 32), as_strings=True,\n",
    " print_per_layer_stat=False, verbose=False)\n",
    "# print out the Model size.\n",
    "print(\"Problem 1 Part a\")\n",
    "print(\"Model size: \" + params)\n",
    "\n",
    "print(\"\")\n",
    "\n",
    "macs, params = get_model_complexity_info(model_p1b, (3, 32, 32), as_strings=True,\n",
    " print_per_layer_stat=False, verbose=False)\n",
    "# print out the Model size.\n",
    "print(\"Problem 1 Part b\")\n",
    "print(\"Model size: \" + params)"
   ]
  },
  {
   "cell_type": "markdown",
   "id": "9e9cf309",
   "metadata": {},
   "source": [
    "<b>Problem 2a</b>  \n",
    "Build a ResNet based Convolutional Neural Network, like what we built in lectures (with skip connections), to classify the images across all 10 classes in CIFAR 10. For this problem, let’s use 10 blocks for ResNet and call it ResNet-10.  \n",
    "Use the similar dimensions and channels as we need in lectures. \n",
    "  \n",
    "Train your network for 300 epochs. Report your training time, training loss, and evaluation accuracy after 300 epochs. \n",
    "  \n",
    "Analyze your results in your report and compare them against problem 1.b on training time, achieved accuracy, and model size. \n",
    "Make sure to submit your code by providing the GitHub URL of your course repository for this course."
   ]
  },
  {
   "cell_type": "code",
   "execution_count": 17,
   "id": "0521428c",
   "metadata": {},
   "outputs": [],
   "source": [
    "class ResBlock(nn.Module):\n",
    "    def __init__(self, n_channels1):\n",
    "        super(ResBlock, self).__init__()\n",
    "        self.conv = nn.Conv2d(n_channels1, n_channels1, kernel_size = 3, padding = 1)\n",
    "        \n",
    "    def forward(self, x):\n",
    "        out = self.conv(x)\n",
    "        out = torch.relu(out)\n",
    "        return out + x"
   ]
  },
  {
   "cell_type": "code",
   "execution_count": 18,
   "id": "60667ef8",
   "metadata": {},
   "outputs": [],
   "source": [
    "class ResNet(nn.Module):\n",
    "    def __init__(self, n_channels1, n_blocks):\n",
    "        super().__init__()\n",
    "        self.n_channels1 = n_channels1\n",
    "        self.conv1 = nn.Conv2d(3, self.n_channels1, kernel_size = 3, padding = 1)\n",
    "        self.blocks = nn.Sequential(*(n_blocks * [ResBlock(n_channels1=self.n_channels1)]))\n",
    "        self.fc1 = nn.Linear(8 * 8 * self.n_channels1, 32)\n",
    "        self.fc2 = nn.Linear(32, 10)\n",
    "    \n",
    "    def forward(self, x):\n",
    "        out = f.max_pool2d(torch.relu(self.conv1(x)), 2)\n",
    "        out = f.max_pool2d(self.blocks(out), 2)\n",
    "        out = out.view(-1, 8 * 8 * self.n_channels1)\n",
    "        out = torch.relu(self.fc1(out))\n",
    "        out = self.fc2(out)\n",
    "        return out"
   ]
  },
  {
   "cell_type": "code",
   "execution_count": 19,
   "id": "744df635",
   "metadata": {},
   "outputs": [],
   "source": [
    "NUM_EPOCHS = 300\n",
    "LEARNING_RATE = 3e-3\n",
    "BATCH_SIZE = 1024\n",
    "NUM_CHANNELS = 32\n",
    "BLOCKS = 10\n",
    "\n",
    "model = ResNet(NUM_CHANNELS, BLOCKS).to(device=device)\n",
    "\n",
    "loss = nn.CrossEntropyLoss()\n",
    "optimizer = optim.SGD(model.parameters(), lr=LEARNING_RATE)\n",
    "\n",
    "# Load the data into a dataloaders.\n",
    "train_loader = torch.utils.data.DataLoader(cirfar10_train, \n",
    "                                           batch_size=BATCH_SIZE, \n",
    "                                           shuffle=True,\n",
    "                                           pin_memory=True, \n",
    "                                           persistent_workers=True, \n",
    "                                           num_workers=6)\n",
    "\n",
    "val_loader = torch.utils.data.DataLoader(cirfar10_val, \n",
    "                                         batch_size=BATCH_SIZE, \n",
    "                                         shuffle=False, \n",
    "                                         pin_memory=True, \n",
    "                                         persistent_workers=True, \n",
    "                                         num_workers=3)"
   ]
  },
  {
   "cell_type": "code",
   "execution_count": 20,
   "id": "8ad3a6f6",
   "metadata": {},
   "outputs": [
    {
     "name": "stdout",
     "output_type": "stream",
     "text": [
      "Epoch: 1, Training Loss: 2.2944923906910177, Validation Loss: 4.252889394760132, Accuracy: 11.459999999999999%\n",
      "Epoch: 10, Training Loss: 1.5960418496813094, Validation Loss: 1.6450591087341309, Accuracy: 41.370000000000005%\n",
      " \n",
      "Final Loss: 1.5960418496813094, Final Accuracy: 41.370000000000005%\n",
      "Training Time: 2002.44 seconds\n"
     ]
    }
   ],
   "source": [
    "# Using time to time the training.\n",
    "try:\n",
    "    start_time = time.time()\n",
    "    training_losses, val_losses, accuracies = training_loop(NUM_EPOCHS, optimizer, model, loss, train_loader, val_loader)\n",
    "    end_time = time.time()\n",
    "except Exception as e:\n",
    "    print(\"Exception in the training loop\")\n",
    "    print(e)\n",
    "finally:\n",
    "    try:\n",
    "        # Close the threads\n",
    "        train_loader._iterator._shutdown_workers()\n",
    "        val_loader._iterator._shutdown_workers()\n",
    "    except:\n",
    "        print(\"Failed shutting down the threads.\")\n",
    "\n",
    "# Report the final stats about the training.\n",
    "print(\" \")\n",
    "print(f\"Final Loss: {training_losses[-1]}, Final Accuracy: {accuracies[-1] * 100}%\")\n",
    "print(f\"Training Time: {(end_time - start_time):.2f} seconds\")"
   ]
  },
  {
   "cell_type": "code",
   "execution_count": 21,
   "id": "8cdfee15",
   "metadata": {},
   "outputs": [
    {
     "data": {
      "text/plain": [
       "Text(0.5, 1.0, 'Problem 2a Losses')"
      ]
     },
     "execution_count": 21,
     "metadata": {},
     "output_type": "execute_result"
    },
    {
     "data": {
      "image/png": "[encoded data removed]",
      "text/plain": [
       "<Figure size 432x288 with 1 Axes>"
      ]
     },
     "metadata": {
      "needs_background": "light"
     },
     "output_type": "display_data"
    }
   ],
   "source": [
    "# Plotting the Losses\n",
    "\n",
    "fig = plt.figure()\n",
    "# Name the x and y axis\n",
    "plt.xlabel(\"Epochs\")\n",
    "plt.ylabel(\"Loss\")\n",
    "\n",
    "# Plot the model and the actual values.\n",
    "plt.plot(training_losses, label='Training loss')\n",
    "plt.plot(val_losses, label='Validation loss')\n",
    "plt.legend()\n",
    "plt.title(\"Problem 2a Losses\")"
   ]
  },
  {
   "cell_type": "code",
   "execution_count": 22,
   "id": "cc9fa12b",
   "metadata": {},
   "outputs": [
    {
     "data": {
      "text/plain": [
       "Text(0.5, 1.0, 'Problem 2a Accuracy')"
      ]
     },
     "execution_count": 22,
     "metadata": {},
     "output_type": "execute_result"
    },
    {
     "data": {
      "image/png": "[encoded data removed]",
      "text/plain": [
       "<Figure size 432x288 with 1 Axes>"
      ]
     },
     "metadata": {
      "needs_background": "light"
     },
     "output_type": "display_data"
    }
   ],
   "source": [
    "# Plotting the accuracy of the model.\n",
    "\n",
    "fig = plt.figure()\n",
    "# Name the x and y axis\n",
    "plt.xlabel(\"Epochs\")\n",
    "plt.ylabel(\"Percents\")\n",
    "\n",
    "for i, x in enumerate(accuracies):\n",
    "    accuracies[i] = x * 100\n",
    "    \n",
    "\n",
    "plt.plot(accuracies, label='Accuracy')\n",
    "plt.legend()\n",
    "plt.title(\"Problem 2a Accuracy\")"
   ]
  },
  {
   "cell_type": "markdown",
   "id": "8598c36f",
   "metadata": {},
   "source": [
    "<b>Problem 2b</b>  \n",
    "Develop three additional trainings and evaluations for your ResNet-10 to assess the impacts of regularization to your ResNet-10.  \n",
    "\n",
    "- Weight Decay with lambda of 0.001  \n",
    "- Dropout with p=0.3  \n",
    "- Batch Normalization\n",
    "  \n",
    "Report and compare your training time, training loss, and evaluation accuracy after 300 epochs across these three different trainings. Analyze your results in your report and compare them against problem 1.a on training time, achieved accuracy."
   ]
  },
  {
   "cell_type": "code",
   "execution_count": 23,
   "id": "67b46f9c",
   "metadata": {},
   "outputs": [],
   "source": [
    "class ResBlockDropout(nn.Module):\n",
    "    def __init__(self, n_channels1, p):\n",
    "        super(ResBlockDropout, self).__init__()\n",
    "        self.conv = nn.Conv2d(n_channels1, n_channels1, kernel_size = 3, padding = 1)\n",
    "        self.dropout = nn.Dropout2d(p = p)\n",
    "        \n",
    "    def forward(self, x):\n",
    "        out = self.conv(x)\n",
    "        out = self.dropout(out)\n",
    "        out = torch.relu(out)\n",
    "        return out + x\n",
    "    \n",
    "class ResNetDropout(nn.Module):\n",
    "    def __init__(self, n_channels1, n_blocks, p):\n",
    "        super().__init__()\n",
    "        self.n_channels1 = n_channels1\n",
    "        self.conv1 = nn.Conv2d(3, self.n_channels1, kernel_size = 3, padding = 1)\n",
    "        self.blocks = nn.Sequential(*(n_blocks * [ResBlockDropout(n_channels1 = self.n_channels1, p = p)]))\n",
    "        self.dropout = nn.Dropout2d(p = p)\n",
    "        self.fc1 = nn.Linear(8 * 8 * self.n_channels1, 32)\n",
    "        self.fc2 = nn.Linear(32, 10)\n",
    "    \n",
    "    def forward(self, x):\n",
    "        out = f.max_pool2d(torch.relu(self.dropout(self.conv1(x))), 2)\n",
    "        out = f.max_pool2d(self.blocks(out), 2)\n",
    "        out = out.view(-1, 8 * 8 * self.n_channels1)\n",
    "        out = torch.relu(self.fc1(out))\n",
    "        out = self.fc2(out)\n",
    "        return out"
   ]
  },
  {
   "cell_type": "code",
   "execution_count": 24,
   "id": "591d4e9c",
   "metadata": {},
   "outputs": [],
   "source": [
    "class ResBlockBatchNorm(nn.Module):\n",
    "    def __init__(self, n_channels1):\n",
    "        super(ResBlockBatchNorm, self).__init__()\n",
    "        self.conv = nn.Conv2d(n_channels1, n_channels1, kernel_size = 3, padding = 1, bias = False)\n",
    "        self.batch_norm = nn.BatchNorm2d(num_features = n_channels1)\n",
    "        torch.nn.init.kaiming_normal_(self.conv.weight, nonlinearity = 'relu')\n",
    "        torch.nn.init.constant_(self.batch_norm.weight, 0.5)\n",
    "        torch.nn.init.zeros_(self.batch_norm.bias)\n",
    "        \n",
    "    def forward(self, x):\n",
    "        out = self.conv(x)\n",
    "        out = self.batch_norm(out)\n",
    "        out = torch.relu(out)\n",
    "        return out + x\n",
    "    \n",
    "    \n",
    "class ResNetBatchNorm(nn.Module):\n",
    "    def __init__(self, n_channels1, n_blocks):\n",
    "        super().__init__()\n",
    "        self.n_channels1 = n_channels1\n",
    "        self.conv1 = nn.Conv2d(3, self.n_channels1, kernel_size = 3, padding = 1)\n",
    "        self.batchnorm = nn.BatchNorm2d(num_features = n_channels1)\n",
    "        self.blocks = nn.Sequential(*(n_blocks * [ResBlockBatchNorm(n_channels1=self.n_channels1)]))\n",
    "        self.fc1 = nn.Linear(8 * 8 * self.n_channels1, 32)\n",
    "        self.fc2 = nn.Linear(32, 10)\n",
    "    \n",
    "    def forward(self, x):\n",
    "        out = f.max_pool2d(torch.relu(self.batchnorm(self.conv1(x))), 2)\n",
    "        out = f.max_pool2d(self.blocks(out), 2)\n",
    "        out = out.view(-1, 8 * 8 * self.n_channels1)\n",
    "        out = torch.relu(self.fc1(out))\n",
    "        out = self.fc2(out)\n",
    "        return out"
   ]
  },
  {
   "cell_type": "code",
   "execution_count": 41,
   "id": "2401d142",
   "metadata": {},
   "outputs": [],
   "source": [
    "def training_loopl2(epochs, optimizer, model, loss_fn, train_loader, val_loader, l2_lambda):\n",
    "    training_losses = []\n",
    "    val_losses = []\n",
    "    accuracies = []\n",
    "    for epoch in range(1, epochs + 1):\n",
    "        # Temp vars for use in finding the accuracy.\n",
    "        correct_labels = 0\n",
    "        count = 0\n",
    "        loss_val_value = 0\n",
    "        model.eval()\n",
    "        with torch.no_grad():\n",
    "            for imgs, labels in val_loader:\n",
    "                # Move the data to correct device\n",
    "                imgs = imgs.to(device=device)\n",
    "                labels = labels.to(device=device)\n",
    "                \n",
    "                # Pass imgs through the model and find the loss.\n",
    "                output = model(imgs)\n",
    "                loss_val = loss_fn(output, labels)\n",
    "                loss_val_value += float(loss_val)\n",
    "                \n",
    "                # Find the accurcey of the model.\n",
    "                _, predicted = torch.max(output, dim=1)\n",
    "                count += labels.shape[0]\n",
    "                correct_labels += int((predicted == labels).sum())\n",
    "            \n",
    "            # Store the loss and accuracy.\n",
    "            loss_val_value /= len(val_loader)\n",
    "            val_losses.append(loss_val_value)\n",
    "            accuracies.append(correct_labels/count)\n",
    "        \n",
    "        loss_train_value = 0\n",
    "        model.train()\n",
    "        for imgs, labels in train_loader:\n",
    "            # Move the data to correct device\n",
    "            imgs = imgs.to(device=device)\n",
    "            labels = labels.to(device=device)\n",
    "            \n",
    "            # Pass imgs through the model and find the loss.\n",
    "            output = model(imgs)\n",
    "            loss_train = loss_fn(output, labels)\n",
    "            \n",
    "            # Perform L2 regularization\n",
    "            l2_norm = sum(p.pow(2.0).sum() for p in model.parameters())\n",
    "            loss_train = loss_train + l2_lambda * l2_norm\n",
    "            loss_train_value += float(loss_train)\n",
    "            \n",
    "            # Adject the params\n",
    "            optimizer.zero_grad()\n",
    "            loss_train.backward()\n",
    "            optimizer.step()\n",
    "        \n",
    "        # Store the loss\n",
    "        loss_train_value /= len(train_loader)\n",
    "        training_losses.append(loss_train_value)\n",
    "        \n",
    "        # Print out the loss every 10 epoch\n",
    "        if epoch % 10 == 0 or epoch == 1:\n",
    "            print(f\"Epoch: {epoch}, Training Loss: {loss_train_value}\", end=\"\")\n",
    "            print(f\", Validation Loss: {loss_val_value}, Accuracy: {(correct_labels/count)*100}%\")\n",
    "        \n",
    "    return training_losses, val_losses, accuracies"
   ]
  },
  {
   "cell_type": "markdown",
   "id": "c8a779cc",
   "metadata": {},
   "source": [
    "<b>L2 regularization</b> "
   ]
  },
  {
   "cell_type": "code",
   "execution_count": 42,
   "id": "8734bfbb",
   "metadata": {},
   "outputs": [],
   "source": [
    "NUM_EPOCHS = 300\n",
    "LEARNING_RATE = 3e-3\n",
    "BATCH_SIZE = 1024\n",
    "NUM_CHANNELS = 32\n",
    "BLOCKS = 10\n",
    "LAMBDA = 0.001 \n",
    "\n",
    "model = ResNet(NUM_CHANNELS, BLOCKS).to(device=device)\n",
    "\n",
    "loss = nn.CrossEntropyLoss()\n",
    "optimizer = optim.SGD(model.parameters(), lr=LEARNING_RATE)\n",
    "\n",
    "# Load the data into a dataloaders.\n",
    "train_loader = torch.utils.data.DataLoader(cirfar10_train, \n",
    "                                           batch_size=BATCH_SIZE, \n",
    "                                           shuffle=True,\n",
    "                                           pin_memory=True, \n",
    "                                           persistent_workers=True, \n",
    "                                           num_workers=6)\n",
    "\n",
    "val_loader = torch.utils.data.DataLoader(cirfar10_val, \n",
    "                                         batch_size=BATCH_SIZE, \n",
    "                                         shuffle=False, \n",
    "                                         pin_memory=True, \n",
    "                                         persistent_workers=True, \n",
    "                                         num_workers=2)"
   ]
  },
  {
   "cell_type": "code",
   "execution_count": 43,
   "id": "545cbb54",
   "metadata": {},
   "outputs": [
    {
     "name": "stdout",
     "output_type": "stream",
     "text": [
      "Epoch: 1, Training Loss: 2.3535023465448495, Validation Loss: 6.755256271362304, Accuracy: 10.54%\n",
      " \n",
      "Final Loss: 2.3535023465448495, Final Accuracy: 10.54%\n",
      "Training Time: 212.96 seconds\n"
     ]
    }
   ],
   "source": [
    "# Using time to time the training.\n",
    "try:\n",
    "    start_time = time.time()\n",
    "    training_losses, val_losses, accuracies = training_loopl2(NUM_EPOCHS, \n",
    "                                                              optimizer, \n",
    "                                                              model, \n",
    "                                                              loss, \n",
    "                                                              train_loader, \n",
    "                                                              val_loader,\n",
    "                                                              LAMBDA)\n",
    "    end_time = time.time()\n",
    "except Exception as e:\n",
    "    print(\"Exception in the training loop\")\n",
    "    print(e)\n",
    "finally:\n",
    "    try:\n",
    "        # Close the threads\n",
    "        train_loader._iterator._shutdown_workers()\n",
    "        val_loader._iterator._shutdown_workers()\n",
    "    except:\n",
    "        print(\"Failed shutting down the threads.\")\n",
    "\n",
    "# Report the final stats about the training.\n",
    "print(\" \")\n",
    "print(f\"Final Loss: {training_losses[-1]}, Final Accuracy: {accuracies[-1] * 100}%\")\n",
    "print(f\"Training Time: {(end_time - start_time):.2f} seconds\")"
   ]
  },
  {
   "cell_type": "code",
   "execution_count": 28,
   "id": "c11d1650",
   "metadata": {},
   "outputs": [
    {
     "data": {
      "text/plain": [
       "Text(0.5, 1.0, 'Problem 2b Losses (L2 regularization)')"
      ]
     },
     "execution_count": 28,
     "metadata": {},
     "output_type": "execute_result"
    },
    {
     "data": {
      "image/png": "[encoded data removed]",
      "text/plain": [
       "<Figure size 432x288 with 1 Axes>"
      ]
     },
     "metadata": {
      "needs_background": "light"
     },
     "output_type": "display_data"
    }
   ],
   "source": [
    "# Plotting the Losses\n",
    "\n",
    "fig = plt.figure()\n",
    "# Name the x and y axis\n",
    "plt.xlabel(\"Epochs\")\n",
    "plt.ylabel(\"Loss\")\n",
    "\n",
    "# Plot the model and the actual values.\n",
    "plt.plot(training_losses, label='Training loss')\n",
    "plt.plot(val_losses, label='Validation loss')\n",
    "plt.legend()\n",
    "plt.title(\"Problem 2b Losses (L2 regularization)\")"
   ]
  },
  {
   "cell_type": "code",
   "execution_count": 29,
   "id": "9f568d74",
   "metadata": {},
   "outputs": [
    {
     "data": {
      "text/plain": [
       "Text(0.5, 1.0, 'Problem 2b Accuracy (L2 regularization)')"
      ]
     },
     "execution_count": 29,
     "metadata": {},
     "output_type": "execute_result"
    },
    {
     "data": {
      "image/png": "[encoded data removed]",
      "text/plain": [
       "<Figure size 432x288 with 1 Axes>"
      ]
     },
     "metadata": {
      "needs_background": "light"
     },
     "output_type": "display_data"
    }
   ],
   "source": [
    "# Plotting the accuracy of the model.\n",
    "\n",
    "fig = plt.figure()\n",
    "# Name the x and y axis\n",
    "plt.xlabel(\"Epochs\")\n",
    "plt.ylabel(\"Percents\")\n",
    "\n",
    "for i, x in enumerate(accuracies):\n",
    "    accuracies[i] = x * 100\n",
    "    \n",
    "\n",
    "plt.plot(accuracies, label='Accuracy')\n",
    "plt.legend()\n",
    "plt.title(\"Problem 2b Accuracy (L2 regularization)\")"
   ]
  },
  {
   "cell_type": "markdown",
   "id": "5f70d42e",
   "metadata": {},
   "source": [
    "<b>Dropout</b> "
   ]
  },
  {
   "cell_type": "code",
   "execution_count": 30,
   "id": "8b527c62",
   "metadata": {},
   "outputs": [],
   "source": [
    "NUM_EPOCHS = 300\n",
    "LEARNING_RATE = 3e-3\n",
    "BATCH_SIZE = 1024\n",
    "NUM_CHANNELS = 32\n",
    "BLOCKS = 10\n",
    "DROPOUT_RATE = 0.3\n",
    "\n",
    "model = ResNetDropout(NUM_CHANNELS, BLOCKS, DROPOUT_RATE).to(device=device)\n",
    "\n",
    "loss = nn.CrossEntropyLoss()\n",
    "optimizer = optim.SGD(model.parameters(), lr=LEARNING_RATE)\n",
    "\n",
    "# Load the data into a dataloaders.\n",
    "train_loader = torch.utils.data.DataLoader(cirfar10_train, \n",
    "                                           batch_size=BATCH_SIZE, \n",
    "                                           shuffle=True,\n",
    "                                           pin_memory=True, \n",
    "                                           persistent_workers=True, \n",
    "                                           num_workers=2)\n",
    "\n",
    "val_loader = torch.utils.data.DataLoader(cirfar10_val, \n",
    "                                         batch_size=BATCH_SIZE, \n",
    "                                         shuffle=False, \n",
    "                                         pin_memory=True, \n",
    "                                         persistent_workers=True, \n",
    "                                         num_workers=2)"
   ]
  },
  {
   "cell_type": "code",
   "execution_count": 31,
   "id": "749cc7e4",
   "metadata": {},
   "outputs": [
    {
     "name": "stdout",
     "output_type": "stream",
     "text": [
      "Epoch: 1, Training Loss: 2.3218765502073326, Validation Loss: 3.5428329706192017, Accuracy: 9.29%\n",
      " \n",
      "Final Loss: 2.3218765502073326, Final Accuracy: 9.29%\n",
      "Training Time: 222.90 seconds\n"
     ]
    }
   ],
   "source": [
    "# Using time to time the training.\n",
    "try:\n",
    "    start_time = time.time()\n",
    "    training_losses, val_losses, accuracies = training_loop(NUM_EPOCHS, optimizer, model, loss, train_loader, val_loader)\n",
    "    end_time = time.time()\n",
    "except Exception as e:\n",
    "    print(\"Exception in the training loop\")\n",
    "    print(e)\n",
    "finally:\n",
    "    try:\n",
    "        # Close the threads\n",
    "        train_loader._iterator._shutdown_workers()\n",
    "        val_loader._iterator._shutdown_workers()\n",
    "    except:\n",
    "        print(\"Failed shutting down the threads.\")\n",
    "\n",
    "# Report the final stats about the training.\n",
    "print(\" \")\n",
    "print(f\"Final Loss: {training_losses[-1]}, Final Accuracy: {accuracies[-1] * 100}%\")\n",
    "print(f\"Training Time: {(end_time - start_time):.2f} seconds\")"
   ]
  },
  {
   "cell_type": "code",
   "execution_count": 32,
   "id": "4d3ad0d1",
   "metadata": {},
   "outputs": [
    {
     "data": {
      "text/plain": [
       "Text(0.5, 1.0, 'Problem 2b Losses (Dropout)')"
      ]
     },
     "execution_count": 32,
     "metadata": {},
     "output_type": "execute_result"
    },
    {
     "data": {
      "image/png": "[encoded data removed]",
      "text/plain": [
       "<Figure size 432x288 with 1 Axes>"
      ]
     },
     "metadata": {
      "needs_background": "light"
     },
     "output_type": "display_data"
    }
   ],
   "source": [
    "# Plotting the Losses\n",
    "\n",
    "fig = plt.figure()\n",
    "# Name the x and y axis\n",
    "plt.xlabel(\"Epochs\")\n",
    "plt.ylabel(\"Loss\")\n",
    "\n",
    "# Plot the model and the actual values.\n",
    "plt.plot(training_losses, label='Training loss')\n",
    "plt.plot(val_losses, label='Validation loss')\n",
    "plt.legend()\n",
    "plt.title(\"Problem 2b Losses (Dropout)\")"
   ]
  },
  {
   "cell_type": "code",
   "execution_count": 33,
   "id": "de27866e",
   "metadata": {},
   "outputs": [
    {
     "data": {
      "text/plain": [
       "Text(0.5, 1.0, 'Problem 2b Accuracy (Dropout)')"
      ]
     },
     "execution_count": 33,
     "metadata": {},
     "output_type": "execute_result"
    },
    {
     "data": {
      "image/png": "[encoded data removed]",
      "text/plain": [
       "<Figure size 432x288 with 1 Axes>"
      ]
     },
     "metadata": {
      "needs_background": "light"
     },
     "output_type": "display_data"
    }
   ],
   "source": [
    "# Plotting the accuracy of the model.\n",
    "\n",
    "fig = plt.figure()\n",
    "# Name the x and y axis\n",
    "plt.xlabel(\"Epochs\")\n",
    "plt.ylabel(\"Percents\")\n",
    "\n",
    "for i, x in enumerate(accuracies):\n",
    "    accuracies[i] = x * 100\n",
    "    \n",
    "\n",
    "plt.plot(accuracies, label='Accuracy')\n",
    "plt.legend()\n",
    "plt.title(\"Problem 2b Accuracy (Dropout)\")"
   ]
  },
  {
   "cell_type": "markdown",
   "id": "0082e9a1",
   "metadata": {},
   "source": [
    "<b>Batch Normalization</b> "
   ]
  },
  {
   "cell_type": "code",
   "execution_count": 34,
   "id": "a42ce5ea",
   "metadata": {},
   "outputs": [],
   "source": [
    "NUM_EPOCHS = 300\n",
    "LEARNING_RATE = 3e-3\n",
    "BATCH_SIZE = 1024\n",
    "NUM_CHANNELS = 32\n",
    "BLOCKS = 10\n",
    "\n",
    "model = ResNetBatchNorm(NUM_CHANNELS, BLOCKS).to(device=device)\n",
    "\n",
    "loss = nn.CrossEntropyLoss()\n",
    "optimizer = optim.SGD(model.parameters(), lr=LEARNING_RATE)\n",
    "\n",
    "# Load the data into a dataloaders.\n",
    "train_loader = torch.utils.data.DataLoader(cirfar10_train, \n",
    "                                           batch_size=BATCH_SIZE, \n",
    "                                           shuffle=True,\n",
    "                                           pin_memory=True, \n",
    "                                           persistent_workers=True, \n",
    "                                           num_workers=2)\n",
    "\n",
    "val_loader = torch.utils.data.DataLoader(cirfar10_val, \n",
    "                                         batch_size=BATCH_SIZE, \n",
    "                                         shuffle=False, \n",
    "                                         pin_memory=True, \n",
    "                                         persistent_workers=True, \n",
    "                                         num_workers=2)"
   ]
  },
  {
   "cell_type": "code",
   "execution_count": 35,
   "id": "0bac584c",
   "metadata": {},
   "outputs": [
    {
     "name": "stdout",
     "output_type": "stream",
     "text": [
      "Epoch: 1, Training Loss: 2.230675376191431, Validation Loss: 13.848660087585449, Accuracy: 11.03%\n",
      " \n",
      "Final Loss: 2.230675376191431, Final Accuracy: 11.03%\n",
      "Training Time: 372.03 seconds\n"
     ]
    }
   ],
   "source": [
    "# Using time to time the training.\n",
    "try:\n",
    "    start_time = time.time()\n",
    "    training_losses, val_losses, accuracies = training_loop(NUM_EPOCHS, optimizer, model, loss, train_loader, val_loader)\n",
    "    end_time = time.time()\n",
    "except Exception as e:\n",
    "    print(\"Exception in the training loop\")\n",
    "    print(e)\n",
    "finally:\n",
    "    try:\n",
    "        # Close the threads\n",
    "        train_loader._iterator._shutdown_workers()\n",
    "        val_loader._iterator._shutdown_workers()\n",
    "    except:\n",
    "        print(\"Failed shutting down the threads.\")\n",
    "\n",
    "# Report the final stats about the training.\n",
    "print(\" \")\n",
    "print(f\"Final Loss: {training_losses[-1]}, Final Accuracy: {accuracies[-1] * 100}%\")\n",
    "print(f\"Training Time: {(end_time - start_time):.2f} seconds\")"
   ]
  },
  {
   "cell_type": "code",
   "execution_count": 36,
   "id": "a1b71fc9",
   "metadata": {},
   "outputs": [
    {
     "data": {
      "text/plain": [
       "Text(0.5, 1.0, 'Problem 2b Losses (Batch Normalization)')"
      ]
     },
     "execution_count": 36,
     "metadata": {},
     "output_type": "execute_result"
    },
    {
     "data": {
      "image/png": "[encoded data removed]",
      "text/plain": [
       "<Figure size 432x288 with 1 Axes>"
      ]
     },
     "metadata": {
      "needs_background": "light"
     },
     "output_type": "display_data"
    }
   ],
   "source": [
    "# Plotting the Losses\n",
    "\n",
    "fig = plt.figure()\n",
    "# Name the x and y axis\n",
    "plt.xlabel(\"Epochs\")\n",
    "plt.ylabel(\"Loss\")\n",
    "\n",
    "# Plot the model and the actual values.\n",
    "plt.plot(training_losses, label='Training loss')\n",
    "plt.plot(val_losses, label='Validation loss')\n",
    "plt.legend()\n",
    "plt.title(\"Problem 2b Losses (Batch Normalization)\")"
   ]
  },
  {
   "cell_type": "code",
   "execution_count": 37,
   "id": "fb7e364e",
   "metadata": {},
   "outputs": [
    {
     "data": {
      "text/plain": [
       "Text(0.5, 1.0, 'Problem 2b Accuracy (Batch Normalization)')"
      ]
     },
     "execution_count": 37,
     "metadata": {},
     "output_type": "execute_result"
    },
    {
     "data": {
      "image/png": "[encoded data removed]",
      "text/plain": [
       "<Figure size 432x288 with 1 Axes>"
      ]
     },
     "metadata": {
      "needs_background": "light"
     },
     "output_type": "display_data"
    }
   ],
   "source": [
    "# Plotting the accuracy of the model.\n",
    "\n",
    "fig = plt.figure()\n",
    "# Name the x and y axis\n",
    "plt.xlabel(\"Epochs\")\n",
    "plt.ylabel(\"Percents\")\n",
    "\n",
    "for i, x in enumerate(accuracies):\n",
    "    accuracies[i] = x * 100\n",
    "    \n",
    "\n",
    "plt.plot(accuracies, label='Accuracy')\n",
    "plt.legend()\n",
    "plt.title(\"Problem 2b Accuracy (Batch Normalization)\")"
   ]
  },
  {
   "cell_type": "code",
   "execution_count": 38,
   "id": "a57cc0e0",
   "metadata": {},
   "outputs": [
    {
     "name": "stdout",
     "output_type": "stream",
     "text": [
      "L2 regularization\n",
      "Model size: 76.04 k\n",
      "\n",
      "Dropout\n",
      "Model size: 76.04 k\n",
      "\n",
      "Batch Normalization\n",
      "Model size: 76.14 k\n"
     ]
    }
   ],
   "source": [
    "model_l2 = ResNet(32, 10)\n",
    "model_dropout = ResNetDropout(32, 10, 0.3)\n",
    "model_batchnorm = ResNetBatchNorm(32, 10)\n",
    "\n",
    "macs, params = get_model_complexity_info(model_l2, (3, 32, 32), as_strings=True,\n",
    " print_per_layer_stat=False, verbose=False)\n",
    "# print out the Model size.\n",
    "print(\"L2 regularization\")\n",
    "print(\"Model size: \" + params)\n",
    "\n",
    "print(\"\")\n",
    "\n",
    "macs, params = get_model_complexity_info(model_dropout, (3, 32, 32), as_strings=True,\n",
    " print_per_layer_stat=False, verbose=False)\n",
    "# print out the Model size.\n",
    "print(\"Dropout\")\n",
    "print(\"Model size: \" + params)\n",
    "\n",
    "print(\"\")\n",
    "\n",
    "macs, params = get_model_complexity_info(model_batchnorm, (3, 32, 32), as_strings=True,\n",
    " print_per_layer_stat=False, verbose=False)\n",
    "# print out the Model size.\n",
    "print(\"Batch Normalization\")\n",
    "print(\"Model size: \" + params)"
   ]
  },
  {
   "cell_type": "code",
   "execution_count": null,
   "id": "aec34266",
   "metadata": {},
   "outputs": [],
   "source": []
  }
 ],
 "metadata": {
  "kernelspec": {
   "display_name": "Python 3 (ipykernel)",
   "language": "python",
   "name": "python3"
  },
  "language_info": {
   "codemirror_mode": {
    "name": "ipython",
    "version": 3
   },
   "file_extension": ".py",
   "mimetype": "text/x-python",
   "name": "python",
   "nbconvert_exporter": "python",
   "pygments_lexer": "ipython3",
   "version": "3.8.12"
  }
 },
 "nbformat": 4,
 "nbformat_minor": 5
}
