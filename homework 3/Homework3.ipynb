{
 "cells": [
  {
   "cell_type": "markdown",
   "id": "91f9a9d1",
   "metadata": {},
   "source": [
    "Jonathon Nguyen\n",
    "\n",
    "ID: 801093003\n",
    "\n",
    "Homework 3"
   ]
  },
  {
   "cell_type": "code",
   "execution_count": 1,
   "id": "3ef050df",
   "metadata": {},
   "outputs": [],
   "source": [
    "import torch\n",
    "import torch.nn as nn\n",
    "import torch.nn.functional as f\n",
    "from torchvision import datasets\n",
    "import torch.optim as optim\n",
    "\n",
    "import time\n",
    "import datetime\n",
    "import numpy as np\n",
    "from PIL import Image\n",
    "import pandas as pd\n",
    "from matplotlib import pyplot as plt"
   ]
  },
  {
   "cell_type": "markdown",
   "id": "3535e0e2",
   "metadata": {},
   "source": [
    "<b>Problem 1a</b>  \n",
    "Build a Convolutional Neural Network, like what we built in lectures (without skip connections), to classify the images across all 10 classes in CIFAR 10. \n",
    "\n",
    "You need to adjust the fully connected layer at the end properly with respect to the number of output classes. Train your network for 300 epochs. \n",
    "\n",
    "Report your training time, training loss, and evaluation accuracy after 300 epochs. Analyze your results in your report and compare them against a fully connected network (homework 2) on training time, achieved accuracy, and model size. Make sure to submit your code by providing the GitHub URL of your course repository for this course."
   ]
  },
  {
   "cell_type": "code",
   "execution_count": 2,
   "id": "65a21195",
   "metadata": {},
   "outputs": [],
   "source": [
    "class CNN(nn.Module):\n",
    "    def __init__(self, n_channels1 = 32):\n",
    "        super().__init__()\n",
    "        self.n_channels1 = n_channels1\n",
    "        self.conv1 = nn.Conv2d(3, self.n_channels1, kernel_size = 3, padding = 1)\n",
    "        self.conv2 = nn.Conv2d(n_channels1, (self.n_channels1 // 2), kernel_size = 3, padding = 1)\n",
    "        self.fc1 = nn.Linear(8 * 8 * (self.n_channels1 // 2), 32)\n",
    "        self.fc2 = nn.Linear(32, 10)\n",
    "        \n",
    "    def forward(self, x):\n",
    "        out = f.max_pool2d(torch.relu(self.conv1(x)), 2)\n",
    "        out = f.max_pool2d(torch.relu(self.conv2(out)), 2)\n",
    "        out = out.view(-1, 8 * 8 * (self.n_channels1 // 2))\n",
    "        out = torch.relu(self.fc1(out))\n",
    "        out = self.fc2(out)\n",
    "        return out\n",
    "        "
   ]
  },
  {
   "cell_type": "code",
   "execution_count": 3,
   "id": "9d98971f",
   "metadata": {},
   "outputs": [],
   "source": [
    "def training_loop(epochs, optimizer, model, loss_fn, train_loader, val_loader):\n",
    "    training_losses = []\n",
    "    val_losses = []\n",
    "    train_accuracies = []\n",
    "    val_accuracies = []\n",
    "    for epoch in range(1, epochs + 1):\n",
    "        # Temp vars for use in finding the accuracy.\n",
    "        val_correct_labels = 0\n",
    "        val_count = 0\n",
    "        loss_val_value = 0\n",
    "        \n",
    "        #Set the model to inference mode\n",
    "        model.eval()\n",
    "        with torch.no_grad():\n",
    "            for imgs, labels in val_loader:\n",
    "                # Move the data to correct device\n",
    "                imgs = imgs.to(device=device)\n",
    "                labels = labels.to(device=device)\n",
    "                \n",
    "                # Pass imgs through the model and find the loss.\n",
    "                output = model(imgs)\n",
    "                loss_val = loss_fn(output, labels)\n",
    "                loss_val_value += float(loss_val)\n",
    "                \n",
    "                # Find the accurcey of the model.\n",
    "                _, predicted = torch.max(output, dim=1)\n",
    "                val_count += labels.shape[0]\n",
    "                val_correct_labels += int((predicted == labels).sum())\n",
    "            \n",
    "            # Store the loss and accuracy.\n",
    "            loss_val_value /= len(val_loader)\n",
    "            val_losses.append(loss_val_value)\n",
    "            val_accuracies.append(val_correct_labels/val_count)\n",
    "        \n",
    "        #Set the model to training mode.\n",
    "        model.train()\n",
    "        train_correct_labels = 0\n",
    "        train_count = 0\n",
    "        loss_train_value = 0\n",
    "        for imgs, labels in train_loader:\n",
    "            # Move the data to correct device\n",
    "            imgs = imgs.to(device=device)\n",
    "            labels = labels.to(device=device)\n",
    "            \n",
    "            # Pass imgs through the model and find the loss.\n",
    "            output = model(imgs)\n",
    "            loss_train = loss_fn(output, labels)\n",
    "            loss_train_value += float(loss_train)\n",
    "            \n",
    "            # Adject the params\n",
    "            optimizer.zero_grad()\n",
    "            loss_train.backward()\n",
    "            optimizer.step()\n",
    "            \n",
    "            # Find the accurcey of the model.\n",
    "            _, predicted = torch.max(output, dim=1)\n",
    "            train_count += labels.shape[0]\n",
    "            train_correct_labels += int((predicted == labels).sum())\n",
    "        \n",
    "        # Store the loss\n",
    "        loss_train_value /= len(train_loader)\n",
    "        training_losses.append(loss_train_value)\n",
    "        train_accuracies.append(train_correct_labels/train_count)\n",
    "        \n",
    "        # Print out the loss every 10 epoch\n",
    "        if epoch % 10 == 0 or epoch == 1:\n",
    "            print(f\"Epoch: {epoch}, Training Loss: {loss_train_value}\", end=\"\")\n",
    "            print(f\", Validation Loss: {loss_val_value}, Train Accuracy: {(train_correct_labels/train_count)*100}%, \")\n",
    "            print(f\"Validation Accuracy: {(val_correct_labels/val_count)*100}%\")\n",
    "        \n",
    "    return training_losses, val_losses, train_accuracies, val_accuracies"
   ]
  },
  {
   "cell_type": "code",
   "execution_count": 4,
   "id": "372047cd",
   "metadata": {},
   "outputs": [],
   "source": [
    "from torchvision import transforms\n",
    "\n",
    "transforms = transforms.Compose([\n",
    "    transforms.ToTensor(),\n",
    "    transforms.Normalize((0.4915, 0.4823, 0.4468),\n",
    "                         (0.2470, 0.2435, 0.2616))\n",
    "])"
   ]
  },
  {
   "cell_type": "code",
   "execution_count": 5,
   "id": "a306c0de",
   "metadata": {},
   "outputs": [
    {
     "name": "stdout",
     "output_type": "stream",
     "text": [
      "Files already downloaded and verified\n",
      "Files already downloaded and verified\n"
     ]
    }
   ],
   "source": [
    "# Download the cifar10 dataset.\n",
    "data = '.\\cifar10'\n",
    "cirfar10_train = datasets.CIFAR10(data, train=True, download=True, transform=transforms)\n",
    "cirfar10_val = datasets.CIFAR10(data, train=False, download=True, transform=transforms)"
   ]
  },
  {
   "cell_type": "code",
   "execution_count": 6,
   "id": "73711c77",
   "metadata": {},
   "outputs": [
    {
     "name": "stdout",
     "output_type": "stream",
     "text": [
      "Training on cuda\n"
     ]
    }
   ],
   "source": [
    "if torch.cuda.is_available():\n",
    "    device = 'cuda'\n",
    "else:\n",
    "    device = 'cpu'\n",
    "    \n",
    "print(f\"Training on {device}\")"
   ]
  },
  {
   "cell_type": "code",
   "execution_count": 7,
   "id": "73622bc2",
   "metadata": {
    "scrolled": true
   },
   "outputs": [],
   "source": [
    "NUM_EPOCHS = 300\n",
    "LEARNING_RATE = 1e-2\n",
    "BATCH_SIZE = 1024\n",
    "\n",
    "model = CNN().to(device=device)\n",
    "\n",
    "loss = nn.CrossEntropyLoss()\n",
    "optimizer = optim.SGD(model.parameters(), lr=LEARNING_RATE)\n",
    "\n",
    "# Load the data into a dataloaders.\n",
    "train_loader = torch.utils.data.DataLoader(cirfar10_train, \n",
    "                                           batch_size=BATCH_SIZE, \n",
    "                                           shuffle=True, \n",
    "                                           pin_memory=True, \n",
    "                                           persistent_workers=True, \n",
    "                                           num_workers=6)\n",
    "\n",
    "val_loader = torch.utils.data.DataLoader(cirfar10_val, \n",
    "                                         batch_size=BATCH_SIZE, \n",
    "                                         shuffle=False, \n",
    "                                         pin_memory=True, \n",
    "                                         persistent_workers=True, \n",
    "                                         num_workers=2)"
   ]
  },
  {
   "cell_type": "code",
   "execution_count": 8,
   "id": "a624deef",
   "metadata": {
    "scrolled": false
   },
   "outputs": [
    {
     "name": "stdout",
     "output_type": "stream",
     "text": [
      "Epoch: 1, Training Loss: 2.2955425126211986, Validation Loss: 2.3042561054229735, Train Accuracy: 12.952%, \n",
      "Validation Accuracy: 11.59%\n",
      "Epoch: 10, Training Loss: 1.8442904462619705, Validation Loss: 1.8580263018608094, Train Accuracy: 34.618%, \n",
      "Validation Accuracy: 34.27%\n",
      "Epoch: 20, Training Loss: 1.596616151381512, Validation Loss: 1.5941105604171752, Train Accuracy: 43.284%, \n",
      "Validation Accuracy: 43.03%\n",
      "Epoch: 30, Training Loss: 1.4580550437070885, Validation Loss: 1.4589152812957764, Train Accuracy: 47.914%, \n",
      "Validation Accuracy: 48.04%\n",
      "Epoch: 40, Training Loss: 1.3700478685145476, Validation Loss: 1.3732717990875245, Train Accuracy: 51.06%, \n",
      "Validation Accuracy: 51.11%\n",
      "Epoch: 50, Training Loss: 1.299148433062495, Validation Loss: 1.3218871116638184, Train Accuracy: 53.93%, \n",
      "Validation Accuracy: 53.14%\n",
      "Epoch: 60, Training Loss: 1.2585597962749249, Validation Loss: 1.281577503681183, Train Accuracy: 55.47%, \n",
      "Validation Accuracy: 55.120000000000005%\n",
      "Epoch: 70, Training Loss: 1.2105555874960763, Validation Loss: 1.227596378326416, Train Accuracy: 57.348%, \n",
      "Validation Accuracy: 56.49999999999999%\n",
      "Epoch: 80, Training Loss: 1.156944608201786, Validation Loss: 1.1904311299324035, Train Accuracy: 59.294000000000004%, \n",
      "Validation Accuracy: 58.32000000000001%\n",
      "Epoch: 90, Training Loss: 1.1238568875254418, Validation Loss: 1.1731510996818542, Train Accuracy: 60.504000000000005%, \n",
      "Validation Accuracy: 58.98%\n",
      "Epoch: 100, Training Loss: 1.0997404079048, Validation Loss: 1.1430832743644714, Train Accuracy: 61.466%, \n",
      "Validation Accuracy: 60.370000000000005%\n",
      "Epoch: 110, Training Loss: 1.0694901189025567, Validation Loss: 1.1183802962303162, Train Accuracy: 62.676%, \n",
      "Validation Accuracy: 61.14000000000001%\n",
      "Epoch: 120, Training Loss: 1.036156491357453, Validation Loss: 1.0973090887069703, Train Accuracy: 63.79%, \n",
      "Validation Accuracy: 62.23%\n",
      "Epoch: 130, Training Loss: 1.0129343563196611, Validation Loss: 1.1071391582489014, Train Accuracy: 64.614%, \n",
      "Validation Accuracy: 61.970000000000006%\n",
      "Epoch: 140, Training Loss: 0.983330095300869, Validation Loss: 1.0640487849712372, Train Accuracy: 65.816%, \n",
      "Validation Accuracy: 63.42%\n",
      "Epoch: 150, Training Loss: 0.9556920929830901, Validation Loss: 1.0387795269489288, Train Accuracy: 66.792%, \n",
      "Validation Accuracy: 64.25999999999999%\n",
      "Epoch: 160, Training Loss: 0.9400383258352474, Validation Loss: 1.0393112361431123, Train Accuracy: 67.432%, \n",
      "Validation Accuracy: 64.44%\n",
      "Epoch: 170, Training Loss: 0.9099398535125109, Validation Loss: 1.0176909506320952, Train Accuracy: 68.572%, \n",
      "Validation Accuracy: 65.14999999999999%\n",
      "Epoch: 180, Training Loss: 0.9003039209210143, Validation Loss: 1.000786578655243, Train Accuracy: 68.818%, \n",
      "Validation Accuracy: 65.44%\n",
      "Epoch: 190, Training Loss: 0.8795796292168754, Validation Loss: 1.005182832479477, Train Accuracy: 69.422%, \n",
      "Validation Accuracy: 65.36999999999999%\n",
      "Epoch: 200, Training Loss: 0.8669570781746689, Validation Loss: 0.9910204708576202, Train Accuracy: 69.94200000000001%, \n",
      "Validation Accuracy: 65.93%\n",
      "Epoch: 210, Training Loss: 0.8542824959268376, Validation Loss: 0.9895675480365753, Train Accuracy: 70.35%, \n",
      "Validation Accuracy: 66.10000000000001%\n",
      "Epoch: 220, Training Loss: 0.8380790121701299, Validation Loss: 0.9922572553157807, Train Accuracy: 70.954%, \n",
      "Validation Accuracy: 65.96%\n",
      "Epoch: 230, Training Loss: 0.8228327194038703, Validation Loss: 0.977374941110611, Train Accuracy: 71.63199999999999%, \n",
      "Validation Accuracy: 66.44%\n",
      "Epoch: 240, Training Loss: 0.8162860055359042, Validation Loss: 0.971097332239151, Train Accuracy: 71.628%, \n",
      "Validation Accuracy: 67.12%\n",
      "Epoch: 250, Training Loss: 0.802828561286537, Validation Loss: 0.9624959230422974, Train Accuracy: 72.11%, \n",
      "Validation Accuracy: 67.19000000000001%\n",
      "Epoch: 260, Training Loss: 0.7943886360343622, Validation Loss: 0.9591034173965454, Train Accuracy: 72.568%, \n",
      "Validation Accuracy: 67.32000000000001%\n",
      "Epoch: 270, Training Loss: 0.7854912475663789, Validation Loss: 0.962449711561203, Train Accuracy: 72.83800000000001%, \n",
      "Validation Accuracy: 67.47%\n",
      "Epoch: 280, Training Loss: 0.7822473560060773, Validation Loss: 0.9477557480335236, Train Accuracy: 72.868%, \n",
      "Validation Accuracy: 67.83%\n",
      "Epoch: 290, Training Loss: 0.760169694618303, Validation Loss: 0.9485102534294129, Train Accuracy: 73.65%, \n",
      "Validation Accuracy: 67.52%\n",
      "Epoch: 300, Training Loss: 0.7506052644885316, Validation Loss: 0.9500561714172363, Train Accuracy: 74.086%, \n",
      "Validation Accuracy: 68.08%\n",
      " \n",
      "Final Loss: 0.7506052644885316, Final Training Accuracy: 74.086%, \n",
      "Final Val Accuracy: 68.08%\n",
      "Training Time: 919.63 seconds\n"
     ]
    }
   ],
   "source": [
    "try:\n",
    "    # Using time to time the training.\n",
    "    start_time = time.time()\n",
    "    training_losses, val_losses, train_accuracies, val_accuracies = training_loop(NUM_EPOCHS, \n",
    "                                                                                  optimizer, \n",
    "                                                                                  model, \n",
    "                                                                                  loss, \n",
    "                                                                                  train_loader, \n",
    "                                                                                  val_loader)\n",
    "    end_time = time.time()\n",
    "except Exception as err:\n",
    "    print(err)\n",
    "finally:\n",
    "    # Close the threads\n",
    "    try:\n",
    "        train_loader._iterator._shutdown_workers()\n",
    "    except Exception as err:\n",
    "        print(err)\n",
    "        print(\"[Training loader]: Could not shutdown the workers. Might not have spawn yet.\")\n",
    "\n",
    "    try:\n",
    "        val_loader._iterator._shutdown_workers()\n",
    "    except Exception as err:\n",
    "        print(err)\n",
    "        print(\"[Validation loader]: Could not shutdown the workers. Might not have spawn yet.\")\n",
    "\n",
    "# Report the final stats about the training.\n",
    "print(\" \")\n",
    "print(f\"Final Loss: {training_losses[-1]}, Final Training Accuracy: {train_accuracies[-1] * 100}%, \")\n",
    "print(f\"Final Val Accuracy: {val_accuracies[-1] * 100}%\")\n",
    "print(f\"Training Time: {(end_time - start_time):.2f} seconds\")"
   ]
  },
  {
   "cell_type": "code",
   "execution_count": 9,
   "id": "04b034cc",
   "metadata": {},
   "outputs": [
    {
     "data": {
      "text/plain": [
       "Text(0.5, 1.0, 'Problem 1a Losses')"
      ]
     },
     "execution_count": 9,
     "metadata": {},
     "output_type": "execute_result"
    },
    {
     "data": {
      "image/png": "[encoded data removed]",
      "text/plain": [
       "<Figure size 432x288 with 1 Axes>"
      ]
     },
     "metadata": {
      "needs_background": "light"
     },
     "output_type": "display_data"
    }
   ],
   "source": [
    "# Plotting the Losses\n",
    "\n",
    "fig = plt.figure()\n",
    "# Name the x and y axis\n",
    "plt.xlabel(\"Epochs\")\n",
    "plt.ylabel(\"Loss\")\n",
    "\n",
    "# Plot the model and the actual values.\n",
    "plt.plot(training_losses, label='Training loss')\n",
    "plt.plot(val_losses, label='Validation loss')\n",
    "plt.legend()\n",
    "plt.title(\"Problem 1a Losses\")"
   ]
  },
  {
   "cell_type": "code",
   "execution_count": 10,
   "id": "583245f7",
   "metadata": {},
   "outputs": [
    {
     "data": {
      "text/plain": [
       "Text(0.5, 1.0, 'Problem 1a Accuracy')"
      ]
     },
     "execution_count": 10,
     "metadata": {},
     "output_type": "execute_result"
    },
    {
     "data": {
      "image/png": "[encoded data removed]",
      "text/plain": [
       "<Figure size 432x288 with 1 Axes>"
      ]
     },
     "metadata": {
      "needs_background": "light"
     },
     "output_type": "display_data"
    }
   ],
   "source": [
    "# Plotting the accuracy of the model.\n",
    "\n",
    "fig = plt.figure()\n",
    "# Name the x and y axis\n",
    "plt.xlabel(\"Epochs\")\n",
    "plt.ylabel(\"Percents\")\n",
    "\n",
    "for i, x in enumerate(train_accuracies):\n",
    "    train_accuracies[i] = x * 100\n",
    "\n",
    "for i, x in enumerate(val_accuracies):\n",
    "    val_accuracies[i] = x * 100\n",
    "    \n",
    "\n",
    "plt.plot(train_accuracies, label='Train Accuracy')\n",
    "plt.plot(val_accuracies, label='Val Accuracy')\n",
    "plt.legend()\n",
    "plt.title(\"Problem 1a Accuracy\")"
   ]
  },
  {
   "cell_type": "markdown",
   "id": "f6ea1830",
   "metadata": {},
   "source": [
    "<b>Problem 1b</b>  \n",
    "Extend your CNN by adding one more additional convolution layer followed by an activation function and pooling function. \n",
    "\n",
    "You also need to adjust your fully connected layer properly with respect to intermediate feature dimensions. \n",
    "\n",
    "Train your network for 300 epochs. Report your training time, loss, and evaluation accuracy after 300 epochs. Analyze your results in your report and compare your model size and accuracy over the baseline implementation in Problem1a. Do you see any over-fitting? Make sure to submit your code by providing the GitHub URL of your course repository for this course."
   ]
  },
  {
   "cell_type": "code",
   "execution_count": 11,
   "id": "4f7df7d3",
   "metadata": {},
   "outputs": [],
   "source": [
    "class CNN2(nn.Module):\n",
    "    def __init__(self, n_channels1 = 32):\n",
    "        super().__init__()\n",
    "        self.n_channels1 = n_channels1\n",
    "        self.conv1 = nn.Conv2d(3, self.n_channels1, kernel_size = 3, padding = 1)\n",
    "        self.conv2 = nn.Conv2d(n_channels1, (self.n_channels1 // 2), kernel_size = 3, padding = 1)\n",
    "        self.conv3 = nn.Conv2d((self.n_channels1 // 2), (self.n_channels1 // 4), kernel_size = 3, padding = 1)\n",
    "        self.fc1 = nn.Linear(4 * 4 * (self.n_channels1 // 4), 32)\n",
    "        self.fc2 = nn.Linear(32, 10)\n",
    "        \n",
    "    def forward(self, x):\n",
    "        out = f.max_pool2d(torch.relu(self.conv1(x)), 2)\n",
    "        out = f.max_pool2d(torch.relu(self.conv2(out)), 2)\n",
    "        out = f.max_pool2d(torch.relu(self.conv3(out)), 2)\n",
    "        out = out.view(-1, 4 * 4 * (self.n_channels1 // 4))\n",
    "        out = torch.tanh(self.fc1(out))\n",
    "        out = self.fc2(out)\n",
    "        return out"
   ]
  },
  {
   "cell_type": "code",
   "execution_count": 12,
   "id": "c2098a0d",
   "metadata": {},
   "outputs": [],
   "source": [
    "NUM_EPOCHS = 300\n",
    "LEARNING_RATE = 1e-2\n",
    "BATCH_SIZE = 1024\n",
    "\n",
    "model = CNN2().to(device=device)\n",
    "\n",
    "loss = nn.CrossEntropyLoss()\n",
    "optimizer = optim.SGD(model.parameters(), lr=LEARNING_RATE)\n",
    "\n",
    "# Load the data into a dataloaders.\n",
    "train_loader = torch.utils.data.DataLoader(cirfar10_train, \n",
    "                                           batch_size=BATCH_SIZE, \n",
    "                                           shuffle=True,\n",
    "                                           pin_memory=True, \n",
    "                                           persistent_workers=True, \n",
    "                                           num_workers=6)\n",
    "\n",
    "val_loader = torch.utils.data.DataLoader(cirfar10_val, \n",
    "                                         batch_size=BATCH_SIZE, \n",
    "                                         shuffle=False, \n",
    "                                         pin_memory=True, \n",
    "                                         persistent_workers=True, \n",
    "                                         num_workers=2)"
   ]
  },
  {
   "cell_type": "code",
   "execution_count": 13,
   "id": "109d987b",
   "metadata": {},
   "outputs": [
    {
     "name": "stdout",
     "output_type": "stream",
     "text": [
      "Epoch: 1, Training Loss: 2.301606762165926, Validation Loss: 2.30378520488739, Train Accuracy: 10.158000000000001%, \n",
      "Validation Accuracy: 9.969999999999999%\n",
      "Epoch: 10, Training Loss: 2.1319300009279836, Validation Loss: 2.1419822692871096, Train Accuracy: 22.142%, \n",
      "Validation Accuracy: 21.05%\n",
      "Epoch: 20, Training Loss: 1.9084616777848225, Validation Loss: 1.918773889541626, Train Accuracy: 31.8%, \n",
      "Validation Accuracy: 31.630000000000003%\n",
      "Epoch: 30, Training Loss: 1.7271657987516753, Validation Loss: 1.7192156076431275, Train Accuracy: 37.128%, \n",
      "Validation Accuracy: 37.269999999999996%\n",
      "Epoch: 40, Training Loss: 1.6316196894159123, Validation Loss: 1.6280341506004334, Train Accuracy: 40.472%, \n",
      "Validation Accuracy: 40.45%\n",
      "Epoch: 50, Training Loss: 1.5687541110174996, Validation Loss: 1.5646364450454713, Train Accuracy: 42.936%, \n",
      "Validation Accuracy: 42.809999999999995%\n",
      "Epoch: 60, Training Loss: 1.5181748137182118, Validation Loss: 1.5059452295303344, Train Accuracy: 44.808%, \n",
      "Validation Accuracy: 44.78%\n",
      "Epoch: 70, Training Loss: 1.4770508688323352, Validation Loss: 1.4714210629463196, Train Accuracy: 46.478%, \n",
      "Validation Accuracy: 46.21%\n",
      "Epoch: 80, Training Loss: 1.4374104665250194, Validation Loss: 1.4401942849159242, Train Accuracy: 48.098%, \n",
      "Validation Accuracy: 47.22%\n",
      "Epoch: 90, Training Loss: 1.406398673446811, Validation Loss: 1.4164637446403503, Train Accuracy: 49.328%, \n",
      "Validation Accuracy: 48.67%\n",
      "Epoch: 100, Training Loss: 1.3747797328598645, Validation Loss: 1.3795557379722596, Train Accuracy: 50.51%, \n",
      "Validation Accuracy: 50.029999999999994%\n",
      "Epoch: 110, Training Loss: 1.3477652145891774, Validation Loss: 1.3578344702720642, Train Accuracy: 51.55800000000001%, \n",
      "Validation Accuracy: 50.519999999999996%\n",
      "Epoch: 120, Training Loss: 1.3203445016121378, Validation Loss: 1.3394025802612304, Train Accuracy: 52.769999999999996%, \n",
      "Validation Accuracy: 51.470000000000006%\n",
      "Epoch: 130, Training Loss: 1.2892763030772307, Validation Loss: 1.3060084104537963, Train Accuracy: 53.788000000000004%, \n",
      "Validation Accuracy: 52.910000000000004%\n",
      "Epoch: 140, Training Loss: 1.2674669805838137, Validation Loss: 1.31036274433136, Train Accuracy: 54.65%, \n",
      "Validation Accuracy: 52.459999999999994%\n",
      "Epoch: 150, Training Loss: 1.240694345260153, Validation Loss: 1.2608980536460876, Train Accuracy: 55.788000000000004%, \n",
      "Validation Accuracy: 54.65%\n",
      "Epoch: 160, Training Loss: 1.221480172507617, Validation Loss: 1.2328736186027527, Train Accuracy: 56.39999999999999%, \n",
      "Validation Accuracy: 55.989999999999995%\n",
      "Epoch: 170, Training Loss: 1.1939981640601645, Validation Loss: 1.2161322474479674, Train Accuracy: 57.408%, \n",
      "Validation Accuracy: 56.13%\n",
      "Epoch: 180, Training Loss: 1.1775222457185084, Validation Loss: 1.1958510518074035, Train Accuracy: 58.10999999999999%, \n",
      "Validation Accuracy: 57.35%\n",
      "Epoch: 190, Training Loss: 1.1626266751970564, Validation Loss: 1.1733281493186951, Train Accuracy: 58.584%, \n",
      "Validation Accuracy: 58.489999999999995%\n",
      "Epoch: 200, Training Loss: 1.1394536130282344, Validation Loss: 1.1730970859527587, Train Accuracy: 59.474000000000004%, \n",
      "Validation Accuracy: 58.43000000000001%\n",
      "Epoch: 210, Training Loss: 1.1208114088798056, Validation Loss: 1.1552870988845825, Train Accuracy: 60.132%, \n",
      "Validation Accuracy: 59.489999999999995%\n",
      "Epoch: 220, Training Loss: 1.1112168054191434, Validation Loss: 1.1283663630485534, Train Accuracy: 60.629999999999995%, \n",
      "Validation Accuracy: 60.17%\n",
      "Epoch: 230, Training Loss: 1.0852455168354267, Validation Loss: 1.1539132714271545, Train Accuracy: 61.45%, \n",
      "Validation Accuracy: 59.31999999999999%\n",
      "Epoch: 240, Training Loss: 1.070779029203921, Validation Loss: 1.0957736253738404, Train Accuracy: 62.03999999999999%, \n",
      "Validation Accuracy: 61.61%\n",
      "Epoch: 250, Training Loss: 1.0585996447777262, Validation Loss: 1.1143147945404053, Train Accuracy: 62.629999999999995%, \n",
      "Validation Accuracy: 60.51%\n",
      "Epoch: 260, Training Loss: 1.042268164303838, Validation Loss: 1.0812086105346679, Train Accuracy: 63.214000000000006%, \n",
      "Validation Accuracy: 61.919999999999995%\n",
      "Epoch: 270, Training Loss: 1.036059883176064, Validation Loss: 1.087683951854706, Train Accuracy: 63.232%, \n",
      "Validation Accuracy: 61.760000000000005%\n",
      "Epoch: 280, Training Loss: 1.0194789292861004, Validation Loss: 1.0503705978393554, Train Accuracy: 64.122%, \n",
      "Validation Accuracy: 62.949999999999996%\n",
      "Epoch: 290, Training Loss: 1.0089996019188239, Validation Loss: 1.044353437423706, Train Accuracy: 64.338%, \n",
      "Validation Accuracy: 62.849999999999994%\n",
      "Epoch: 300, Training Loss: 0.9915532652212649, Validation Loss: 1.0467054963111877, Train Accuracy: 64.958%, \n",
      "Validation Accuracy: 63.470000000000006%\n",
      " \n",
      "Final Loss: 0.9915532652212649, Final Training Accuracy: 64.958%, Final Val Accuracy: 63.470000000000006%\n",
      "Training Time: 892.96 seconds\n"
     ]
    }
   ],
   "source": [
    "try:\n",
    "    # Using time to time the training.\n",
    "    start_time = time.time()\n",
    "    training_losses, val_losses, train_accuracies, val_accuracies = training_loop(NUM_EPOCHS, \n",
    "                                                                                  optimizer, \n",
    "                                                                                  model, \n",
    "                                                                                  loss, \n",
    "                                                                                  train_loader, \n",
    "                                                                                  val_loader)\n",
    "    end_time = time.time()\n",
    "except Exception as err:\n",
    "    print(err)\n",
    "finally:\n",
    "    # Close the threads\n",
    "    try:\n",
    "        train_loader._iterator._shutdown_workers()\n",
    "    except Exception as err:\n",
    "        print(err)\n",
    "        print(\"[Training loader]: Could not shutdown the workers. Might not have spawn yet.\")\n",
    "\n",
    "    try:\n",
    "        val_loader._iterator._shutdown_workers()\n",
    "    except Exception as err:\n",
    "        print(err)\n",
    "        print(\"[Validation loader]: Could not shutdown the workers. Might not have spawn yet.\")\n",
    "\n",
    "# Report the final stats about the training.\n",
    "print(\" \")\n",
    "print(f\"Final Loss: {training_losses[-1]}, Final Training Accuracy: {train_accuracies[-1] * 100}%, \", end=\"\")\n",
    "print(f\"Final Val Accuracy: {val_accuracies[-1] * 100}%\")\n",
    "print(f\"Training Time: {(end_time - start_time):.2f} seconds\")"
   ]
  },
  {
   "cell_type": "code",
   "execution_count": 14,
   "id": "00061247",
   "metadata": {},
   "outputs": [
    {
     "data": {
      "text/plain": [
       "Text(0.5, 1.0, 'Problem 1b Losses')"
      ]
     },
     "execution_count": 14,
     "metadata": {},
     "output_type": "execute_result"
    },
    {
     "data": {
      "image/png": "[encoded data removed]",
      "text/plain": [
       "<Figure size 432x288 with 1 Axes>"
      ]
     },
     "metadata": {
      "needs_background": "light"
     },
     "output_type": "display_data"
    }
   ],
   "source": [
    "# Plotting the Losses\n",
    "\n",
    "fig = plt.figure()\n",
    "# Name the x and y axis\n",
    "plt.xlabel(\"Epochs\")\n",
    "plt.ylabel(\"Loss\")\n",
    "\n",
    "# Plot the model and the actual values.\n",
    "plt.plot(training_losses, label='Training loss')\n",
    "plt.plot(val_losses, label='Validation loss')\n",
    "plt.legend()\n",
    "plt.title(\"Problem 1b Losses\")"
   ]
  },
  {
   "cell_type": "code",
   "execution_count": 15,
   "id": "47443ec1",
   "metadata": {},
   "outputs": [
    {
     "data": {
      "text/plain": [
       "Text(0.5, 1.0, 'Problem 1b Accuracy')"
      ]
     },
     "execution_count": 15,
     "metadata": {},
     "output_type": "execute_result"
    },
    {
     "data": {
      "image/png": "[encoded data removed]",
      "text/plain": [
       "<Figure size 432x288 with 1 Axes>"
      ]
     },
     "metadata": {
      "needs_background": "light"
     },
     "output_type": "display_data"
    }
   ],
   "source": [
    "# Plotting the accuracy of the model.\n",
    "\n",
    "fig = plt.figure()\n",
    "# Name the x and y axis\n",
    "plt.xlabel(\"Epochs\")\n",
    "plt.ylabel(\"Percents\")\n",
    "\n",
    "for i, x in enumerate(train_accuracies):\n",
    "    train_accuracies[i] = x * 100\n",
    "\n",
    "for i, x in enumerate(val_accuracies):\n",
    "    val_accuracies[i] = x * 100\n",
    "    \n",
    "\n",
    "plt.plot(train_accuracies, label='Train Accuracy')\n",
    "plt.plot(val_accuracies, label='Val Accuracy')\n",
    "plt.legend()\n",
    "plt.title(\"Problem 1b Accuracy\")"
   ]
  },
  {
   "cell_type": "code",
   "execution_count": 16,
   "id": "f8f70eb2",
   "metadata": {},
   "outputs": [
    {
     "name": "stdout",
     "output_type": "stream",
     "text": [
      "Problem 1 Part a\n",
      "Model size: 38.65 k\n",
      "\n",
      "Problem 1 Part b\n",
      "Model size: 11.14 k\n"
     ]
    }
   ],
   "source": [
    "from ptflops import get_model_complexity_info\n",
    "\n",
    "model_p1a = CNN()\n",
    "model_p1b = CNN2()\n",
    "\n",
    "macs, params = get_model_complexity_info(model_p1a, (3, 32, 32), as_strings=True,\n",
    " print_per_layer_stat=False, verbose=False)\n",
    "# print out the Model size.\n",
    "print(\"Problem 1 Part a\")\n",
    "print(\"Model size: \" + params)\n",
    "\n",
    "print(\"\")\n",
    "\n",
    "macs, params = get_model_complexity_info(model_p1b, (3, 32, 32), as_strings=True,\n",
    " print_per_layer_stat=False, verbose=False)\n",
    "# print out the Model size.\n",
    "print(\"Problem 1 Part b\")\n",
    "print(\"Model size: \" + params)"
   ]
  },
  {
   "cell_type": "markdown",
   "id": "9e9cf309",
   "metadata": {},
   "source": [
    "<b>Problem 2a</b>  \n",
    "Build a ResNet based Convolutional Neural Network, like what we built in lectures (with skip connections), to classify the images across all 10 classes in CIFAR 10. For this problem, let’s use 10 blocks for ResNet and call it ResNet-10.  \n",
    "Use the similar dimensions and channels as we need in lectures. \n",
    "  \n",
    "Train your network for 300 epochs. Report your training time, training loss, and evaluation accuracy after 300 epochs. \n",
    "  \n",
    "Analyze your results in your report and compare them against problem 1.b on training time, achieved accuracy, and model size. \n",
    "Make sure to submit your code by providing the GitHub URL of your course repository for this course."
   ]
  },
  {
   "cell_type": "code",
   "execution_count": 17,
   "id": "0521428c",
   "metadata": {},
   "outputs": [],
   "source": [
    "class ResBlock(nn.Module):\n",
    "    def __init__(self, n_channels1):\n",
    "        super(ResBlock, self).__init__()\n",
    "        self.conv = nn.Conv2d(n_channels1, n_channels1, kernel_size = 3, padding = 1)\n",
    "        \n",
    "    def forward(self, x):\n",
    "        out = self.conv(x)\n",
    "        out = torch.relu(out)\n",
    "        return out + x"
   ]
  },
  {
   "cell_type": "code",
   "execution_count": 18,
   "id": "60667ef8",
   "metadata": {},
   "outputs": [],
   "source": [
    "class ResNet(nn.Module):\n",
    "    def __init__(self, n_channels1, n_blocks):\n",
    "        super().__init__()\n",
    "        self.n_channels1 = n_channels1\n",
    "        self.conv1 = nn.Conv2d(3, self.n_channels1, kernel_size = 3, padding = 1)\n",
    "        self.blocks = nn.Sequential(*(n_blocks * [ResBlock(n_channels1=self.n_channels1)]))\n",
    "        self.fc1 = nn.Linear(8 * 8 * self.n_channels1, 32)\n",
    "        self.fc2 = nn.Linear(32, 10)\n",
    "    \n",
    "    def forward(self, x):\n",
    "        out = f.max_pool2d(torch.relu(self.conv1(x)), 2)\n",
    "        out = f.max_pool2d(self.blocks(out), 2)\n",
    "        out = out.view(-1, 8 * 8 * self.n_channels1)\n",
    "        out = torch.relu(self.fc1(out))\n",
    "        out = self.fc2(out)\n",
    "        return out"
   ]
  },
  {
   "cell_type": "code",
   "execution_count": 19,
   "id": "744df635",
   "metadata": {},
   "outputs": [],
   "source": [
    "NUM_EPOCHS = 300\n",
    "LEARNING_RATE = 3e-3\n",
    "BATCH_SIZE = 1024\n",
    "NUM_CHANNELS = 32\n",
    "BLOCKS = 10\n",
    "\n",
    "model = ResNet(NUM_CHANNELS, BLOCKS).to(device=device)\n",
    "\n",
    "loss = nn.CrossEntropyLoss()\n",
    "optimizer = optim.SGD(model.parameters(), lr=LEARNING_RATE)\n",
    "\n",
    "# Load the data into a dataloaders.\n",
    "train_loader = torch.utils.data.DataLoader(cirfar10_train, \n",
    "                                           batch_size=BATCH_SIZE, \n",
    "                                           shuffle=True,\n",
    "                                           pin_memory=True, \n",
    "                                           persistent_workers=True, \n",
    "                                           num_workers=6)\n",
    "\n",
    "val_loader = torch.utils.data.DataLoader(cirfar10_val, \n",
    "                                         batch_size=BATCH_SIZE, \n",
    "                                         shuffle=False, \n",
    "                                         pin_memory=True, \n",
    "                                         persistent_workers=True, \n",
    "                                         num_workers=2)"
   ]
  },
  {
   "cell_type": "code",
   "execution_count": 20,
   "id": "8ad3a6f6",
   "metadata": {},
   "outputs": [
    {
     "name": "stdout",
     "output_type": "stream",
     "text": [
      "Epoch: 1, Training Loss: 2.2091207601586165, Validation Loss: 3.409150791168213, Train Accuracy: 19.464000000000002%, \n",
      "Validation Accuracy: 9.87%\n",
      "Epoch: 10, Training Loss: 1.5232609534750179, Validation Loss: 1.6260629892349243, Train Accuracy: 45.564%, \n",
      "Validation Accuracy: 41.24%\n",
      "Epoch: 20, Training Loss: 1.3039579488793198, Validation Loss: 1.3965609073638916, Train Accuracy: 53.434000000000005%, \n",
      "Validation Accuracy: 49.7%\n",
      "Epoch: 30, Training Loss: 1.1880691197453712, Validation Loss: 1.1879597783088685, Train Accuracy: 57.888%, \n",
      "Validation Accuracy: 57.65%\n",
      "Epoch: 40, Training Loss: 1.1038207010347016, Validation Loss: 1.1301270127296448, Train Accuracy: 60.866%, \n",
      "Validation Accuracy: 59.91%\n",
      "Epoch: 50, Training Loss: 1.0277478548945214, Validation Loss: 1.0989624857902527, Train Accuracy: 63.944%, \n",
      "Validation Accuracy: 61.07%\n",
      "Epoch: 60, Training Loss: 0.9741090134698518, Validation Loss: 1.0422486066818237, Train Accuracy: 65.666%, \n",
      "Validation Accuracy: 63.32%\n",
      "Epoch: 70, Training Loss: 0.925658178572752, Validation Loss: 1.041062694787979, Train Accuracy: 67.514%, \n",
      "Validation Accuracy: 63.18%\n",
      "Epoch: 80, Training Loss: 0.8733080491727713, Validation Loss: 1.0066020011901855, Train Accuracy: 69.174%, \n",
      "Validation Accuracy: 64.55%\n",
      "Epoch: 90, Training Loss: 0.8297736170340557, Validation Loss: 1.0580503582954406, Train Accuracy: 70.99%, \n",
      "Validation Accuracy: 63.85999999999999%\n",
      "Epoch: 100, Training Loss: 0.8050880578099465, Validation Loss: 0.9575101196765899, Train Accuracy: 71.592%, \n",
      "Validation Accuracy: 67.22%\n",
      "Epoch: 110, Training Loss: 0.7680785376198438, Validation Loss: 0.9932644784450531, Train Accuracy: 73.074%, \n",
      "Validation Accuracy: 66.18%\n",
      "Epoch: 120, Training Loss: 0.7362398541703516, Validation Loss: 0.9578771591186523, Train Accuracy: 74.068%, \n",
      "Validation Accuracy: 67.58%\n",
      "Epoch: 130, Training Loss: 0.7008889864902107, Validation Loss: 1.0174954891204835, Train Accuracy: 75.342%, \n",
      "Validation Accuracy: 66.02%\n",
      "Epoch: 140, Training Loss: 0.6841176286035654, Validation Loss: 0.9404460966587067, Train Accuracy: 76.102%, \n",
      "Validation Accuracy: 68.46%\n",
      "Epoch: 150, Training Loss: 0.6641073141779218, Validation Loss: 0.9659663140773773, Train Accuracy: 76.86%, \n",
      "Validation Accuracy: 68.13%\n",
      "Epoch: 160, Training Loss: 0.6420031615665981, Validation Loss: 1.172751522064209, Train Accuracy: 77.446%, \n",
      "Validation Accuracy: 64.09%\n",
      "Epoch: 170, Training Loss: 0.5981552783323794, Validation Loss: 1.0293115496635437, Train Accuracy: 78.85799999999999%, \n",
      "Validation Accuracy: 67.11%\n",
      "Epoch: 180, Training Loss: 0.5930914270634554, Validation Loss: 0.9609642207622529, Train Accuracy: 79.292%, \n",
      "Validation Accuracy: 68.92%\n",
      "Epoch: 190, Training Loss: 0.5648371346142828, Validation Loss: 1.0092516183853149, Train Accuracy: 80.316%, \n",
      "Validation Accuracy: 67.46%\n",
      "Epoch: 200, Training Loss: 0.5589074717492474, Validation Loss: 1.0281811714172364, Train Accuracy: 80.348%, \n",
      "Validation Accuracy: 67.28%\n",
      "Epoch: 210, Training Loss: 0.5365018893261345, Validation Loss: 1.0564041078090667, Train Accuracy: 81.098%, \n",
      "Validation Accuracy: 66.71000000000001%\n",
      "Epoch: 220, Training Loss: 0.5275622515045867, Validation Loss: 1.1001995086669922, Train Accuracy: 81.382%, \n",
      "Validation Accuracy: 66.53%\n",
      "Epoch: 230, Training Loss: 0.5058481012071881, Validation Loss: 1.1075478792190552, Train Accuracy: 82.08800000000001%, \n",
      "Validation Accuracy: 67.30000000000001%\n",
      "Epoch: 240, Training Loss: 0.47735033959758527, Validation Loss: 1.1601692676544189, Train Accuracy: 83.06%, \n",
      "Validation Accuracy: 65.32%\n",
      "Epoch: 250, Training Loss: 0.49791465730083234, Validation Loss: 1.099630731344223, Train Accuracy: 82.46%, \n",
      "Validation Accuracy: 68.04%\n",
      "Epoch: 260, Training Loss: 0.44949058610565806, Validation Loss: 1.1515549540519714, Train Accuracy: 84.11999999999999%, \n",
      "Validation Accuracy: 67.14%\n",
      "Epoch: 270, Training Loss: 0.4470905661582947, Validation Loss: 1.1578999638557435, Train Accuracy: 84.172%, \n",
      "Validation Accuracy: 67.80000000000001%\n",
      "Epoch: 280, Training Loss: 0.39618328943544506, Validation Loss: 1.1172569274902344, Train Accuracy: 85.99799999999999%, \n",
      "Validation Accuracy: 68.11%\n",
      "Epoch: 290, Training Loss: 0.3969786282704801, Validation Loss: 1.1859701156616211, Train Accuracy: 86.034%, \n",
      "Validation Accuracy: 67.96%\n",
      "Epoch: 300, Training Loss: 0.4046458425570507, Validation Loss: 1.4038283228874207, Train Accuracy: 85.54%, \n",
      "Validation Accuracy: 64.35%\n",
      " \n",
      "Final Loss: 0.4046458425570507, Final Training Accuracy: 85.54%, Final Val Accuracy: 64.35%\n",
      "Training Time: 1331.39 seconds\n"
     ]
    }
   ],
   "source": [
    "try:\n",
    "    # Using time to time the training.\n",
    "    start_time = time.time()\n",
    "    training_losses, val_losses, train_accuracies, val_accuracies = training_loop(NUM_EPOCHS, \n",
    "                                                                                  optimizer, \n",
    "                                                                                  model, \n",
    "                                                                                  loss, \n",
    "                                                                                  train_loader, \n",
    "                                                                                  val_loader)\n",
    "    end_time = time.time()\n",
    "except Exception as err:\n",
    "    print(err)\n",
    "finally:\n",
    "    # Close the threads\n",
    "    try:\n",
    "        train_loader._iterator._shutdown_workers()\n",
    "    except Exception as err:\n",
    "        print(err)\n",
    "        print(\"[Training loader]: Could not shutdown the workers. Might not have spawn yet.\")\n",
    "\n",
    "    try:\n",
    "        val_loader._iterator._shutdown_workers()\n",
    "    except Exception as err:\n",
    "        print(err)\n",
    "        print(\"[Validation loader]: Could not shutdown the workers. Might not have spawn yet.\")\n",
    "\n",
    "# Report the final stats about the training.\n",
    "print(\" \")\n",
    "print(f\"Final Loss: {training_losses[-1]}, Final Training Accuracy: {train_accuracies[-1] * 100}%, \", end=\"\")\n",
    "print(f\"Final Val Accuracy: {val_accuracies[-1] * 100}%\")\n",
    "print(f\"Training Time: {(end_time - start_time):.2f} seconds\")"
   ]
  },
  {
   "cell_type": "code",
   "execution_count": 21,
   "id": "8cdfee15",
   "metadata": {},
   "outputs": [
    {
     "data": {
      "text/plain": [
       "Text(0.5, 1.0, 'Problem 2a Losses')"
      ]
     },
     "execution_count": 21,
     "metadata": {},
     "output_type": "execute_result"
    },
    {
     "data": {
      "image/png": "[encoded data removed]",
      "text/plain": [
       "<Figure size 432x288 with 1 Axes>"
      ]
     },
     "metadata": {
      "needs_background": "light"
     },
     "output_type": "display_data"
    }
   ],
   "source": [
    "# Plotting the Losses\n",
    "\n",
    "fig = plt.figure()\n",
    "# Name the x and y axis\n",
    "plt.xlabel(\"Epochs\")\n",
    "plt.ylabel(\"Loss\")\n",
    "\n",
    "# Plot the model and the actual values.\n",
    "plt.plot(training_losses, label='Training loss')\n",
    "plt.plot(val_losses, label='Validation loss')\n",
    "plt.legend()\n",
    "plt.title(\"Problem 2a Losses\")"
   ]
  },
  {
   "cell_type": "code",
   "execution_count": 22,
   "id": "cc9fa12b",
   "metadata": {},
   "outputs": [
    {
     "data": {
      "text/plain": [
       "Text(0.5, 1.0, 'Problem 2a Accuracy')"
      ]
     },
     "execution_count": 22,
     "metadata": {},
     "output_type": "execute_result"
    },
    {
     "data": {
      "image/png": "[encoded data removed]",
      "text/plain": [
       "<Figure size 432x288 with 1 Axes>"
      ]
     },
     "metadata": {
      "needs_background": "light"
     },
     "output_type": "display_data"
    }
   ],
   "source": [
    "# Plotting the accuracy of the model.\n",
    "\n",
    "fig = plt.figure()\n",
    "# Name the x and y axis\n",
    "plt.xlabel(\"Epochs\")\n",
    "plt.ylabel(\"Percents\")\n",
    "\n",
    "for i, x in enumerate(train_accuracies):\n",
    "    train_accuracies[i] = x * 100\n",
    "\n",
    "for i, x in enumerate(val_accuracies):\n",
    "    val_accuracies[i] = x * 100\n",
    "    \n",
    "\n",
    "plt.plot(train_accuracies, label='Train Accuracy')\n",
    "plt.plot(val_accuracies, label='Val Accuracy')\n",
    "plt.legend()\n",
    "plt.title(\"Problem 2a Accuracy\")"
   ]
  },
  {
   "cell_type": "markdown",
   "id": "8598c36f",
   "metadata": {},
   "source": [
    "<b>Problem 2b</b>  \n",
    "Develop three additional trainings and evaluations for your ResNet-10 to assess the impacts of regularization to your ResNet-10.  \n",
    "\n",
    "- Weight Decay with lambda of 0.001  \n",
    "- Dropout with p=0.3  \n",
    "- Batch Normalization\n",
    "  \n",
    "Report and compare your training time, training loss, and evaluation accuracy after 300 epochs across these three different trainings. Analyze your results in your report and compare them against problem 1.a on training time, achieved accuracy."
   ]
  },
  {
   "cell_type": "code",
   "execution_count": 23,
   "id": "67b46f9c",
   "metadata": {},
   "outputs": [],
   "source": [
    "class ResBlockDropout(nn.Module):\n",
    "    def __init__(self, n_channels1, p):\n",
    "        super(ResBlockDropout, self).__init__()\n",
    "        self.conv = nn.Conv2d(n_channels1, n_channels1, kernel_size = 3, padding = 1)\n",
    "        self.dropout = nn.Dropout2d(p = p)\n",
    "        \n",
    "    def forward(self, x):\n",
    "        out = self.conv(x)\n",
    "        out = self.dropout(out)\n",
    "        out = torch.relu(out)\n",
    "        return out + x\n",
    "    \n",
    "class ResNetDropout(nn.Module):\n",
    "    def __init__(self, n_channels1, n_blocks, p):\n",
    "        super().__init__()\n",
    "        self.n_channels1 = n_channels1\n",
    "        self.conv1 = nn.Conv2d(3, self.n_channels1, kernel_size = 3, padding = 1)\n",
    "        self.blocks = nn.Sequential(*(n_blocks * [ResBlockDropout(n_channels1 = self.n_channels1, p = p)]))\n",
    "        self.dropout = nn.Dropout2d(p = p)\n",
    "        self.fc1 = nn.Linear(8 * 8 * self.n_channels1, 32)\n",
    "        self.fc2 = nn.Linear(32, 10)\n",
    "    \n",
    "    def forward(self, x):\n",
    "        out = f.max_pool2d(torch.relu(self.dropout(self.conv1(x))), 2)\n",
    "        out = f.max_pool2d(self.blocks(out), 2)\n",
    "        out = out.view(-1, 8 * 8 * self.n_channels1)\n",
    "        out = torch.relu(self.fc1(out))\n",
    "        out = self.fc2(out)\n",
    "        return out"
   ]
  },
  {
   "cell_type": "code",
   "execution_count": 24,
   "id": "591d4e9c",
   "metadata": {},
   "outputs": [],
   "source": [
    "class ResBlockBatchNorm(nn.Module):\n",
    "    def __init__(self, n_channels1):\n",
    "        super(ResBlockBatchNorm, self).__init__()\n",
    "        self.conv = nn.Conv2d(n_channels1, n_channels1, kernel_size = 3, padding = 1, bias = False)\n",
    "        self.batch_norm = nn.BatchNorm2d(num_features = n_channels1)\n",
    "        torch.nn.init.kaiming_normal_(self.conv.weight, nonlinearity = 'relu')\n",
    "        torch.nn.init.constant_(self.batch_norm.weight, 0.5)\n",
    "        torch.nn.init.zeros_(self.batch_norm.bias)\n",
    "        \n",
    "    def forward(self, x):\n",
    "        out = self.conv(x)\n",
    "        out = torch.relu(out)\n",
    "        out = self.batch_norm(out)\n",
    "        return out + x\n",
    "    \n",
    "    \n",
    "class ResNetBatchNorm(nn.Module):\n",
    "    def __init__(self, n_channels1, n_blocks):\n",
    "        super().__init__()\n",
    "        self.n_channels1 = n_channels1\n",
    "        self.conv1 = nn.Conv2d(3, self.n_channels1, kernel_size = 3, padding = 1)\n",
    "        self.batchnorm1 = nn.BatchNorm2d(num_features = n_channels1)\n",
    "        self.blocks = nn.Sequential(*(n_blocks * [ResBlockBatchNorm(n_channels1=self.n_channels1)]))\n",
    "        self.fc1 = nn.Linear(8 * 8 * self.n_channels1, 32)\n",
    "        self.fc2 = nn.Linear(32, 10)\n",
    "    \n",
    "    def forward(self, x):\n",
    "        out = f.max_pool2d(self.batchnorm1(torch.relu(self.conv1(x))), 2)\n",
    "        out = f.max_pool2d(self.blocks(out), 2)\n",
    "        out = out.view(-1, 8 * 8 * self.n_channels1)\n",
    "        out = torch.relu(self.fc1(out))\n",
    "        out = self.fc2(out)\n",
    "        return out"
   ]
  },
  {
   "cell_type": "code",
   "execution_count": 25,
   "id": "2401d142",
   "metadata": {},
   "outputs": [],
   "source": [
    "def training_loopl2(epochs, optimizer, model, loss_fn, train_loader, val_loader, l2_lambda):\n",
    "    training_losses = []\n",
    "    val_losses = []\n",
    "    train_accuracies = []\n",
    "    val_accuracies = []\n",
    "    for epoch in range(1, epochs + 1):\n",
    "        # Temp vars for use in finding the accuracy.\n",
    "        val_correct_labels = 0\n",
    "        val_count = 0\n",
    "        loss_val_value = 0\n",
    "        \n",
    "        #Set the model to inference mode\n",
    "        model.eval()\n",
    "        with torch.no_grad():\n",
    "            for imgs, labels in val_loader:\n",
    "                # Move the data to correct device\n",
    "                imgs = imgs.to(device=device)\n",
    "                labels = labels.to(device=device)\n",
    "                \n",
    "                # Pass imgs through the model and find the loss.\n",
    "                output = model(imgs)\n",
    "                loss_val = loss_fn(output, labels)\n",
    "                loss_val_value += float(loss_val)\n",
    "                \n",
    "                # Find the accurcey of the model.\n",
    "                _, predicted = torch.max(output, dim=1)\n",
    "                val_count += labels.shape[0]\n",
    "                val_correct_labels += int((predicted == labels).sum())\n",
    "            \n",
    "            # Store the loss and accuracy.\n",
    "            loss_val_value /= len(val_loader)\n",
    "            val_losses.append(loss_val_value)\n",
    "            val_accuracies.append(val_correct_labels/val_count)\n",
    "        \n",
    "        #Set the model to training mode.\n",
    "        model.train()\n",
    "        train_correct_labels = 0\n",
    "        train_count = 0\n",
    "        loss_train_value = 0\n",
    "        for imgs, labels in train_loader:\n",
    "            # Move the data to correct device\n",
    "            imgs = imgs.to(device=device)\n",
    "            labels = labels.to(device=device)\n",
    "            \n",
    "            # Pass imgs through the model and find the loss.\n",
    "            output = model(imgs)\n",
    "            loss_train = loss_fn(output, labels)\n",
    "            \n",
    "            # Perform L2 regularization\n",
    "            l2_norm = sum(p.pow(2.0).sum() for p in model.parameters())\n",
    "            loss_train = loss_train + l2_lambda * l2_norm\n",
    "            loss_train_value += float(loss_train)\n",
    "            \n",
    "            # Adject the params\n",
    "            optimizer.zero_grad()\n",
    "            loss_train.backward()\n",
    "            optimizer.step()\n",
    "            \n",
    "            # Find the accurcey of the model.\n",
    "            _, predicted = torch.max(output, dim=1)\n",
    "            train_count += labels.shape[0]\n",
    "            train_correct_labels += int((predicted == labels).sum())\n",
    "        \n",
    "        # Store the loss\n",
    "        loss_train_value /= len(train_loader)\n",
    "        training_losses.append(loss_train_value)\n",
    "        train_accuracies.append(train_correct_labels/train_count)\n",
    "        \n",
    "        # Print out the loss every 10 epoch\n",
    "        if epoch % 10 == 0 or epoch == 1:\n",
    "            print(f\"Epoch: {epoch}, Training Loss: {loss_train_value}\", end=\"\")\n",
    "            print(f\", Validation Loss: {loss_val_value}, Train Accuracy: {(train_correct_labels/train_count)*100}%, \")\n",
    "            print(f\"Validation Accuracy: {(val_correct_labels/val_count)*100}%\")\n",
    "        \n",
    "    return training_losses, val_losses, train_accuracies, val_accuracies"
   ]
  },
  {
   "cell_type": "markdown",
   "id": "c8a779cc",
   "metadata": {},
   "source": [
    "<b>L2 regularization</b> "
   ]
  },
  {
   "cell_type": "code",
   "execution_count": 26,
   "id": "8734bfbb",
   "metadata": {},
   "outputs": [],
   "source": [
    "NUM_EPOCHS = 300\n",
    "LEARNING_RATE = 3e-3\n",
    "BATCH_SIZE = 1024\n",
    "NUM_CHANNELS = 32\n",
    "BLOCKS = 10\n",
    "LAMBDA = 0.001 \n",
    "\n",
    "model = ResNet(NUM_CHANNELS, BLOCKS).to(device=device)\n",
    "\n",
    "loss = nn.CrossEntropyLoss()\n",
    "optimizer = optim.SGD(model.parameters(), lr=LEARNING_RATE)\n",
    "\n",
    "# Load the data into a dataloaders.\n",
    "train_loader = torch.utils.data.DataLoader(cirfar10_train, \n",
    "                                           batch_size=BATCH_SIZE, \n",
    "                                           shuffle=True,\n",
    "                                           pin_memory=True, \n",
    "                                           persistent_workers=True, \n",
    "                                           num_workers=6)\n",
    "\n",
    "val_loader = torch.utils.data.DataLoader(cirfar10_val, \n",
    "                                         batch_size=BATCH_SIZE, \n",
    "                                         shuffle=False, \n",
    "                                         pin_memory=True, \n",
    "                                         persistent_workers=True, \n",
    "                                         num_workers=2)"
   ]
  },
  {
   "cell_type": "code",
   "execution_count": 27,
   "id": "545cbb54",
   "metadata": {},
   "outputs": [
    {
     "name": "stdout",
     "output_type": "stream",
     "text": [
      "Epoch: 1, Training Loss: 2.3142274545163524, Validation Loss: 4.1238309144973755, Train Accuracy: 13.919999999999998%, \n",
      "Validation Accuracy: 9.85%\n",
      "Epoch: 10, Training Loss: 1.575825394416342, Validation Loss: 1.6705918431282043, Train Accuracy: 44.882%, \n",
      "Validation Accuracy: 41.8%\n",
      "Epoch: 20, Training Loss: 1.3500861221430254, Validation Loss: 1.3114459753036498, Train Accuracy: 53.33%, \n",
      "Validation Accuracy: 53.63%\n",
      "Epoch: 30, Training Loss: 1.2328011794966094, Validation Loss: 1.263883078098297, Train Accuracy: 57.838%, \n",
      "Validation Accuracy: 55.11000000000001%\n",
      "Epoch: 40, Training Loss: 1.143428019114903, Validation Loss: 1.1672658324241638, Train Accuracy: 60.870000000000005%, \n",
      "Validation Accuracy: 58.34%\n",
      "Epoch: 50, Training Loss: 1.0749626183996395, Validation Loss: 1.1074361205101013, Train Accuracy: 63.528%, \n",
      "Validation Accuracy: 60.9%\n",
      "Epoch: 60, Training Loss: 1.0209610316218163, Validation Loss: 1.0571848034858704, Train Accuracy: 65.346%, \n",
      "Validation Accuracy: 62.61%\n",
      "Epoch: 70, Training Loss: 0.9682030166898455, Validation Loss: 1.064701998233795, Train Accuracy: 67.45400000000001%, \n",
      "Validation Accuracy: 62.45%\n",
      "Epoch: 80, Training Loss: 0.9278382756272141, Validation Loss: 0.9997530221939087, Train Accuracy: 68.94%, \n",
      "Validation Accuracy: 64.67%\n",
      "Epoch: 90, Training Loss: 0.8847817717766275, Validation Loss: 1.0017371594905853, Train Accuracy: 70.256%, \n",
      "Validation Accuracy: 64.7%\n",
      "Epoch: 100, Training Loss: 0.8583354305247871, Validation Loss: 1.023037165403366, Train Accuracy: 71.344%, \n",
      "Validation Accuracy: 64.56%\n",
      "Epoch: 110, Training Loss: 0.8333709507572408, Validation Loss: 0.9612559080123901, Train Accuracy: 72.304%, \n",
      "Validation Accuracy: 66.57%\n",
      "Epoch: 120, Training Loss: 0.7956217393583181, Validation Loss: 0.936178320646286, Train Accuracy: 73.556%, \n",
      "Validation Accuracy: 67.57%\n",
      "Epoch: 130, Training Loss: 0.7784959917165795, Validation Loss: 0.9468644380569458, Train Accuracy: 74.144%, \n",
      "Validation Accuracy: 67.78999999999999%\n",
      "Epoch: 140, Training Loss: 0.7455706669359791, Validation Loss: 1.0789949893951416, Train Accuracy: 75.30799999999999%, \n",
      "Validation Accuracy: 64.16%\n",
      "Epoch: 150, Training Loss: 0.7303874249361, Validation Loss: 0.9646796762943268, Train Accuracy: 75.94800000000001%, \n",
      "Validation Accuracy: 67.32000000000001%\n",
      "Epoch: 160, Training Loss: 0.7034203264178062, Validation Loss: 0.9589688122272492, Train Accuracy: 77.006%, \n",
      "Validation Accuracy: 67.86%\n",
      "Epoch: 170, Training Loss: 0.6908224468328514, Validation Loss: 0.940428364276886, Train Accuracy: 77.24600000000001%, \n",
      "Validation Accuracy: 68.78999999999999%\n",
      "Epoch: 180, Training Loss: 0.6585673568200092, Validation Loss: 1.0318988144397736, Train Accuracy: 78.598%, \n",
      "Validation Accuracy: 66.59%\n",
      "Epoch: 190, Training Loss: 0.6455984954931298, Validation Loss: 1.076586651802063, Train Accuracy: 78.988%, \n",
      "Validation Accuracy: 65.31%\n",
      "Epoch: 200, Training Loss: 0.6235856596304445, Validation Loss: 1.082159197330475, Train Accuracy: 79.586%, \n",
      "Validation Accuracy: 65.31%\n",
      "Epoch: 210, Training Loss: 0.6012028662525878, Validation Loss: 1.1216039180755615, Train Accuracy: 80.318%, \n",
      "Validation Accuracy: 64.87%\n",
      "Epoch: 220, Training Loss: 0.5846772029691812, Validation Loss: 1.02495020031929, Train Accuracy: 80.952%, \n",
      "Validation Accuracy: 67.52%\n",
      "Epoch: 230, Training Loss: 0.5780847638237233, Validation Loss: 1.0342690408229829, Train Accuracy: 81.478%, \n",
      "Validation Accuracy: 67.61%\n",
      "Epoch: 240, Training Loss: 0.5573226505396317, Validation Loss: 1.0671584606170654, Train Accuracy: 81.972%, \n",
      "Validation Accuracy: 67.11%\n",
      "Epoch: 250, Training Loss: 0.5171754281131589, Validation Loss: 1.023002988100052, Train Accuracy: 83.74000000000001%, \n",
      "Validation Accuracy: 68.08%\n",
      "Epoch: 260, Training Loss: 0.533476430542615, Validation Loss: 1.0454317808151246, Train Accuracy: 82.966%, \n",
      "Validation Accuracy: 68.52000000000001%\n",
      "Epoch: 270, Training Loss: 0.5258905692976348, Validation Loss: 1.1837811112403869, Train Accuracy: 83.314%, \n",
      "Validation Accuracy: 66.60000000000001%\n",
      "Epoch: 280, Training Loss: 0.4889177211693355, Validation Loss: 1.163470995426178, Train Accuracy: 84.52%, \n",
      "Validation Accuracy: 66.53999999999999%\n",
      "Epoch: 290, Training Loss: 0.4787518388154555, Validation Loss: 1.1583162307739259, Train Accuracy: 85.026%, \n",
      "Validation Accuracy: 66.95%\n",
      "Epoch: 300, Training Loss: 0.46078920546843083, Validation Loss: 1.3157394528388977, Train Accuracy: 85.502%, \n",
      "Validation Accuracy: 64.12%\n",
      " \n",
      "Final Loss: 0.46078920546843083, Final Training Accuracy: 85.502%, Final Val Accuracy: 64.12%\n",
      "Training Time: 1394.76 seconds\n"
     ]
    }
   ],
   "source": [
    "try:\n",
    "    # Using time to time the training.\n",
    "    start_time = time.time()\n",
    "    training_losses, val_losses, train_accuracies, val_accuracies = training_loopl2(NUM_EPOCHS, optimizer, model, \n",
    "                                                                          loss, train_loader, val_loader, LAMBDA)\n",
    "    end_time = time.time()\n",
    "except Exception as err:\n",
    "    print(err)\n",
    "finally:\n",
    "    # Close the threads\n",
    "    try:\n",
    "        train_loader._iterator._shutdown_workers()\n",
    "    except Exception as err:\n",
    "        print(err)\n",
    "        print(\"[Training loader]: Could not shutdown the workers. Might not have spawn yet.\")\n",
    "\n",
    "    try:\n",
    "        val_loader._iterator._shutdown_workers()\n",
    "    except Exception as err:\n",
    "        print(err)\n",
    "        print(\"[Validation loader]: Could not shutdown the workers. Might not have spawn yet.\")\n",
    "\n",
    "# Report the final stats about the training.\n",
    "print(\" \")\n",
    "print(f\"Final Loss: {training_losses[-1]}, Final Training Accuracy: {train_accuracies[-1] * 100}%, \", end=\"\")\n",
    "print(f\"Final Val Accuracy: {val_accuracies[-1] * 100}%\")\n",
    "print(f\"Training Time: {(end_time - start_time):.2f} seconds\")"
   ]
  },
  {
   "cell_type": "code",
   "execution_count": 28,
   "id": "c11d1650",
   "metadata": {},
   "outputs": [
    {
     "data": {
      "text/plain": [
       "Text(0.5, 1.0, 'Problem 2b Losses (L2 regularization)')"
      ]
     },
     "execution_count": 28,
     "metadata": {},
     "output_type": "execute_result"
    },
    {
     "data": {
      "image/png": "[encoded data removed]",
      "text/plain": [
       "<Figure size 432x288 with 1 Axes>"
      ]
     },
     "metadata": {
      "needs_background": "light"
     },
     "output_type": "display_data"
    }
   ],
   "source": [
    "# Plotting the Losses\n",
    "\n",
    "fig = plt.figure()\n",
    "# Name the x and y axis\n",
    "plt.xlabel(\"Epochs\")\n",
    "plt.ylabel(\"Loss\")\n",
    "\n",
    "# Plot the model and the actual values.\n",
    "plt.plot(training_losses, label='Training loss')\n",
    "plt.plot(val_losses, label='Validation loss')\n",
    "plt.legend()\n",
    "plt.title(\"Problem 2b Losses (L2 regularization)\")"
   ]
  },
  {
   "cell_type": "code",
   "execution_count": 29,
   "id": "9f568d74",
   "metadata": {},
   "outputs": [
    {
     "data": {
      "text/plain": [
       "Text(0.5, 1.0, 'Problem 2b Accuracy (L2 regularization)')"
      ]
     },
     "execution_count": 29,
     "metadata": {},
     "output_type": "execute_result"
    },
    {
     "data": {
      "image/png": "[encoded data removed]",
      "text/plain": [
       "<Figure size 432x288 with 1 Axes>"
      ]
     },
     "metadata": {
      "needs_background": "light"
     },
     "output_type": "display_data"
    }
   ],
   "source": [
    "# Plotting the accuracy of the model.\n",
    "\n",
    "fig = plt.figure()\n",
    "# Name the x and y axis\n",
    "plt.xlabel(\"Epochs\")\n",
    "plt.ylabel(\"Percents\")\n",
    "\n",
    "for i, x in enumerate(train_accuracies):\n",
    "    train_accuracies[i] = x * 100\n",
    "\n",
    "for i, x in enumerate(val_accuracies):\n",
    "    val_accuracies[i] = x * 100\n",
    "    \n",
    "\n",
    "plt.plot(train_accuracies, label='Train Accuracy')\n",
    "plt.plot(val_accuracies, label='Val Accuracy')\n",
    "plt.legend()\n",
    "plt.title(\"Problem 2b Accuracy (L2 regularization)\")"
   ]
  },
  {
   "cell_type": "markdown",
   "id": "5f70d42e",
   "metadata": {},
   "source": [
    "<b>Dropout</b> "
   ]
  },
  {
   "cell_type": "code",
   "execution_count": 30,
   "id": "8b527c62",
   "metadata": {},
   "outputs": [],
   "source": [
    "NUM_EPOCHS = 300\n",
    "LEARNING_RATE = 3e-3\n",
    "BATCH_SIZE = 1024\n",
    "NUM_CHANNELS = 32\n",
    "BLOCKS = 10\n",
    "DROPOUT_RATE = 0.3\n",
    "\n",
    "model = ResNetDropout(NUM_CHANNELS, BLOCKS, DROPOUT_RATE).to(device=device)\n",
    "\n",
    "loss = nn.CrossEntropyLoss()\n",
    "optimizer = optim.SGD(model.parameters(), lr=LEARNING_RATE)\n",
    "\n",
    "# Load the data into a dataloaders.\n",
    "train_loader = torch.utils.data.DataLoader(cirfar10_train, \n",
    "                                           batch_size=BATCH_SIZE, \n",
    "                                           shuffle=True,\n",
    "                                           pin_memory=True, \n",
    "                                           persistent_workers=True, \n",
    "                                           num_workers=6)\n",
    "\n",
    "val_loader = torch.utils.data.DataLoader(cirfar10_val, \n",
    "                                         batch_size=BATCH_SIZE, \n",
    "                                         shuffle=False, \n",
    "                                         pin_memory=True, \n",
    "                                         persistent_workers=True, \n",
    "                                         num_workers=2)"
   ]
  },
  {
   "cell_type": "code",
   "execution_count": 31,
   "id": "749cc7e4",
   "metadata": {},
   "outputs": [
    {
     "name": "stdout",
     "output_type": "stream",
     "text": [
      "Epoch: 1, Training Loss: 2.367990965745887, Validation Loss: 4.822448825836181, Train Accuracy: 13.522%, \n",
      "Validation Accuracy: 9.91%\n",
      "Epoch: 10, Training Loss: 1.7582410938885746, Validation Loss: 1.70624897480011, Train Accuracy: 38.318000000000005%, \n",
      "Validation Accuracy: 40.65%\n",
      "Epoch: 20, Training Loss: 1.5501156996707528, Validation Loss: 1.4821787476539612, Train Accuracy: 45.245999999999995%, \n",
      "Validation Accuracy: 48.18%\n",
      "Epoch: 30, Training Loss: 1.4407451906982733, Validation Loss: 1.3800381898880005, Train Accuracy: 49.403999999999996%, \n",
      "Validation Accuracy: 51.33%\n",
      "Epoch: 40, Training Loss: 1.3726884905172854, Validation Loss: 1.3182076454162597, Train Accuracy: 51.803999999999995%, \n",
      "Validation Accuracy: 53.49%\n",
      "Epoch: 50, Training Loss: 1.312596819838699, Validation Loss: 1.2776867508888246, Train Accuracy: 53.99%, \n",
      "Validation Accuracy: 54.879999999999995%\n",
      "Epoch: 60, Training Loss: 1.2667997005034466, Validation Loss: 1.2258456230163575, Train Accuracy: 55.65%, \n",
      "Validation Accuracy: 56.69%\n",
      "Epoch: 70, Training Loss: 1.2298871376076523, Validation Loss: 1.1914692521095276, Train Accuracy: 57.06%, \n",
      "Validation Accuracy: 57.85%\n",
      "Epoch: 80, Training Loss: 1.1932431556740586, Validation Loss: 1.168636178970337, Train Accuracy: 58.211999999999996%, \n",
      "Validation Accuracy: 59.019999999999996%\n",
      "Epoch: 90, Training Loss: 1.15898504305859, Validation Loss: 1.1378766655921937, Train Accuracy: 59.67400000000001%, \n",
      "Validation Accuracy: 60.07%\n",
      "Epoch: 100, Training Loss: 1.132236833475074, Validation Loss: 1.129099977016449, Train Accuracy: 60.626000000000005%, \n",
      "Validation Accuracy: 60.199999999999996%\n",
      "Epoch: 110, Training Loss: 1.1028731185562757, Validation Loss: 1.0999318957328796, Train Accuracy: 61.41799999999999%, \n",
      "Validation Accuracy: 61.61%\n",
      "Epoch: 120, Training Loss: 1.0765865335659104, Validation Loss: 1.0925630331039429, Train Accuracy: 62.342%, \n",
      "Validation Accuracy: 61.5%\n",
      "Epoch: 130, Training Loss: 1.060942534281283, Validation Loss: 1.0816362380981446, Train Accuracy: 62.978%, \n",
      "Validation Accuracy: 61.91%\n",
      "Epoch: 140, Training Loss: 1.0430015228232559, Validation Loss: 1.0669136047363281, Train Accuracy: 63.452%, \n",
      "Validation Accuracy: 62.11%\n",
      "Epoch: 150, Training Loss: 1.0274162365465749, Validation Loss: 1.0559451222419738, Train Accuracy: 63.968%, \n",
      "Validation Accuracy: 62.849999999999994%\n",
      "Epoch: 160, Training Loss: 1.0048301317253892, Validation Loss: 1.0397932827472687, Train Accuracy: 64.932%, \n",
      "Validation Accuracy: 63.480000000000004%\n",
      "Epoch: 170, Training Loss: 0.990006832443938, Validation Loss: 1.0275482296943665, Train Accuracy: 65.606%, \n",
      "Validation Accuracy: 63.77%\n",
      "Epoch: 180, Training Loss: 0.9793227278456396, Validation Loss: 1.0322331726551055, Train Accuracy: 65.852%, \n",
      "Validation Accuracy: 63.59%\n",
      "Epoch: 190, Training Loss: 0.9603690541520411, Validation Loss: 1.0353974938392638, Train Accuracy: 66.378%, \n",
      "Validation Accuracy: 63.56%\n",
      "Epoch: 200, Training Loss: 0.9484936680112567, Validation Loss: 1.021116954088211, Train Accuracy: 66.768%, \n",
      "Validation Accuracy: 64.11%\n",
      "Epoch: 210, Training Loss: 0.9347131471244656, Validation Loss: 1.0102991163730621, Train Accuracy: 67.23400000000001%, \n",
      "Validation Accuracy: 64.4%\n",
      "Epoch: 220, Training Loss: 0.9229391424023375, Validation Loss: 1.0135547995567322, Train Accuracy: 67.684%, \n",
      "Validation Accuracy: 64.49000000000001%\n",
      "Epoch: 230, Training Loss: 0.9202546963886339, Validation Loss: 1.0101924300193788, Train Accuracy: 67.91199999999999%, \n",
      "Validation Accuracy: 64.31%\n",
      "Epoch: 240, Training Loss: 0.9021264521443114, Validation Loss: 1.007382720708847, Train Accuracy: 68.61%, \n",
      "Validation Accuracy: 64.79%\n",
      "Epoch: 250, Training Loss: 0.8976141068400169, Validation Loss: 0.9992087543010711, Train Accuracy: 68.77%, \n",
      "Validation Accuracy: 64.85%\n",
      "Epoch: 260, Training Loss: 0.8869724662936463, Validation Loss: 0.9912411510944367, Train Accuracy: 69.144%, \n",
      "Validation Accuracy: 65.28%\n",
      "Epoch: 270, Training Loss: 0.8743213694922778, Validation Loss: 1.02087544798851, Train Accuracy: 69.57799999999999%, \n",
      "Validation Accuracy: 64.53%\n",
      "Epoch: 280, Training Loss: 0.8664016151914791, Validation Loss: 1.009973120689392, Train Accuracy: 69.702%, \n",
      "Validation Accuracy: 64.85%\n",
      "Epoch: 290, Training Loss: 0.8575294978764593, Validation Loss: 0.9940951764583588, Train Accuracy: 70.216%, \n",
      "Validation Accuracy: 65.38000000000001%\n",
      "Epoch: 300, Training Loss: 0.8524240194534769, Validation Loss: 0.9911846339702606, Train Accuracy: 70.37%, \n",
      "Validation Accuracy: 65.82000000000001%\n",
      " \n",
      "Final Loss: 0.8524240194534769, Final Training Accuracy: 70.37%, Final Val Accuracy: 65.82000000000001%\n",
      "Training Time: 1071.67 seconds\n"
     ]
    }
   ],
   "source": [
    "try:\n",
    "    # Using time to time the training.\n",
    "    start_time = time.time()\n",
    "    training_losses, val_losses, train_accuracies, val_accuracies = training_loop(NUM_EPOCHS, \n",
    "                                                                                  optimizer, \n",
    "                                                                                  model, \n",
    "                                                                                  loss, \n",
    "                                                                                  train_loader, \n",
    "                                                                                  val_loader)\n",
    "    end_time = time.time()\n",
    "except Exception as err:\n",
    "    print(err)\n",
    "finally:\n",
    "    # Close the threads\n",
    "    try:\n",
    "        train_loader._iterator._shutdown_workers()\n",
    "    except Exception as err:\n",
    "        print(err)\n",
    "        print(\"[Training loader]: Could not shutdown the workers. Might not have spawn yet.\")\n",
    "\n",
    "    try:\n",
    "        val_loader._iterator._shutdown_workers()\n",
    "    except Exception as err:\n",
    "        print(err)\n",
    "        print(\"[Validation loader]: Could not shutdown the workers. Might not have spawn yet.\")\n",
    "\n",
    "# Report the final stats about the training.\n",
    "print(\" \")\n",
    "print(f\"Final Loss: {training_losses[-1]}, Final Training Accuracy: {train_accuracies[-1] * 100}%, \", end=\"\")\n",
    "print(f\"Final Val Accuracy: {val_accuracies[-1] * 100}%\")\n",
    "print(f\"Training Time: {(end_time - start_time):.2f} seconds\")"
   ]
  },
  {
   "cell_type": "code",
   "execution_count": 32,
   "id": "4d3ad0d1",
   "metadata": {},
   "outputs": [
    {
     "data": {
      "text/plain": [
       "Text(0.5, 1.0, 'Problem 2b Losses (Dropout)')"
      ]
     },
     "execution_count": 32,
     "metadata": {},
     "output_type": "execute_result"
    },
    {
     "data": {
      "image/png": "[encoded data removed]",
      "text/plain": [
       "<Figure size 432x288 with 1 Axes>"
      ]
     },
     "metadata": {
      "needs_background": "light"
     },
     "output_type": "display_data"
    }
   ],
   "source": [
    "# Plotting the Losses\n",
    "\n",
    "fig = plt.figure()\n",
    "# Name the x and y axis\n",
    "plt.xlabel(\"Epochs\")\n",
    "plt.ylabel(\"Loss\")\n",
    "\n",
    "# Plot the model and the actual values.\n",
    "plt.plot(training_losses, label='Training loss')\n",
    "plt.plot(val_losses, label='Validation loss')\n",
    "plt.legend()\n",
    "plt.title(\"Problem 2b Losses (Dropout)\")"
   ]
  },
  {
   "cell_type": "code",
   "execution_count": 33,
   "id": "de27866e",
   "metadata": {},
   "outputs": [
    {
     "data": {
      "text/plain": [
       "Text(0.5, 1.0, 'Problem 2b Accuracy (Dropout)')"
      ]
     },
     "execution_count": 33,
     "metadata": {},
     "output_type": "execute_result"
    },
    {
     "data": {
      "image/png": "[encoded data removed]",
      "text/plain": [
       "<Figure size 432x288 with 1 Axes>"
      ]
     },
     "metadata": {
      "needs_background": "light"
     },
     "output_type": "display_data"
    }
   ],
   "source": [
    "# Plotting the accuracy of the model.\n",
    "\n",
    "fig = plt.figure()\n",
    "# Name the x and y axis\n",
    "plt.xlabel(\"Epochs\")\n",
    "plt.ylabel(\"Percents\")\n",
    "\n",
    "for i, x in enumerate(train_accuracies):\n",
    "    train_accuracies[i] = x * 100\n",
    "\n",
    "for i, x in enumerate(val_accuracies):\n",
    "    val_accuracies[i] = x * 100\n",
    "    \n",
    "\n",
    "plt.plot(train_accuracies, label='Train Accuracy')\n",
    "plt.plot(val_accuracies, label='Val Accuracy')\n",
    "plt.legend()\n",
    "plt.title(\"Problem 2b Accuracy (Dropout)\")"
   ]
  },
  {
   "cell_type": "markdown",
   "id": "0082e9a1",
   "metadata": {},
   "source": [
    "<b>Batch Normalization</b> "
   ]
  },
  {
   "cell_type": "code",
   "execution_count": 39,
   "id": "a42ce5ea",
   "metadata": {},
   "outputs": [],
   "source": [
    "NUM_EPOCHS = 300\n",
    "LEARNING_RATE = 3e-3\n",
    "BATCH_SIZE = 1024\n",
    "NUM_CHANNELS = 32\n",
    "BLOCKS = 10\n",
    "\n",
    "model = ResNetBatchNorm(NUM_CHANNELS, BLOCKS).to(device=device)\n",
    "\n",
    "loss = nn.CrossEntropyLoss()\n",
    "optimizer = optim.SGD(model.parameters(), lr=LEARNING_RATE)\n",
    "\n",
    "# Load the data into a dataloaders.\n",
    "train_loader = torch.utils.data.DataLoader(cirfar10_train, \n",
    "                                           batch_size=BATCH_SIZE, \n",
    "                                           shuffle=True,\n",
    "                                           pin_memory=True, \n",
    "                                           persistent_workers=True, \n",
    "                                           num_workers=6)\n",
    "\n",
    "val_loader = torch.utils.data.DataLoader(cirfar10_val, \n",
    "                                         batch_size=BATCH_SIZE, \n",
    "                                         shuffle=False, \n",
    "                                         pin_memory=True, \n",
    "                                         persistent_workers=True, \n",
    "                                         num_workers=2)"
   ]
  },
  {
   "cell_type": "code",
   "execution_count": 40,
   "id": "0bac584c",
   "metadata": {},
   "outputs": [
    {
     "name": "stdout",
     "output_type": "stream",
     "text": [
      "Epoch: 1, Training Loss: 2.134947188046514, Validation Loss: 6.530372667312622, Train Accuracy: 23.188%, \n",
      "Validation Accuracy: 9.030000000000001%\n",
      "Epoch: 10, Training Loss: 1.2864108912798824, Validation Loss: 1.5457259178161622, Train Accuracy: 54.172%, \n",
      "Validation Accuracy: 44.81%\n",
      "Epoch: 20, Training Loss: 1.08544721287124, Validation Loss: 1.4156354308128356, Train Accuracy: 61.756%, \n",
      "Validation Accuracy: 49.78%\n",
      "Epoch: 30, Training Loss: 0.971721483736622, Validation Loss: 1.343389105796814, Train Accuracy: 66.12599999999999%, \n",
      "Validation Accuracy: 52.28%\n",
      "Epoch: 40, Training Loss: 0.8942666820117405, Validation Loss: 1.2909228205680847, Train Accuracy: 68.958%, \n",
      "Validation Accuracy: 54.6%\n",
      "Epoch: 50, Training Loss: 0.8348093774853921, Validation Loss: 1.2875849723815918, Train Accuracy: 71.084%, \n",
      "Validation Accuracy: 54.620000000000005%\n",
      "Epoch: 60, Training Loss: 0.7852898629344239, Validation Loss: 1.2532994747161865, Train Accuracy: 72.95%, \n",
      "Validation Accuracy: 55.589999999999996%\n",
      "Epoch: 70, Training Loss: 0.7439052280114622, Validation Loss: 1.2634387493133545, Train Accuracy: 74.39%, \n",
      "Validation Accuracy: 55.08%\n",
      "Epoch: 80, Training Loss: 0.7049869894981384, Validation Loss: 1.2581091284751893, Train Accuracy: 75.878%, \n",
      "Validation Accuracy: 55.489999999999995%\n",
      "Epoch: 90, Training Loss: 0.6733198019922996, Validation Loss: 1.2819584727287292, Train Accuracy: 77.00399999999999%, \n",
      "Validation Accuracy: 54.37%\n",
      "Epoch: 100, Training Loss: 0.6414083011296331, Validation Loss: 1.2699986219406127, Train Accuracy: 78.14%, \n",
      "Validation Accuracy: 54.96%\n",
      "Epoch: 110, Training Loss: 0.6174328217701036, Validation Loss: 1.2938064575195312, Train Accuracy: 79.018%, \n",
      "Validation Accuracy: 54.43%\n",
      "Epoch: 120, Training Loss: 0.5867059632223479, Validation Loss: 1.3400663495063783, Train Accuracy: 80.258%, \n",
      "Validation Accuracy: 53.010000000000005%\n",
      "Epoch: 130, Training Loss: 0.5620757992170295, Validation Loss: 1.3434906244277953, Train Accuracy: 81.03200000000001%, \n",
      "Validation Accuracy: 53.23%\n",
      "Epoch: 140, Training Loss: 0.5340441799893672, Validation Loss: 1.3343704223632813, Train Accuracy: 81.988%, \n",
      "Validation Accuracy: 53.89000000000001%\n",
      "Epoch: 150, Training Loss: 0.5114255517112966, Validation Loss: 1.3825472593307495, Train Accuracy: 82.98%, \n",
      "Validation Accuracy: 52.59%\n",
      "Epoch: 160, Training Loss: 0.48648300158734226, Validation Loss: 1.434782087802887, Train Accuracy: 83.76599999999999%, \n",
      "Validation Accuracy: 51.38%\n",
      "Epoch: 170, Training Loss: 0.4695691435920949, Validation Loss: 1.4183242678642274, Train Accuracy: 84.332%, \n",
      "Validation Accuracy: 52.23%\n",
      "Epoch: 180, Training Loss: 0.45027968591573286, Validation Loss: 1.4675779461860656, Train Accuracy: 85.04599999999999%, \n",
      "Validation Accuracy: 51.160000000000004%\n",
      "Epoch: 190, Training Loss: 0.42316525627155693, Validation Loss: 1.5538283824920653, Train Accuracy: 86.08200000000001%, \n",
      "Validation Accuracy: 49.36%\n",
      "Epoch: 200, Training Loss: 0.40919872935937374, Validation Loss: 1.5522674679756165, Train Accuracy: 86.53999999999999%, \n",
      "Validation Accuracy: 49.75%\n",
      "Epoch: 210, Training Loss: 0.384913474929576, Validation Loss: 1.5654204487800598, Train Accuracy: 87.488%, \n",
      "Validation Accuracy: 49.96%\n",
      "Epoch: 220, Training Loss: 0.38104309354509625, Validation Loss: 1.6905890941619872, Train Accuracy: 87.464%, \n",
      "Validation Accuracy: 47.23%\n",
      "Epoch: 230, Training Loss: 0.3586162900438114, Validation Loss: 1.6812225699424743, Train Accuracy: 88.446%, \n",
      "Validation Accuracy: 47.949999999999996%\n",
      "Epoch: 240, Training Loss: 0.34025941150529043, Validation Loss: 1.7125178694725036, Train Accuracy: 89.144%, \n",
      "Validation Accuracy: 47.760000000000005%\n",
      "Epoch: 250, Training Loss: 0.3203951649519862, Validation Loss: 1.7660947442054749, Train Accuracy: 89.67399999999999%, \n",
      "Validation Accuracy: 47.620000000000005%\n",
      "Epoch: 260, Training Loss: 0.3095585916723524, Validation Loss: 1.8329430937767028, Train Accuracy: 90.08800000000001%, \n",
      "Validation Accuracy: 46.650000000000006%\n",
      "Epoch: 270, Training Loss: 0.2880407568751549, Validation Loss: 1.863990604877472, Train Accuracy: 91.014%, \n",
      "Validation Accuracy: 46.489999999999995%\n",
      "Epoch: 280, Training Loss: 0.2655640280976587, Validation Loss: 1.9084888696670532, Train Accuracy: 92.078%, \n",
      "Validation Accuracy: 46.29%\n",
      "Epoch: 290, Training Loss: 0.277166161001945, Validation Loss: 1.901686668395996, Train Accuracy: 91.036%, \n",
      "Validation Accuracy: 47.28%\n",
      "Epoch: 300, Training Loss: 0.24973155406056619, Validation Loss: 2.0405576109886168, Train Accuracy: 92.374%, \n",
      "Validation Accuracy: 45.61%\n",
      " \n",
      "Final Loss: 0.24973155406056619, Final Training Accuracy: 92.374%, Final Val Accuracy: 45.61%\n",
      "Training Time: 1085.71 seconds\n"
     ]
    }
   ],
   "source": [
    "try:\n",
    "    # Using time to time the training.\n",
    "    start_time = time.time()\n",
    "    training_losses, val_losses, train_accuracies, val_accuracies = training_loop(NUM_EPOCHS, \n",
    "                                                                                  optimizer, \n",
    "                                                                                  model, \n",
    "                                                                                  loss, \n",
    "                                                                                  train_loader, \n",
    "                                                                                  val_loader)\n",
    "    end_time = time.time()\n",
    "except Exception as err:\n",
    "    print(err)\n",
    "finally:\n",
    "    # Close the threads\n",
    "    try:\n",
    "        train_loader._iterator._shutdown_workers()\n",
    "    except Exception as err:\n",
    "        print(err)\n",
    "        print(\"[Training loader]: Could not shutdown the workers. Might not have spawn yet.\")\n",
    "\n",
    "    try:\n",
    "        val_loader._iterator._shutdown_workers()\n",
    "    except Exception as err:\n",
    "        print(err)\n",
    "        print(\"[Validation loader]: Could not shutdown the workers. Might not have spawn yet.\")\n",
    "\n",
    "# Report the final stats about the training.\n",
    "print(\" \")\n",
    "print(f\"Final Loss: {training_losses[-1]}, Final Training Accuracy: {train_accuracies[-1] * 100}%, \", end=\"\")\n",
    "print(f\"Final Val Accuracy: {val_accuracies[-1] * 100}%\")\n",
    "print(f\"Training Time: {(end_time - start_time):.2f} seconds\")"
   ]
  },
  {
   "cell_type": "code",
   "execution_count": 41,
   "id": "a1b71fc9",
   "metadata": {},
   "outputs": [
    {
     "data": {
      "text/plain": [
       "Text(0.5, 1.0, 'Problem 2b Losses (Batch Normalization)')"
      ]
     },
     "execution_count": 41,
     "metadata": {},
     "output_type": "execute_result"
    },
    {
     "data": {
      "image/png": "[encoded data removed]",
      "text/plain": [
       "<Figure size 432x288 with 1 Axes>"
      ]
     },
     "metadata": {
      "needs_background": "light"
     },
     "output_type": "display_data"
    }
   ],
   "source": [
    "# Plotting the Losses\n",
    "\n",
    "fig = plt.figure()\n",
    "# Name the x and y axis\n",
    "plt.xlabel(\"Epochs\")\n",
    "plt.ylabel(\"Loss\")\n",
    "\n",
    "# Plot the model and the actual values.\n",
    "plt.plot(training_losses, label='Training loss')\n",
    "plt.plot(val_losses, label='Validation loss')\n",
    "plt.legend()\n",
    "plt.title(\"Problem 2b Losses (Batch Normalization)\")"
   ]
  },
  {
   "cell_type": "code",
   "execution_count": 42,
   "id": "fb7e364e",
   "metadata": {},
   "outputs": [
    {
     "data": {
      "text/plain": [
       "Text(0.5, 1.0, 'Problem 2b Accuracy (Batch Normalization)')"
      ]
     },
     "execution_count": 42,
     "metadata": {},
     "output_type": "execute_result"
    },
    {
     "data": {
      "image/png": "[encoded data removed]",
      "text/plain": [
       "<Figure size 432x288 with 1 Axes>"
      ]
     },
     "metadata": {
      "needs_background": "light"
     },
     "output_type": "display_data"
    }
   ],
   "source": [
    "# Plotting the accuracy of the model.\n",
    "\n",
    "fig = plt.figure()\n",
    "# Name the x and y axis\n",
    "plt.xlabel(\"Epochs\")\n",
    "plt.ylabel(\"Percents\")\n",
    "\n",
    "for i, x in enumerate(train_accuracies):\n",
    "    train_accuracies[i] = x * 100\n",
    "\n",
    "for i, x in enumerate(val_accuracies):\n",
    "    val_accuracies[i] = x * 100\n",
    "    \n",
    "\n",
    "plt.plot(train_accuracies, label='Train Accuracy')\n",
    "plt.plot(val_accuracies, label='Val Accuracy')\n",
    "plt.legend()\n",
    "plt.title(\"Problem 2b Accuracy (Batch Normalization)\")"
   ]
  },
  {
   "cell_type": "code",
   "execution_count": 43,
   "id": "a57cc0e0",
   "metadata": {},
   "outputs": [
    {
     "name": "stdout",
     "output_type": "stream",
     "text": [
      "L2 regularization\n",
      "Model size: 76.04 k\n",
      "\n",
      "Dropout\n",
      "Model size: 76.04 k\n",
      "\n",
      "Batch Normalization\n",
      "Model size: 76.14 k\n"
     ]
    }
   ],
   "source": [
    "model_l2 = ResNet(32, 10)\n",
    "model_dropout = ResNetDropout(32, 10, 0.3)\n",
    "model_batchnorm = ResNetBatchNorm(32, 10)\n",
    "\n",
    "macs, params = get_model_complexity_info(model_l2, (3, 32, 32), as_strings=True,\n",
    " print_per_layer_stat=False, verbose=False)\n",
    "# print out the Model size.\n",
    "print(\"L2 regularization\")\n",
    "print(\"Model size: \" + params)\n",
    "\n",
    "print(\"\")\n",
    "\n",
    "macs, params = get_model_complexity_info(model_dropout, (3, 32, 32), as_strings=True,\n",
    " print_per_layer_stat=False, verbose=False)\n",
    "# print out the Model size.\n",
    "print(\"Dropout\")\n",
    "print(\"Model size: \" + params)\n",
    "\n",
    "print(\"\")\n",
    "\n",
    "macs, params = get_model_complexity_info(model_batchnorm, (3, 32, 32), as_strings=True,\n",
    " print_per_layer_stat=False, verbose=False)\n",
    "# print out the Model size.\n",
    "print(\"Batch Normalization\")\n",
    "print(\"Model size: \" + params)"
   ]
  },
  {
   "cell_type": "code",
   "execution_count": null,
   "id": "aec34266",
   "metadata": {},
   "outputs": [],
   "source": []
  }
 ],
 "metadata": {
  "kernelspec": {
   "display_name": "Python 3 (ipykernel)",
   "language": "python",
   "name": "python3"
  },
  "language_info": {
   "codemirror_mode": {
    "name": "ipython",
    "version": 3
   },
   "file_extension": ".py",
   "mimetype": "text/x-python",
   "name": "python",
   "nbconvert_exporter": "python",
   "pygments_lexer": "ipython3",
   "version": "3.8.12"
  }
 },
 "nbformat": 4,
 "nbformat_minor": 5
}
