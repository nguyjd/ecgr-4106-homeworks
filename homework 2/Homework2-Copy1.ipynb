{
 "cells": [
  {
   "cell_type": "markdown",
   "id": "15571727",
   "metadata": {},
   "source": [
    "Jonathon Nguyen\n",
    "\n",
    "ID: 801093003\n",
    "\n",
    "Homework 1"
   ]
  },
  {
   "cell_type": "code",
   "execution_count": 17,
   "id": "c7482afc",
   "metadata": {},
   "outputs": [],
   "source": [
    "import torch\n",
    "import torch.nn as nn\n",
    "import torch.optim as optim\n",
    "import numpy as np \n",
    "import pandas as pd\n",
    "from matplotlib import pyplot as plt\n",
    "from torchvision import datasets\n",
    "from torchvision import transforms\n",
    "import time"
   ]
  },
  {
   "cell_type": "code",
   "execution_count": 87,
   "id": "b5e9f849",
   "metadata": {},
   "outputs": [],
   "source": [
    "# Find the normalized of the input tensor.\n",
    "def normalized_data(tensor):\n",
    "    mean = torch.mean(tensor)\n",
    "    std = torch.std(tensor)\n",
    "    new_tensor = (tensor - mean) / std\n",
    "    \n",
    "    return new_tensor\n",
    "\n",
    "def training_loop(epochs, optimizer, model, loss_fn, training_vars, validation_vars, \n",
    "                  training_prices, validation_prices):\n",
    "    training_losses = []\n",
    "    val_losses = []\n",
    "    for epoch in range(1, epochs + 1):\n",
    "        # Validation model and loss\n",
    "        with torch.no_grad():\n",
    "            prices_p_val = torch.squeeze(model(validation_vars))\n",
    "            loss_val = loss_fn(prices_p_val, validation_prices)\n",
    "            val_losses.append(float(loss_val))\n",
    "        \n",
    "        # Training model and loss\n",
    "        for i, input_var in enumerate(training_vars):\n",
    "            prices_p_train = torch.squeeze(model(input_var))\n",
    "            loss_train = loss_fn(prices_p_train, training_prices[i])\n",
    "            training_losses.append(float(loss_train)) \n",
    "\n",
    "            # Set the new params.\n",
    "            optimizer.zero_grad()\n",
    "            loss_train.backward()\n",
    "            optimizer.step()\n",
    "            \n",
    "        \n",
    "        # Print out the losses every 10 epoch\n",
    "        if epoch % 10 == 0 or epoch == 1:\n",
    "            print(f'Epoch {epoch}: Training Loss: {float(loss_train)}, Validation Loss: {float(loss_val)}')\n",
    "    \n",
    "    return training_losses, val_losses"
   ]
  },
  {
   "cell_type": "code",
   "execution_count": 97,
   "id": "53ac6d4c",
   "metadata": {},
   "outputs": [],
   "source": [
    "NUM_EPOCHS = 200\n",
    "\n",
    "# Read the data from the provided CSV files\n",
    "housing = pd.DataFrame(pd.read_csv(\"Housing.csv\"))\n",
    "\n",
    "# Split the data into the input vars and the prices.\n",
    "names_vars = ['area', 'bedrooms', 'bathrooms', 'stories', 'parking']\n",
    "prices = housing['price']\n",
    "\n",
    "# Find the length of the column.\n",
    "num_samples = len(prices)\n",
    "num_val = int(0.2 * num_samples)\n",
    "\n",
    "# Generate the random indices with 80% training and 20% Validation\n",
    "random_indices = torch.randperm(num_samples)\n",
    "training_indices = random_indices[:-num_val]\n",
    "validation_indices = random_indices[-num_val:]\n",
    "\n",
    "input_vars = torch.tensor(housing[names_vars].values).float()\n",
    "training_tensor = normalized_data(input_vars[training_indices])\n",
    "validation_tensor = normalized_data(input_vars[validation_indices])\n",
    "\n",
    "# Convert the prices to a tensor.\n",
    "prices = torch.tensor(prices.values).float()\n",
    "price_training = normalized_data(prices[training_indices])\n",
    "price_validation = normalized_data(prices[validation_indices])\n",
    "prices = normalized_data(prices)"
   ]
  },
  {
   "cell_type": "code",
   "execution_count": 98,
   "id": "1ab1c115",
   "metadata": {},
   "outputs": [],
   "source": [
    "# Model with one hidden layer of 8\n",
    "model = nn.Sequential(\n",
    "        nn.Linear(5, 8),\n",
    "        nn.Tanh(),\n",
    "        nn.Linear(8, 1))\n",
    "\n",
    "optimizer = optim.SGD(model.parameters(), lr=.0001)\n",
    "loss_function = nn.MSELoss()"
   ]
  },
  {
   "cell_type": "code",
   "execution_count": 99,
   "id": "cf0c93ce",
   "metadata": {
    "scrolled": false
   },
   "outputs": [
    {
     "name": "stdout",
     "output_type": "stream",
     "text": [
      "Epoch 1: Training Loss: 0.0028561907820403576, Validation Loss: 1.0501784086227417\n",
      "Epoch 10: Training Loss: 0.006565732415765524, Validation Loss: 0.8974369168281555\n",
      "Epoch 20: Training Loss: 0.0016593653708696365, Validation Loss: 0.8259453177452087\n",
      "Epoch 30: Training Loss: 2.715105983952526e-05, Validation Loss: 0.7707829475402832\n",
      "Epoch 40: Training Loss: 0.0021822263952344656, Validation Loss: 0.7323186993598938\n",
      "Epoch 50: Training Loss: 0.006566234398633242, Validation Loss: 0.7081403136253357\n",
      "Epoch 60: Training Loss: 0.01151558943092823, Validation Loss: 0.6941960453987122\n",
      "Epoch 70: Training Loss: 0.01590805873274803, Validation Loss: 0.6864868402481079\n",
      "Epoch 80: Training Loss: 0.01928093284368515, Validation Loss: 0.6821249723434448\n",
      "Epoch 90: Training Loss: 0.02162322774529457, Validation Loss: 0.6794195771217346\n",
      "Epoch 100: Training Loss: 0.023124342784285545, Validation Loss: 0.6775123476982117\n",
      "Epoch 110: Training Loss: 0.024012895300984383, Validation Loss: 0.6760079860687256\n",
      "Epoch 120: Training Loss: 0.024486012756824493, Validation Loss: 0.6747332811355591\n",
      "Epoch 130: Training Loss: 0.02469102293252945, Validation Loss: 0.6736137270927429\n",
      "Epoch 140: Training Loss: 0.024731064215302467, Validation Loss: 0.6726149916648865\n",
      "Epoch 150: Training Loss: 0.024673156440258026, Validation Loss: 0.6717186570167542\n",
      "Epoch 160: Training Loss: 0.024561909958720207, Validation Loss: 0.6709122061729431\n",
      "Epoch 170: Training Loss: 0.02442389912903309, Validation Loss: 0.6701857447624207\n",
      "Epoch 180: Training Loss: 0.024276142939925194, Validation Loss: 0.6695303916931152\n",
      "Epoch 190: Training Loss: 0.024128751829266548, Validation Loss: 0.6689385175704956\n",
      "Epoch 200: Training Loss: 0.023987112566828728, Validation Loss: 0.668403685092926\n"
     ]
    }
   ],
   "source": [
    "train_loss, val_loss = training_loop(NUM_EPOCHS, optimizer, model, loss_function, training_tensor, \n",
    "                                     validation_tensor, price_training, price_validation)"
   ]
  },
  {
   "cell_type": "code",
   "execution_count": 100,
   "id": "3bf1e9b7",
   "metadata": {},
   "outputs": [
    {
     "data": {
      "text/plain": [
       "Text(0.5, 1.0, 'Prices')"
      ]
     },
     "execution_count": 100,
     "metadata": {},
     "output_type": "execute_result"
    },
    {
     "data": {
      "image/png": "[encoded data removed]",
      "text/plain": [
       "<Figure size 432x288 with 1 Axes>"
      ]
     },
     "metadata": {
      "needs_background": "light"
     },
     "output_type": "display_data"
    }
   ],
   "source": [
    "# Find the predicted prices\n",
    "prices_p_train = model(training_tensor)\n",
    "prices_p_val = model(validation_tensor)\n",
    "\n",
    "fig = plt.figure()\n",
    "# Name the x and y axis\n",
    "plt.xlabel(\"Houses Number\")\n",
    "plt.ylabel(\"House Price\")\n",
    "           \n",
    "# Plot the model and the actual values.\\n\",\n",
    "plt.plot(training_indices, prices_p_train.detach().numpy(), 'o', label='Predicted Prices (Training)')\n",
    "plt.plot(validation_indices, prices_p_val.detach().numpy(), 'o', label='Predicted Prices (Validation)')\n",
    "plt.plot(prices.numpy(), 'o', label='Actual Prices')\n",
    "plt.legend()\n",
    "plt.title(\"Prices\")"
   ]
  },
  {
   "cell_type": "code",
   "execution_count": 101,
   "id": "fbc8f221",
   "metadata": {
    "scrolled": true
   },
   "outputs": [
    {
     "data": {
      "text/plain": [
       "Text(0.5, 1.0, 'Losses')"
      ]
     },
     "execution_count": 101,
     "metadata": {},
     "output_type": "execute_result"
    },
    {
     "data": {
      "image/png": "[encoded data removed]",
      "text/plain": [
       "<Figure size 432x288 with 1 Axes>"
      ]
     },
     "metadata": {
      "needs_background": "light"
     },
     "output_type": "display_data"
    }
   ],
   "source": [
    "# Plotting the Losses\n",
    "\n",
    "fig = plt.figure()\n",
    "# Name the x and y axis\n",
    "plt.xlabel(\"Epochs\")\n",
    "plt.ylabel(\"Loss\")\n",
    "\n",
    "# Plot the model and the actual values.\n",
    "plt.plot(train_loss, label='Training loss')\n",
    "plt.plot(val_loss, label='Validation loss')\n",
    "plt.legend()\n",
    "plt.title(\"Losses\")"
   ]
  },
  {
   "cell_type": "code",
   "execution_count": 47,
   "id": "4871042d",
   "metadata": {
    "scrolled": true
   },
   "outputs": [
    {
     "name": "stdout",
     "output_type": "stream",
     "text": [
      "Epoch 1: Training Loss: 26553468.0, Validation Loss: 24858680.0\n",
      "Epoch 10: Training Loss: 20800218.0, Validation Loss: 19306326.0\n",
      "Epoch 20: Training Loss: 14598884.0, Validation Loss: 13364110.0\n",
      "Epoch 30: Training Loss: 10624562.0, Validation Loss: 9597236.0\n",
      "Epoch 40: Training Loss: 8077502.0, Validation Loss: 7216243.5\n",
      "Epoch 50: Training Loss: 6445137.0, Validation Loss: 5716824.5\n",
      "Epoch 60: Training Loss: 5398989.5, Validation Loss: 4777106.0\n",
      "Epoch 70: Training Loss: 4728533.0, Validation Loss: 4191851.75\n",
      "Epoch 80: Training Loss: 4298849.0, Validation Loss: 3830376.75\n",
      "Epoch 90: Training Loss: 4023474.5, Validation Loss: 3609607.75\n",
      "Epoch 100: Training Loss: 3846992.25, Validation Loss: 3476838.25\n",
      "Epoch 110: Training Loss: 3733886.5, Validation Loss: 3398727.75\n",
      "Epoch 120: Training Loss: 3661399.75, Validation Loss: 3354256.5\n",
      "Epoch 130: Training Loss: 3614945.5, Validation Loss: 3330229.75\n",
      "Epoch 140: Training Loss: 3585172.75, Validation Loss: 3318411.5\n",
      "Epoch 150: Training Loss: 3566093.0, Validation Loss: 3313704.75\n",
      "Epoch 160: Training Loss: 3553865.0, Validation Loss: 3312982.5\n",
      "Epoch 170: Training Loss: 3546028.5, Validation Loss: 3314357.5\n",
      "Epoch 180: Training Loss: 3541005.0, Validation Loss: 3316709.75\n",
      "Epoch 190: Training Loss: 3537785.75, Validation Loss: 3319394.0\n",
      "Epoch 200: Training Loss: 3535723.5, Validation Loss: 3322057.5\n"
     ]
    }
   ],
   "source": [
    "# Model with three hidden layer of 8, 32, 10\n",
    "model_new = nn.Sequential(\n",
    "        nn.Linear(5, 8),\n",
    "        nn.Tanh(),\n",
    "        nn.Linear(8, 32),\n",
    "        nn.Tanh(),\n",
    "        nn.Linear(32, 10),\n",
    "        nn.Tanh(),\n",
    "        nn.Linear(10, 1))\n",
    "\n",
    "optimizer = optim.SGD(model_new.parameters(), lr=.001)\n",
    "\n",
    "train_loss, val_loss = training_loop(NUM_EPOCHS, optimizer, model_new, nn.MSELoss(), training_tensor, \n",
    "                                     validation_tensor, price_training, price_validation)"
   ]
  },
  {
   "cell_type": "code",
   "execution_count": 48,
   "id": "0af5f268",
   "metadata": {},
   "outputs": [
    {
     "data": {
      "text/plain": [
       "Text(0.5, 1.0, 'Prices')"
      ]
     },
     "execution_count": 48,
     "metadata": {},
     "output_type": "execute_result"
    },
    {
     "data": {
      "image/png": "[encoded data removed]",
      "text/plain": [
       "<Figure size 432x288 with 1 Axes>"
      ]
     },
     "metadata": {
      "needs_background": "light"
     },
     "output_type": "display_data"
    }
   ],
   "source": [
    "# Find the predicted prices\n",
    "prices_p_train = model_new(training_tensor)\n",
    "prices_p_val = model_new(validation_tensor)\n",
    "\n",
    "fig = plt.figure()\n",
    "# Name the x and y axis\n",
    "plt.xlabel(\"Houses Number\")\n",
    "plt.ylabel(\"House Price\")\n",
    "\n",
    "# Plot the model and the actual values.\n",
    "plt.plot(training_indices, prices_p_train.detach().numpy(), 'o', label='Predicted Prices (Training)')\n",
    "plt.plot(validation_indices, prices_p_val.detach().numpy(), 'o', label='Predicted Prices (Validation)')\n",
    "plt.plot(prices.numpy(), 'o', label='Actual Prices')\n",
    "plt.legend()\n",
    "plt.title(\"Prices\")"
   ]
  },
  {
   "cell_type": "code",
   "execution_count": 49,
   "id": "a91c658d",
   "metadata": {},
   "outputs": [
    {
     "data": {
      "text/plain": [
       "Text(0.5, 1.0, 'Losses')"
      ]
     },
     "execution_count": 49,
     "metadata": {},
     "output_type": "execute_result"
    },
    {
     "data": {
      "image/png": "[encoded data removed]",
      "text/plain": [
       "<Figure size 432x288 with 1 Axes>"
      ]
     },
     "metadata": {
      "needs_background": "light"
     },
     "output_type": "display_data"
    }
   ],
   "source": [
    "# Plotting the Losses\n",
    "\n",
    "fig = plt.figure()\n",
    "# Name the x and y axis\n",
    "plt.xlabel(\"Epochs\")\n",
    "plt.ylabel(\"Loss\")\n",
    "\n",
    "# Plot the model and the actual values.\n",
    "plt.plot(train_loss, label='Training loss')\n",
    "plt.plot(val_loss, label='Validation loss')\n",
    "plt.legend()\n",
    "plt.title(\"Losses\")"
   ]
  },
  {
   "cell_type": "markdown",
   "id": "acb694bb",
   "metadata": {},
   "source": [
    "Problem 2"
   ]
  },
  {
   "cell_type": "code",
   "execution_count": null,
   "id": "a3f88211",
   "metadata": {},
   "outputs": [],
   "source": [
    "transforms = transforms.Compose([\n",
    "    transforms.ToTensor(),\n",
    "    transforms.Normalize((0.4915, 0.4823, 0.4468),\n",
    "                         (0.2470, 0.2435, 0.2616))\n",
    "])\n",
    "\n",
    "def training_loop(epochs, optimizer, model, loss_fn, train_loader):\n",
    "    for epoch in range(1, epochs + 1):\n",
    "        for imgs, labels in train_loader:\n",
    "            output = model(imgs.view(imgs.shape[0], -1))\n",
    "            loss = loss_fn(output, labels)\n",
    "            \n",
    "            optimizer.zero_grad()\n",
    "            loss.backward()\n",
    "            optimizer.step()\n",
    "            \n",
    "        print(f\"Epoch: {epoch}, Loss: {float(loss)}\")\n",
    "        \n",
    "    return float(loss)\n",
    "        \n",
    "def model_accuracy(model, val_loader):\n",
    "    correct_labels = 0\n",
    "    count = 0\n",
    "    with torch.no_grad():\n",
    "        for imgs, labels in val_loader:\n",
    "            output = model(imgs.view(imgs.shape[0], -1))\n",
    "            _, predicted = torch.max(output, dim=1)\n",
    "            count += labels.shape[0]\n",
    "            correct_labels += int((predicted == labels).sum())\n",
    "            \n",
    "    return (correct_labels/count)"
   ]
  },
  {
   "cell_type": "code",
   "execution_count": null,
   "id": "b2548a3a",
   "metadata": {},
   "outputs": [],
   "source": [
    "data = '.\\cifar10'\n",
    "cirfar10_train = datasets.CIFAR10(data, train=True, download=True, transform=transforms)\n",
    "cirfar10_val = datasets.CIFAR10(data, train=False, download=True, transform=transforms)\n",
    "\n",
    "class_names = ['airplane','automobile','bird','cat','deer','dog','frog','horse','ship','truck']"
   ]
  },
  {
   "cell_type": "code",
   "execution_count": null,
   "id": "b2bcbdae",
   "metadata": {},
   "outputs": [],
   "source": [
    "NUM_EPOCHS = 200\n",
    "LEARNING_RATE = 1e-2\n",
    "BATCH_SIZE = 64\n",
    "\n",
    "\n",
    "model = nn.Sequential(\n",
    "        nn.Linear(3072, 512),\n",
    "        nn.Tanh(),\n",
    "        nn.Linear(512, 10),\n",
    "        nn.LogSoftmax(dim=1))\n",
    "\n",
    "loss = nn.NLLLoss()\n",
    "optimizer = optim.SGD(model.parameters(), lr=LEARNING_RATE)\n",
    "train_loader = torch.utils.data.DataLoader(cirfar10_train, batch_size=BATCH_SIZE, shuffle=True)\n",
    "val_loader = torch.utils.data.DataLoader(cirfar10_val, batch_size=BATCH_SIZE, shuffle=False)"
   ]
  },
  {
   "cell_type": "code",
   "execution_count": null,
   "id": "3f416cc3",
   "metadata": {},
   "outputs": [],
   "source": [
    "start_time = time.time()\n",
    "model_loss = training_loop(NUM_EPOCHS, optimizer, model, loss, train_loader)\n",
    "end_time = time.time()\n",
    "\n",
    "accuracy = model_accuracy(model, val_loader)\n",
    "print(f\"Final Loss: {model_loss}, Accuracy: {accuracy}, Training Time: {end_time - start_time}\")"
   ]
  },
  {
   "cell_type": "code",
   "execution_count": null,
   "id": "5bd8e0ee",
   "metadata": {},
   "outputs": [],
   "source": [
    "model_new = nn.Sequential(\n",
    "            nn.Linear(3072, 512),\n",
    "            nn.Tanh(),\n",
    "            nn.Linear(512, 1024),\n",
    "            nn.ReLU(),\n",
    "            nn.Linear(1024, 256),\n",
    "            nn.Tanh(),\n",
    "            nn.Linear(256, 10),\n",
    "            nn.LogSoftmax(dim=1))\n",
    "\n",
    "start_time = time.time()\n",
    "model_loss = training_loop(NUM_EPOCHS, optimizer, model_new, loss, train_loader)\n",
    "end_time = time.time()\n",
    "\n",
    "accuracy = model_accuracy(model, val_loader)\n",
    "print(f\"Final Loss: {model_loss}, Accuracy: {accuracy}, Training Time: {end_time - start_time}\")"
   ]
  }
 ],
 "metadata": {
  "kernelspec": {
   "display_name": "Python 3 (ipykernel)",
   "language": "python",
   "name": "python3"
  },
  "language_info": {
   "codemirror_mode": {
    "name": "ipython",
    "version": 3
   },
   "file_extension": ".py",
   "mimetype": "text/x-python",
   "name": "python",
   "nbconvert_exporter": "python",
   "pygments_lexer": "ipython3",
   "version": "3.8.12"
  }
 },
 "nbformat": 4,
 "nbformat_minor": 5
}
