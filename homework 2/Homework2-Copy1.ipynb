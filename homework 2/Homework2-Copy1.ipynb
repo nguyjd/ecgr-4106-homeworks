{
 "cells": [
  {
   "cell_type": "markdown",
   "id": "15571727",
   "metadata": {},
   "source": [
    "Jonathon Nguyen\n",
    "\n",
    "ID: 801093003\n",
    "\n",
    "Homework 1"
   ]
  },
  {
   "cell_type": "code",
   "execution_count": 1,
   "id": "c7482afc",
   "metadata": {},
   "outputs": [],
   "source": [
    "import torch\n",
    "import torch.nn as nn\n",
    "import torch.optim as optim\n",
    "import numpy as np \n",
    "import pandas as pd\n",
    "from matplotlib import pyplot as plt\n",
    "from torchvision import datasets\n",
    "from torchvision import transforms\n",
    "import time"
   ]
  },
  {
   "cell_type": "code",
   "execution_count": 6,
   "id": "b5e9f849",
   "metadata": {},
   "outputs": [],
   "source": [
    "# Find the normalized of the input tensor.\n",
    "def normalized_data(tensor):\n",
    "    mean = torch.mean(tensor)\n",
    "    std = torch.std(tensor)\n",
    "    new_tensor = (tensor - mean) / std\n",
    "    \n",
    "    return new_tensor\n",
    "\n",
    "def training_loop(epochs, optimizer, model, loss_fn, training_vars, validation_vars, \n",
    "                  training_prices, validation_prices):\n",
    "    training_losses = []\n",
    "    val_losses = []\n",
    "    for epoch in range(1, epochs + 1):\n",
    "        # Validation model and loss\n",
    "        with torch.no_grad():\n",
    "            prices_p_val = torch.squeeze(model(validation_vars))\n",
    "            loss_val = loss_fn(prices_p_val, validation_prices)\n",
    "            val_losses.append(float(loss_val))\n",
    "        \n",
    "        # Training model and loss\n",
    "        prices_p_train = torch.squeeze(model(training_vars))\n",
    "        loss_train = loss_fn(prices_p_train, training_prices)\n",
    "        training_losses.append(float(loss_train))    \n",
    "        \n",
    "        # Set the new params.\n",
    "        optimizer.zero_grad()\n",
    "        loss_train.backward()\n",
    "        optimizer.step()\n",
    "        \n",
    "        # Print out the losses every 10 epoch\n",
    "        if epoch % 10 == 0 or epoch == 1:\n",
    "            print(f'Epoch {epoch}: Training Loss: {float(loss_train)}, Validation Loss: {float(loss_val)}')\n",
    "    \n",
    "    return training_losses, val_losses"
   ]
  },
  {
   "cell_type": "code",
   "execution_count": 17,
   "id": "53ac6d4c",
   "metadata": {},
   "outputs": [],
   "source": [
    "NUM_EPOCHS = 200\n",
    "\n",
    "# Read the data from the provided CSV files\n",
    "housing = pd.DataFrame(pd.read_csv(\"Housing.csv\"))\n",
    "\n",
    "# Split the data into the input vars and the prices.\n",
    "names_vars = ['area', 'bedrooms', 'bathrooms', 'stories', 'parking']\n",
    "prices = housing['price']\n",
    "\n",
    "# Find the length of the column.\n",
    "num_samples = len(prices)\n",
    "num_val = int(0.2 * num_samples)\n",
    "\n",
    "# Generate the random indices with 80% training and 20% Validation\n",
    "random_indices = torch.randperm(num_samples)\n",
    "training_indices = random_indices[:-num_val]\n",
    "validation_indices = random_indices[-num_val:]\n",
    "\n",
    "input_vars = torch.tensor(housing[names_vars].values).float()\n",
    "training_tensor = normalized_data(input_vars[training_indices])\n",
    "validation_tensor = normalized_data(input_vars[validation_indices])\n",
    "\n",
    "# Convert the prices to a tensor.\n",
    "prices = torch.tensor(prices.values).float()\n",
    "price_training = prices[training_indices]\n",
    "price_validation = prices[validation_indices]"
   ]
  },
  {
   "cell_type": "code",
   "execution_count": 18,
   "id": "1ab1c115",
   "metadata": {},
   "outputs": [],
   "source": [
    "# Model with one hidden layer of 8\n",
    "model = nn.Sequential(\n",
    "        nn.Linear(5, 8),\n",
    "        nn.Tanh(),\n",
    "        nn.Linear(8, 1))\n",
    "\n",
    "optimizer = optim.SGD(model.parameters(), lr=.001)"
   ]
  },
  {
   "cell_type": "code",
   "execution_count": 19,
   "id": "cf0c93ce",
   "metadata": {
    "scrolled": false
   },
   "outputs": [
    {
     "name": "stdout",
     "output_type": "stream",
     "text": [
      "Epoch 1: Training Loss: 25604514643968.0, Validation Loss: 28651133337600.0\n",
      "Epoch 10: Training Loss: 19910140887040.0, Validation Loss: 22647421272064.0\n",
      "Epoch 20: Training Loss: 14861454016512.0, Validation Loss: 17275833810944.0\n",
      "Epoch 30: Training Loss: 11350632824832.0, Validation Loss: 13495747739648.0\n",
      "Epoch 40: Training Loss: 8909239615488.0, Validation Loss: 10829811417088.0\n",
      "Epoch 50: Training Loss: 7211510136832.0, Validation Loss: 8944836673536.0\n",
      "Epoch 60: Training Loss: 6030924185600.0, Validation Loss: 7608104648704.0\n",
      "Epoch 70: Training Loss: 5209954713600.0, Validation Loss: 6656926679040.0\n",
      "Epoch 80: Training Loss: 4639058034688.0, Validation Loss: 5977448906752.0\n",
      "Epoch 90: Training Loss: 4242061918208.0, Validation Loss: 5489905106944.0\n",
      "Epoch 100: Training Loss: 3965994139648.0, Validation Loss: 5138330681344.0\n",
      "Epoch 110: Training Loss: 3774018224128.0, Validation Loss: 4883389349888.0\n",
      "Epoch 120: Training Loss: 3640519819264.0, Validation Loss: 4697384026112.0\n",
      "Epoch 130: Training Loss: 3547685715968.0, Validation Loss: 4560764534784.0\n",
      "Epoch 140: Training Loss: 3483129610240.0, Validation Loss: 4459695964160.0\n",
      "Epoch 150: Training Loss: 3438238236672.0, Validation Loss: 4384356827136.0\n",
      "Epoch 160: Training Loss: 3407021604864.0, Validation Loss: 4327748141056.0\n",
      "Epoch 170: Training Loss: 3385313198080.0, Validation Loss: 4284866363392.0\n",
      "Epoch 180: Training Loss: 3370216587264.0, Validation Loss: 4252114092032.0\n",
      "Epoch 190: Training Loss: 3359719817216.0, Validation Loss: 4226892955648.0\n",
      "Epoch 200: Training Loss: 3352419893248.0, Validation Loss: 4207314468864.0\n"
     ]
    }
   ],
   "source": [
    "train_loss, val_loss = training_loop(NUM_EPOCHS, optimizer, model, nn.MSELoss(), training_tensor, \n",
    "                                     validation_tensor, price_training, price_validation)"
   ]
  },
  {
   "cell_type": "code",
   "execution_count": 10,
   "id": "63e20229",
   "metadata": {},
   "outputs": [
    {
     "data": {
      "text/plain": [
       "Text(0.5, 1.0, 'Prices')"
      ]
     },
     "execution_count": 10,
     "metadata": {},
     "output_type": "execute_result"
    },
    {
     "data": {
      "image/png": "[encoded data removed]",
      "text/plain": [
       "<Figure size 432x288 with 1 Axes>"
      ]
     },
     "metadata": {
      "needs_background": "light"
     },
     "output_type": "display_data"
    }
   ],
   "source": [
    "# Find the predicted prices\n",
    "prices_p_train = model(training_tensor)\n",
    "prices_p_val = model(validation_tensor)\n",
    "\n",
    "fig = plt.figure()\n",
    "# Name the x and y axis\n",
    "plt.xlabel(\"Houses Number\")\n",
    "plt.ylabel(\"House Price\")\n",
    "\n",
    "# Plot the model and the actual values.\n",
    "plt.plot(training_indices, prices_p_train.detach().numpy(), 'o', label='Predicted Prices (Training)')\n",
    "plt.plot(validation_indices, prices_p_val.detach().numpy(), 'o', label='Predicted Prices (Validation)')\n",
    "plt.plot(prices.numpy(), 'o', label='Actual Prices')\n",
    "plt.legend()\n",
    "plt.title(\"Prices\")"
   ]
  },
  {
   "cell_type": "code",
   "execution_count": 11,
   "id": "fbc8f221",
   "metadata": {
    "scrolled": true
   },
   "outputs": [
    {
     "data": {
      "text/plain": [
       "Text(0.5, 1.0, 'Losses')"
      ]
     },
     "execution_count": 11,
     "metadata": {},
     "output_type": "execute_result"
    },
    {
     "data": {
      "image/png": "[encoded data removed]",
      "text/plain": [
       "<Figure size 432x288 with 1 Axes>"
      ]
     },
     "metadata": {
      "needs_background": "light"
     },
     "output_type": "display_data"
    }
   ],
   "source": [
    "# Plotting the Losses\n",
    "\n",
    "fig = plt.figure()\n",
    "# Name the x and y axis\n",
    "plt.xlabel(\"Epochs\")\n",
    "plt.ylabel(\"Loss\")\n",
    "\n",
    "# Plot the model and the actual values.\n",
    "plt.plot(train_loss, label='Training loss')\n",
    "plt.plot(val_loss, label='Validation loss')\n",
    "plt.legend()\n",
    "plt.title(\"Losses\")"
   ]
  },
  {
   "cell_type": "code",
   "execution_count": 12,
   "id": "4871042d",
   "metadata": {
    "scrolled": true
   },
   "outputs": [
    {
     "name": "stdout",
     "output_type": "stream",
     "text": [
      "Epoch 1: Training Loss: 25706719346688.0, Validation Loss: 28242287263744.0\n",
      "Epoch 10: Training Loss: 18881959690240.0, Validation Loss: 21194170433536.0\n",
      "Epoch 20: Training Loss: 13270149758976.0, Validation Loss: 15358094213120.0\n",
      "Epoch 30: Training Loss: 9673648373760.0, Validation Loss: 11582056693760.0\n",
      "Epoch 40: Training Loss: 7368723136512.0, Validation Loss: 9133402095616.0\n",
      "Epoch 50: Training Loss: 5891540123648.0, Validation Loss: 7541158313984.0\n",
      "Epoch 60: Training Loss: 4944843243520.0, Validation Loss: 6502348750848.0\n",
      "Epoch 70: Training Loss: 4338123800576.0, Validation Loss: 5821888987136.0\n",
      "Epoch 80: Training Loss: 3949289799680.0, Validation Loss: 5374021730304.0\n",
      "Epoch 90: Training Loss: 3700092567552.0, Validation Loss: 5077565702144.0\n",
      "Epoch 100: Training Loss: 3540386578432.0, Validation Loss: 4880026566656.0\n",
      "Epoch 110: Training Loss: 3438033502208.0, Validation Loss: 4747386421248.0\n",
      "Epoch 120: Training Loss: 3372438257664.0, Validation Loss: 4657544429568.0\n",
      "Epoch 130: Training Loss: 3330399272960.0, Validation Loss: 4596094730240.0\n",
      "Epoch 140: Training Loss: 3303457947648.0, Validation Loss: 4553614295040.0\n",
      "Epoch 150: Training Loss: 3286190784512.0, Validation Loss: 4523907088384.0\n",
      "Epoch 160: Training Loss: 3275125161984.0, Validation Loss: 4502883663872.0\n",
      "Epoch 170: Training Loss: 3268033380352.0, Validation Loss: 4487818248192.0\n",
      "Epoch 180: Training Loss: 3263488065536.0, Validation Loss: 4476891561984.0\n",
      "Epoch 190: Training Loss: 3260574859264.0, Validation Loss: 4468868907008.0\n",
      "Epoch 200: Training Loss: 3258708131840.0, Validation Loss: 4462911946752.0\n"
     ]
    }
   ],
   "source": [
    "# Model with three hidden layer of 8, 32, 10\n",
    "model_new = nn.Sequential(\n",
    "        nn.Linear(5, 8),\n",
    "        nn.Tanh(),\n",
    "        nn.Linear(8, 32),\n",
    "        nn.Tanh(),\n",
    "        nn.Linear(32, 10),\n",
    "        nn.Tanh(),\n",
    "        nn.Linear(10, 1))\n",
    "\n",
    "optimizer = optim.SGD(model_new.parameters(), lr=.001)\n",
    "\n",
    "train_loss, val_loss = training_loop(NUM_EPOCHS, optimizer, model_new, nn.MSELoss(), training_tensor, \n",
    "                                     validation_tensor, price_training, price_validation)"
   ]
  },
  {
   "cell_type": "code",
   "execution_count": 13,
   "id": "0af5f268",
   "metadata": {},
   "outputs": [
    {
     "data": {
      "text/plain": [
       "Text(0.5, 1.0, 'Prices')"
      ]
     },
     "execution_count": 13,
     "metadata": {},
     "output_type": "execute_result"
    },
    {
     "data": {
      "image/png": "[encoded data removed]",
      "text/plain": [
       "<Figure size 432x288 with 1 Axes>"
      ]
     },
     "metadata": {
      "needs_background": "light"
     },
     "output_type": "display_data"
    }
   ],
   "source": [
    "# Find the predicted prices\n",
    "prices_p_train = model_new(training_tensor)\n",
    "prices_p_val = model_new(validation_tensor)\n",
    "\n",
    "fig = plt.figure()\n",
    "# Name the x and y axis\n",
    "plt.xlabel(\"Houses Number\")\n",
    "plt.ylabel(\"House Price\")\n",
    "\n",
    "# Plot the model and the actual values.\n",
    "plt.plot(training_indices, prices_p_train.detach().numpy(), 'o', label='Predicted Prices (Training)')\n",
    "plt.plot(validation_indices, prices_p_val.detach().numpy(), 'o', label='Predicted Prices (Validation)')\n",
    "plt.plot(prices.numpy(), 'o', label='Actual Prices')\n",
    "plt.legend()\n",
    "plt.title(\"Prices\")"
   ]
  },
  {
   "cell_type": "code",
   "execution_count": 14,
   "id": "a91c658d",
   "metadata": {},
   "outputs": [
    {
     "data": {
      "text/plain": [
       "Text(0.5, 1.0, 'Losses')"
      ]
     },
     "execution_count": 14,
     "metadata": {},
     "output_type": "execute_result"
    },
    {
     "data": {
      "image/png": "[encoded data removed]",
      "text/plain": [
       "<Figure size 432x288 with 1 Axes>"
      ]
     },
     "metadata": {
      "needs_background": "light"
     },
     "output_type": "display_data"
    }
   ],
   "source": [
    "# Plotting the Losses\n",
    "\n",
    "fig = plt.figure()\n",
    "# Name the x and y axis\n",
    "plt.xlabel(\"Epochs\")\n",
    "plt.ylabel(\"Loss\")\n",
    "\n",
    "# Plot the model and the actual values.\n",
    "plt.plot(train_loss, label='Training loss')\n",
    "plt.plot(val_loss, label='Validation loss')\n",
    "plt.legend()\n",
    "plt.title(\"Losses\")"
   ]
  },
  {
   "cell_type": "markdown",
   "id": "acb694bb",
   "metadata": {},
   "source": [
    "Problem 2"
   ]
  },
  {
   "cell_type": "code",
   "execution_count": null,
   "id": "a3f88211",
   "metadata": {},
   "outputs": [],
   "source": [
    "transforms = transforms.Compose([\n",
    "    transforms.ToTensor(),\n",
    "    transforms.Normalize((0.4915, 0.4823, 0.4468),\n",
    "                         (0.2470, 0.2435, 0.2616))\n",
    "])\n",
    "\n",
    "def training_loop(epochs, optimizer, model, loss_fn, train_loader):\n",
    "    for epoch in range(1, epochs + 1):\n",
    "        for imgs, labels in train_loader:\n",
    "            output = model(imgs.view(imgs.shape[0], -1))\n",
    "            loss = loss_fn(output, labels)\n",
    "            \n",
    "            optimizer.zero_grad()\n",
    "            loss.backward()\n",
    "            optimizer.step()\n",
    "            \n",
    "        print(f\"Epoch: {epoch}, Loss: {float(loss)}\")\n",
    "        \n",
    "    return float(loss)\n",
    "        \n",
    "def model_accuracy(model, val_loader):\n",
    "    correct_labels = 0\n",
    "    count = 0\n",
    "    with torch.no_grad():\n",
    "        for imgs, labels in val_loader:\n",
    "            output = model(imgs.view(imgs.shape[0], -1))\n",
    "            _, predicted = torch.max(output, dim=1)\n",
    "            count += labels.shape[0]\n",
    "            correct_labels += int((predicted == labels).sum())\n",
    "            \n",
    "    return (correct_labels/count)"
   ]
  },
  {
   "cell_type": "code",
   "execution_count": null,
   "id": "b2548a3a",
   "metadata": {},
   "outputs": [],
   "source": [
    "data = '.\\cifar10'\n",
    "cirfar10_train = datasets.CIFAR10(data, train=True, download=True, transform=transforms)\n",
    "cirfar10_val = datasets.CIFAR10(data, train=False, download=True, transform=transforms)\n",
    "\n",
    "class_names = ['airplane','automobile','bird','cat','deer','dog','frog','horse','ship','truck']"
   ]
  },
  {
   "cell_type": "code",
   "execution_count": null,
   "id": "b2bcbdae",
   "metadata": {},
   "outputs": [],
   "source": [
    "NUM_EPOCHS = 200\n",
    "LEARNING_RATE = 1e-2\n",
    "BATCH_SIZE = 64\n",
    "\n",
    "\n",
    "model = nn.Sequential(\n",
    "        nn.Linear(3072, 512),\n",
    "        nn.Tanh(),\n",
    "        nn.Linear(512, 10),\n",
    "        nn.LogSoftmax(dim=1))\n",
    "\n",
    "loss = nn.NLLLoss()\n",
    "optimizer = optim.SGD(model.parameters(), lr=LEARNING_RATE)\n",
    "train_loader = torch.utils.data.DataLoader(cirfar10_train, batch_size=BATCH_SIZE, shuffle=True)\n",
    "val_loader = torch.utils.data.DataLoader(cirfar10_val, batch_size=BATCH_SIZE, shuffle=False)"
   ]
  },
  {
   "cell_type": "code",
   "execution_count": null,
   "id": "3f416cc3",
   "metadata": {},
   "outputs": [],
   "source": [
    "start_time = time.time()\n",
    "model_loss = training_loop(NUM_EPOCHS, optimizer, model, loss, train_loader)\n",
    "end_time = time.time()\n",
    "\n",
    "accuracy = model_accuracy(model, val_loader)\n",
    "print(f\"Final Loss: {model_loss}, Accuracy: {accuracy}, Training Time: {end_time - start_time}\")"
   ]
  },
  {
   "cell_type": "code",
   "execution_count": null,
   "id": "5bd8e0ee",
   "metadata": {},
   "outputs": [],
   "source": [
    "model_new = nn.Sequential(\n",
    "            nn.Linear(3072, 512),\n",
    "            nn.Tanh(),\n",
    "            nn.Linear(512, 1024),\n",
    "            nn.ReLU(),\n",
    "            nn.Linear(1024, 256),\n",
    "            nn.Tanh(),\n",
    "            nn.Linear(256, 10),\n",
    "            nn.LogSoftmax(dim=1))\n",
    "\n",
    "start_time = time.time()\n",
    "model_loss = training_loop(NUM_EPOCHS, optimizer, model_new, loss, train_loader)\n",
    "end_time = time.time()\n",
    "\n",
    "accuracy = model_accuracy(model, val_loader)\n",
    "print(f\"Final Loss: {model_loss}, Accuracy: {accuracy}, Training Time: {end_time - start_time}\")"
   ]
  }
 ],
 "metadata": {
  "kernelspec": {
   "display_name": "Python 3 (ipykernel)",
   "language": "python",
   "name": "python3"
  },
  "language_info": {
   "codemirror_mode": {
    "name": "ipython",
    "version": 3
   },
   "file_extension": ".py",
   "mimetype": "text/x-python",
   "name": "python",
   "nbconvert_exporter": "python",
   "pygments_lexer": "ipython3",
   "version": "3.8.12"
  }
 },
 "nbformat": 4,
 "nbformat_minor": 5
}
