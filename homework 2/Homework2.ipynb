{
 "cells": [
  {
   "cell_type": "markdown",
   "id": "15571727",
   "metadata": {},
   "source": [
    "Jonathon Nguyen\n",
    "\n",
    "ID: 801093003\n",
    "\n",
    "Homework 2"
   ]
  },
  {
   "cell_type": "code",
   "execution_count": 1,
   "id": "c7482afc",
   "metadata": {},
   "outputs": [],
   "source": [
    "import torch\n",
    "import torch.nn as nn\n",
    "import torch.optim as optim\n",
    "import numpy as np \n",
    "import pandas as pd\n",
    "from matplotlib import pyplot as plt\n",
    "from torchvision import datasets\n",
    "import time"
   ]
  },
  {
   "cell_type": "code",
   "execution_count": 2,
   "id": "b5e9f849",
   "metadata": {},
   "outputs": [],
   "source": [
    "# Find the normalized of the input tensor.\n",
    "def normalized_data(tensor):\n",
    "    mean = torch.mean(tensor)\n",
    "    std = torch.std(tensor)\n",
    "    new_tensor = (tensor - mean) / std\n",
    "    \n",
    "    return new_tensor\n",
    "\n",
    "def training_loop(epochs, optimizer, model, loss_fn, training_vars, validation_vars, \n",
    "                  training_prices, validation_prices):\n",
    "    training_losses = []\n",
    "    val_losses = []\n",
    "    for epoch in range(1, epochs + 1):\n",
    "        # Validation model and loss\n",
    "        loss_val_values = 0\n",
    "        with torch.no_grad():\n",
    "            prices_p_val = torch.squeeze(model(validation_vars))\n",
    "            loss_val = loss_fn(prices_p_val, validation_prices)\n",
    "            \n",
    "        val_losses.append(float(loss_val)) \n",
    "        \n",
    "        # Training model and loss\n",
    "        prices_p_train = torch.squeeze(model(training_vars))\n",
    "        loss_train = loss_fn(prices_p_train, training_prices)\n",
    "\n",
    "        # Set the new params.\n",
    "        optimizer.zero_grad()\n",
    "        loss_train.backward()\n",
    "        optimizer.step()\n",
    "        \n",
    "        training_losses.append(float(loss_train)) \n",
    "        \n",
    "        # Print out the losses every 10 epoch\n",
    "        if epoch % 10 == 0 or epoch == 1:\n",
    "            print(f'Epoch {epoch}: Training Loss: {float(loss_train)}, Validation Loss: {float(loss_val)}')\n",
    "    \n",
    "    return training_losses, val_losses"
   ]
  },
  {
   "cell_type": "code",
   "execution_count": 3,
   "id": "53ac6d4c",
   "metadata": {},
   "outputs": [],
   "source": [
    "NUM_EPOCHS = 300\n",
    "\n",
    "# Read the data from the provided CSV files\n",
    "housing = pd.DataFrame(pd.read_csv(\"Housing.csv\"))\n",
    "\n",
    "# Split the data into the input vars and the prices.\n",
    "names_vars = ['area', 'bedrooms', 'bathrooms', 'stories', 'parking']\n",
    "prices = housing['price']\n",
    "\n",
    "# Find the length of the column.\n",
    "num_samples = len(prices)\n",
    "num_val = int(0.2 * num_samples)\n",
    "\n",
    "# Generate the random indices with 80% training and 20% Validation\n",
    "random_indices = torch.randperm(num_samples)\n",
    "training_indices = random_indices[:-num_val]\n",
    "validation_indices = random_indices[-num_val:]\n",
    "\n",
    "input_vars = torch.tensor(housing[names_vars].values).float()\n",
    "training_tensor = normalized_data(input_vars[training_indices])\n",
    "validation_tensor = normalized_data(input_vars[validation_indices])\n",
    "\n",
    "# Convert the prices to a tensor.\n",
    "prices = normalized_data(torch.tensor(prices.values).float())\n",
    "price_training = prices[training_indices]\n",
    "price_validation = prices[validation_indices]"
   ]
  },
  {
   "cell_type": "code",
   "execution_count": 4,
   "id": "1ab1c115",
   "metadata": {},
   "outputs": [],
   "source": [
    "# Model with one hidden layer of 8\n",
    "model = nn.Sequential(\n",
    "        nn.Linear(5, 8),\n",
    "        nn.Tanh(),\n",
    "        nn.Linear(8, 1))\n",
    "\n",
    "optimizer = optim.SGD(model.parameters(), lr=.01)\n",
    "loss_function = nn.MSELoss()"
   ]
  },
  {
   "cell_type": "code",
   "execution_count": 5,
   "id": "cf0c93ce",
   "metadata": {},
   "outputs": [
    {
     "name": "stdout",
     "output_type": "stream",
     "text": [
      "Epoch 1: Training Loss: 1.2460602521896362, Validation Loss: 1.3977521657943726\n",
      "Epoch 10: Training Loss: 1.0101455450057983, Validation Loss: 1.151967167854309\n",
      "Epoch 20: Training Loss: 0.9181671142578125, Validation Loss: 1.054456353187561\n",
      "Epoch 30: Training Loss: 0.8796026706695557, Validation Loss: 1.0130778551101685\n",
      "Epoch 40: Training Loss: 0.8576151728630066, Validation Loss: 0.989709198474884\n",
      "Epoch 50: Training Loss: 0.8409616947174072, Validation Loss: 0.9724629521369934\n",
      "Epoch 60: Training Loss: 0.8261151313781738, Validation Loss: 0.9574528932571411\n",
      "Epoch 70: Training Loss: 0.812021791934967, Validation Loss: 0.9434162974357605\n",
      "Epoch 80: Training Loss: 0.798433780670166, Validation Loss: 0.9299797415733337\n",
      "Epoch 90: Training Loss: 0.7853594422340393, Validation Loss: 0.917076051235199\n",
      "Epoch 100: Training Loss: 0.7728792428970337, Validation Loss: 0.904740571975708\n",
      "Epoch 110: Training Loss: 0.7610804438591003, Validation Loss: 0.8930349946022034\n",
      "Epoch 120: Training Loss: 0.7500353455543518, Validation Loss: 0.8820186853408813\n",
      "Epoch 130: Training Loss: 0.739793598651886, Validation Loss: 0.8717361688613892\n",
      "Epoch 140: Training Loss: 0.7303813695907593, Validation Loss: 0.8622138500213623\n",
      "Epoch 150: Training Loss: 0.7218034267425537, Validation Loss: 0.8534596562385559\n",
      "Epoch 160: Training Loss: 0.7140458226203918, Validation Loss: 0.8454656600952148\n",
      "Epoch 170: Training Loss: 0.7070803642272949, Validation Loss: 0.8382095694541931\n",
      "Epoch 180: Training Loss: 0.700867235660553, Validation Loss: 0.8316590189933777\n",
      "Epoch 190: Training Loss: 0.6953589916229248, Validation Loss: 0.8257730603218079\n",
      "Epoch 200: Training Loss: 0.690502405166626, Validation Loss: 0.8205056190490723\n",
      "Epoch 210: Training Loss: 0.6862422227859497, Validation Loss: 0.8158075213432312\n",
      "Epoch 220: Training Loss: 0.6825219988822937, Validation Loss: 0.8116279244422913\n",
      "Epoch 230: Training Loss: 0.6792863011360168, Validation Loss: 0.807917058467865\n",
      "Epoch 240: Training Loss: 0.6764819025993347, Validation Loss: 0.804625928401947\n",
      "Epoch 250: Training Loss: 0.6740583777427673, Validation Loss: 0.8017081618309021\n",
      "Epoch 260: Training Loss: 0.6719690561294556, Validation Loss: 0.7991204261779785\n",
      "Epoch 270: Training Loss: 0.670170783996582, Validation Loss: 0.7968224883079529\n",
      "Epoch 280: Training Loss: 0.6686248779296875, Validation Loss: 0.7947779893875122\n",
      "Epoch 290: Training Loss: 0.667296290397644, Validation Loss: 0.7929537892341614\n",
      "Epoch 300: Training Loss: 0.6661543250083923, Validation Loss: 0.7913205623626709\n"
     ]
    }
   ],
   "source": [
    "train_loss, val_loss = training_loop(NUM_EPOCHS, optimizer, model, loss_function, training_tensor, \n",
    "                                     validation_tensor, price_training, price_validation)"
   ]
  },
  {
   "cell_type": "code",
   "execution_count": 6,
   "id": "ac7e95dc",
   "metadata": {},
   "outputs": [
    {
     "data": {
      "text/plain": [
       "Text(0.5, 1.0, 'Losses')"
      ]
     },
     "execution_count": 6,
     "metadata": {},
     "output_type": "execute_result"
    },
    {
     "data": {
      "image/png": "[encoded data removed]",
      "text/plain": [
       "<Figure size 432x288 with 1 Axes>"
      ]
     },
     "metadata": {
      "needs_background": "light"
     },
     "output_type": "display_data"
    }
   ],
   "source": [
    "# Plotting the Losses\n",
    "\n",
    "fig = plt.figure()\n",
    "# Name the x and y axis\n",
    "plt.xlabel(\"Epochs\")\n",
    "plt.ylabel(\"Loss\")\n",
    "\n",
    "# Plot the model and the actual values.\n",
    "plt.plot(train_loss, label='Training loss')\n",
    "plt.plot(val_loss, label='Validation loss')\n",
    "plt.legend()\n",
    "plt.title(\"Losses\")"
   ]
  },
  {
   "cell_type": "code",
   "execution_count": 7,
   "id": "a34fd859",
   "metadata": {
    "scrolled": false
   },
   "outputs": [
    {
     "name": "stdout",
     "output_type": "stream",
     "text": [
      "Epoch 1: Training Loss: 1.008755087852478, Validation Loss: 1.1300957202911377\n",
      "Epoch 10: Training Loss: 0.9911390542984009, Validation Loss: 1.1144399642944336\n",
      "Epoch 20: Training Loss: 0.9779357314109802, Validation Loss: 1.1026506423950195\n",
      "Epoch 30: Training Loss: 0.9675033092498779, Validation Loss: 1.0931150913238525\n",
      "Epoch 40: Training Loss: 0.9581463932991028, Validation Loss: 1.0843251943588257\n",
      "Epoch 50: Training Loss: 0.9491453766822815, Validation Loss: 1.0756783485412598\n",
      "Epoch 60: Training Loss: 0.9401654005050659, Validation Loss: 1.0669103860855103\n",
      "Epoch 70: Training Loss: 0.9310250878334045, Validation Loss: 1.0578820705413818\n",
      "Epoch 80: Training Loss: 0.9216070175170898, Validation Loss: 1.0485001802444458\n",
      "Epoch 90: Training Loss: 0.9118227958679199, Validation Loss: 1.0386887788772583\n",
      "Epoch 100: Training Loss: 0.901601254940033, Validation Loss: 1.028381586074829\n",
      "Epoch 110: Training Loss: 0.8908839225769043, Validation Loss: 1.0175195932388306\n",
      "Epoch 120: Training Loss: 0.8796263337135315, Validation Loss: 1.0060539245605469\n",
      "Epoch 130: Training Loss: 0.8677998185157776, Validation Loss: 0.9939488172531128\n",
      "Epoch 140: Training Loss: 0.8553949594497681, Validation Loss: 0.9811856150627136\n",
      "Epoch 150: Training Loss: 0.8424268364906311, Validation Loss: 0.9677679538726807\n",
      "Epoch 160: Training Loss: 0.8289375901222229, Validation Loss: 0.9537258148193359\n",
      "Epoch 170: Training Loss: 0.81500244140625, Validation Loss: 0.9391213655471802\n",
      "Epoch 180: Training Loss: 0.8007311224937439, Validation Loss: 0.9240509867668152\n",
      "Epoch 190: Training Loss: 0.7862692475318909, Validation Loss: 0.9086489677429199\n",
      "Epoch 200: Training Loss: 0.7717961072921753, Validation Loss: 0.8930847644805908\n",
      "Epoch 210: Training Loss: 0.7575180530548096, Validation Loss: 0.8775590062141418\n",
      "Epoch 220: Training Loss: 0.7436574101448059, Validation Loss: 0.8622939586639404\n",
      "Epoch 230: Training Loss: 0.730439305305481, Validation Loss: 0.8475205898284912\n",
      "Epoch 240: Training Loss: 0.7180732488632202, Validation Loss: 0.8334622979164124\n",
      "Epoch 250: Training Loss: 0.7067372798919678, Validation Loss: 0.820317804813385\n",
      "Epoch 260: Training Loss: 0.6965621113777161, Validation Loss: 0.808246910572052\n",
      "Epoch 270: Training Loss: 0.6876233220100403, Validation Loss: 0.7973576784133911\n",
      "Epoch 280: Training Loss: 0.6799374222755432, Validation Loss: 0.787703275680542\n",
      "Epoch 290: Training Loss: 0.673466682434082, Validation Loss: 0.7792821526527405\n",
      "Epoch 300: Training Loss: 0.6681283116340637, Validation Loss: 0.7720456719398499\n"
     ]
    }
   ],
   "source": [
    "# Model with three hidden layer of 8, 32, 10\n",
    "model_new = nn.Sequential(\n",
    "        nn.Linear(5, 8),\n",
    "        nn.Tanh(),\n",
    "        nn.Linear(8, 32),\n",
    "        nn.Tanh(),\n",
    "        nn.Linear(32, 10),\n",
    "        nn.Tanh(),\n",
    "        nn.Linear(10, 1))\n",
    "\n",
    "optimizer = optim.SGD(model_new.parameters(), lr=.01)\n",
    "\n",
    "train_loss, val_loss = training_loop(NUM_EPOCHS, optimizer, model_new, nn.MSELoss(), training_tensor, \n",
    "                                     validation_tensor, price_training, price_validation)"
   ]
  },
  {
   "cell_type": "code",
   "execution_count": 8,
   "id": "5880bc9b",
   "metadata": {},
   "outputs": [
    {
     "data": {
      "text/plain": [
       "Text(0.5, 1.0, 'Losses')"
      ]
     },
     "execution_count": 8,
     "metadata": {},
     "output_type": "execute_result"
    },
    {
     "data": {
      "image/png": "[encoded data removed]",
      "text/plain": [
       "<Figure size 432x288 with 1 Axes>"
      ]
     },
     "metadata": {
      "needs_background": "light"
     },
     "output_type": "display_data"
    }
   ],
   "source": [
    "# Plotting the Losses\n",
    "\n",
    "fig = plt.figure()\n",
    "# Name the x and y axis\n",
    "plt.xlabel(\"Epochs\")\n",
    "plt.ylabel(\"Loss\")\n",
    "\n",
    "# Plot the model and the actual values.\n",
    "plt.plot(train_loss, label='Training loss')\n",
    "plt.plot(val_loss, label='Validation loss')\n",
    "plt.legend()\n",
    "plt.title(\"Losses\")"
   ]
  },
  {
   "cell_type": "markdown",
   "id": "44df6cda",
   "metadata": {},
   "source": [
    "Problem 2"
   ]
  },
  {
   "cell_type": "code",
   "execution_count": 9,
   "id": "0582d2e4",
   "metadata": {},
   "outputs": [],
   "source": [
    "from torchvision import transforms\n",
    "\n",
    "transforms = transforms.Compose([\n",
    "    transforms.ToTensor(),\n",
    "    transforms.Normalize((0.4915, 0.4823, 0.4468),\n",
    "                         (0.2470, 0.2435, 0.2616))\n",
    "])\n",
    "\n",
    "def training_loop(epochs, optimizer, model, loss_fn, train_loader, val_loader):\n",
    "    training_losses = []\n",
    "    val_losses = []\n",
    "    accuracies = []\n",
    "    for epoch in range(1, epochs + 1):\n",
    "        # Temp vars for use in finding the accuracy.\n",
    "        correct_labels = 0\n",
    "        count = 0\n",
    "        loss_val_value = 0\n",
    "        with torch.no_grad():\n",
    "            for imgs, labels in val_loader:\n",
    "                # Pass imgs through the model and find the loss.\n",
    "                output = model(imgs.view(imgs.shape[0], -1))\n",
    "                loss_val = loss_fn(output, labels)\n",
    "                loss_val_value += float(loss_val)\n",
    "                \n",
    "                # Find the accurcey of the model.\n",
    "                _, predicted = torch.max(output, dim=1)\n",
    "                count += labels.shape[0]\n",
    "                correct_labels += int((predicted == labels).sum())\n",
    "            \n",
    "            # Store the loss and accuracy.\n",
    "            loss_val_value /= count\n",
    "            val_losses.append(loss_val_value)\n",
    "            accuracies.append(correct_labels/count)\n",
    "        \n",
    "        loss_train_value = 0\n",
    "        for imgs, labels in train_loader:\n",
    "            # Pass imgs through the model and find the loss.\n",
    "            output = model(imgs.view(imgs.shape[0], -1))\n",
    "            loss_train = loss_fn(output, labels)\n",
    "            loss_train_value += float(loss_train)\n",
    "            \n",
    "            # Adject the params\n",
    "            optimizer.zero_grad()\n",
    "            loss_train.backward()\n",
    "            optimizer.step()\n",
    "        \n",
    "        # Store the loss\n",
    "        loss_train_value /= count\n",
    "        training_losses.append(loss_train_value)\n",
    "        \n",
    "        # Print out the loss every 10 epoch\n",
    "        if epoch % 10 == 0 or epoch == 1:\n",
    "            print(f\"Epoch: {epoch}, Training Loss: {loss_train}, Validation Loss: {loss_val}, Accuracy: {(correct_labels/count)*100}%\")\n",
    "        \n",
    "    return training_losses, val_losses, accuracies"
   ]
  },
  {
   "cell_type": "code",
   "execution_count": 10,
   "id": "ec05f5db",
   "metadata": {},
   "outputs": [
    {
     "name": "stdout",
     "output_type": "stream",
     "text": [
      "Files already downloaded and verified\n",
      "Files already downloaded and verified\n"
     ]
    }
   ],
   "source": [
    "# Download the cifar10 dataset.\n",
    "data = '.\\cifar10'\n",
    "cirfar10_train = datasets.CIFAR10(data, train=True, download=True, transform=transforms)\n",
    "cirfar10_val = datasets.CIFAR10(data, train=False, download=True, transform=transforms)"
   ]
  },
  {
   "cell_type": "code",
   "execution_count": 11,
   "id": "2ef491b0",
   "metadata": {
    "scrolled": true
   },
   "outputs": [],
   "source": [
    "NUM_EPOCHS = 300\n",
    "LEARNING_RATE = 1e-2\n",
    "BATCH_SIZE = 1024\n",
    "\n",
    "# Neural Net with one hidden layer of 512\n",
    "model = nn.Sequential(\n",
    "        nn.Linear(3072, 512),\n",
    "        nn.Tanh(),\n",
    "        nn.Linear(512, 10),\n",
    "        nn.LogSoftmax(dim=1))\n",
    "\n",
    "loss = nn.NLLLoss()\n",
    "optimizer = optim.SGD(model.parameters(), lr=LEARNING_RATE)\n",
    "\n",
    "# Load the data into a dataloader.\n",
    "train_loader = torch.utils.data.DataLoader(cirfar10_train, batch_size=BATCH_SIZE, shuffle=True)\n",
    "val_loader = torch.utils.data.DataLoader(cirfar10_val, batch_size=BATCH_SIZE, shuffle=False)"
   ]
  },
  {
   "cell_type": "code",
   "execution_count": 12,
   "id": "b7940fb9",
   "metadata": {},
   "outputs": [
    {
     "name": "stdout",
     "output_type": "stream",
     "text": [
      "Epoch: 1, Training Loss: 1.9678707122802734, Validation Loss: 2.2674553394317627, Accuracy: 13.19%\n",
      "Epoch: 10, Training Loss: 1.680593490600586, Validation Loss: 1.7601591348648071, Accuracy: 39.629999999999995%\n",
      "Epoch: 20, Training Loss: 1.683751106262207, Validation Loss: 1.7104140520095825, Accuracy: 41.81%\n",
      "Epoch: 30, Training Loss: 1.6511505842208862, Validation Loss: 1.6814672946929932, Accuracy: 42.76%\n",
      "Epoch: 40, Training Loss: 1.5423791408538818, Validation Loss: 1.661741018295288, Accuracy: 43.730000000000004%\n",
      "Epoch: 50, Training Loss: 1.5605401992797852, Validation Loss: 1.6429061889648438, Accuracy: 44.24%\n",
      "Epoch: 60, Training Loss: 1.4842920303344727, Validation Loss: 1.6270273923873901, Accuracy: 45.07%\n",
      "Epoch: 70, Training Loss: 1.4811780452728271, Validation Loss: 1.614139199256897, Accuracy: 45.440000000000005%\n",
      "Epoch: 80, Training Loss: 1.4788289070129395, Validation Loss: 1.5981080532073975, Accuracy: 46.02%\n",
      "Epoch: 90, Training Loss: 1.4786642789840698, Validation Loss: 1.5835200548171997, Accuracy: 46.6%\n",
      "Epoch: 100, Training Loss: 1.4138902425765991, Validation Loss: 1.5733616352081299, Accuracy: 47.28%\n",
      "Epoch: 110, Training Loss: 1.4385255575180054, Validation Loss: 1.561989665031433, Accuracy: 47.44%\n",
      "Epoch: 120, Training Loss: 1.383408546447754, Validation Loss: 1.5483051538467407, Accuracy: 47.85%\n",
      "Epoch: 130, Training Loss: 1.3222304582595825, Validation Loss: 1.5401769876480103, Accuracy: 48.14%\n",
      "Epoch: 140, Training Loss: 1.2957812547683716, Validation Loss: 1.5294804573059082, Accuracy: 48.49%\n",
      "Epoch: 150, Training Loss: 1.2477396726608276, Validation Loss: 1.5214554071426392, Accuracy: 48.480000000000004%\n",
      "Epoch: 160, Training Loss: 1.270158052444458, Validation Loss: 1.5157904624938965, Accuracy: 49.02%\n",
      "Epoch: 170, Training Loss: 1.1731148958206177, Validation Loss: 1.5065337419509888, Accuracy: 49.18%\n",
      "Epoch: 180, Training Loss: 1.2165769338607788, Validation Loss: 1.502706527709961, Accuracy: 49.36%\n",
      "Epoch: 190, Training Loss: 1.215359091758728, Validation Loss: 1.497601866722107, Accuracy: 49.45%\n",
      "Epoch: 200, Training Loss: 1.1286588907241821, Validation Loss: 1.5001407861709595, Accuracy: 49.480000000000004%\n",
      "Epoch: 210, Training Loss: 1.1143525838851929, Validation Loss: 1.4920920133590698, Accuracy: 49.79%\n",
      "Epoch: 220, Training Loss: 1.0544027090072632, Validation Loss: 1.4892915487289429, Accuracy: 49.97%\n",
      "Epoch: 230, Training Loss: 1.06126868724823, Validation Loss: 1.4929190874099731, Accuracy: 49.86%\n",
      "Epoch: 240, Training Loss: 1.0108919143676758, Validation Loss: 1.4876394271850586, Accuracy: 49.9%\n",
      "Epoch: 250, Training Loss: 0.9650559425354004, Validation Loss: 1.4945276975631714, Accuracy: 50.1%\n",
      "Epoch: 260, Training Loss: 0.9646227955818176, Validation Loss: 1.4951883554458618, Accuracy: 49.89%\n",
      "Epoch: 270, Training Loss: 0.9307659268379211, Validation Loss: 1.4912934303283691, Accuracy: 50.09%\n",
      "Epoch: 280, Training Loss: 0.9296294450759888, Validation Loss: 1.4971216917037964, Accuracy: 50.080000000000005%\n",
      "Epoch: 290, Training Loss: 0.9564180970191956, Validation Loss: 1.49622642993927, Accuracy: 50.0%\n",
      "Epoch: 300, Training Loss: 0.8289459347724915, Validation Loss: 1.4961400032043457, Accuracy: 50.029999999999994%\n",
      " \n",
      "Final Loss: 0.004228309345245361, Final Accuracy: 50.029999999999994%\n",
      "Training Time: 4272.34 seconds\n"
     ]
    }
   ],
   "source": [
    "# Using time to time the training.\n",
    "start_time = time.time()\n",
    "training_losses, val_losses, accuracies = training_loop(NUM_EPOCHS, optimizer, model, loss, train_loader, val_loader)\n",
    "end_time = time.time()\n",
    "\n",
    "# Report the final stats about the training.\n",
    "print(\" \")\n",
    "print(f\"Final Loss: {training_losses[-1]}, Final Accuracy: {accuracies[-1] * 100}%\")\n",
    "print(f\"Training Time: {(end_time - start_time):.2f} seconds\")"
   ]
  },
  {
   "cell_type": "code",
   "execution_count": 14,
   "id": "7fb593ee",
   "metadata": {},
   "outputs": [
    {
     "data": {
      "text/plain": [
       "Text(0.5, 1.0, 'Accuracy')"
      ]
     },
     "execution_count": 14,
     "metadata": {},
     "output_type": "execute_result"
    },
    {
     "data": {
      "image/png": "[encoded data removed]",
      "text/plain": [
       "<Figure size 432x288 with 1 Axes>"
      ]
     },
     "metadata": {
      "needs_background": "light"
     },
     "output_type": "display_data"
    }
   ],
   "source": [
    "# Plotting the accuracy of the model.\n",
    "\n",
    "fig = plt.figure()\n",
    "# Name the x and y axis\n",
    "plt.xlabel(\"Epochs\")\n",
    "plt.ylabel(\"Percents\")\n",
    "\n",
    "for i, x in enumerate(accuracies):\n",
    "    accuracies[i] = x * 100\n",
    "    \n",
    "\n",
    "plt.plot(accuracies, label='Accuracy')\n",
    "plt.legend()\n",
    "plt.title(\"Accuracy\")"
   ]
  },
  {
   "cell_type": "code",
   "execution_count": 15,
   "id": "1b219d9a",
   "metadata": {},
   "outputs": [
    {
     "name": "stdout",
     "output_type": "stream",
     "text": [
      "Epoch: 1, Training Loss: 2.1452176570892334, Validation Loss: 2.3103466033935547, Accuracy: 10.32%\n",
      "Epoch: 10, Training Loss: 1.8333007097244263, Validation Loss: 1.8492969274520874, Accuracy: 36.25%\n",
      "Epoch: 20, Training Loss: 1.7433573007583618, Validation Loss: 1.7603672742843628, Accuracy: 39.42%\n",
      "Epoch: 30, Training Loss: 1.7012865543365479, Validation Loss: 1.7154326438903809, Accuracy: 41.14%\n",
      "Epoch: 40, Training Loss: 1.6453821659088135, Validation Loss: 1.6865911483764648, Accuracy: 42.49%\n",
      "Epoch: 50, Training Loss: 1.6486808061599731, Validation Loss: 1.66253662109375, Accuracy: 43.169999999999995%\n",
      "Epoch: 60, Training Loss: 1.5862213373184204, Validation Loss: 1.6396384239196777, Accuracy: 43.89%\n",
      "Epoch: 70, Training Loss: 1.540399193763733, Validation Loss: 1.6203588247299194, Accuracy: 45.04%\n",
      "Epoch: 80, Training Loss: 1.5035895109176636, Validation Loss: 1.5962070226669312, Accuracy: 45.98%\n",
      "Epoch: 90, Training Loss: 1.5043388605117798, Validation Loss: 1.5754191875457764, Accuracy: 46.69%\n",
      "Epoch: 100, Training Loss: 1.3994776010513306, Validation Loss: 1.566023588180542, Accuracy: 47.24%\n",
      "Epoch: 110, Training Loss: 1.3454256057739258, Validation Loss: 1.5401884317398071, Accuracy: 48.04%\n",
      "Epoch: 120, Training Loss: 1.262939453125, Validation Loss: 1.551008939743042, Accuracy: 48.03%\n",
      "Epoch: 130, Training Loss: 1.2566801309585571, Validation Loss: 1.5210061073303223, Accuracy: 48.38%\n",
      "Epoch: 140, Training Loss: 1.234034538269043, Validation Loss: 1.5160892009735107, Accuracy: 49.02%\n",
      "Epoch: 150, Training Loss: 1.1209686994552612, Validation Loss: 1.5157856941223145, Accuracy: 49.09%\n",
      "Epoch: 160, Training Loss: 1.1806663274765015, Validation Loss: 1.5796059370040894, Accuracy: 47.24%\n",
      "Epoch: 170, Training Loss: 1.1065318584442139, Validation Loss: 1.545309066772461, Accuracy: 48.980000000000004%\n",
      "Epoch: 180, Training Loss: 1.1540173292160034, Validation Loss: 1.6169922351837158, Accuracy: 47.910000000000004%\n",
      "Epoch: 190, Training Loss: 1.0791571140289307, Validation Loss: 1.5610172748565674, Accuracy: 48.79%\n",
      "Epoch: 200, Training Loss: 0.8759352564811707, Validation Loss: 1.6208983659744263, Accuracy: 47.68%\n",
      "Epoch: 210, Training Loss: 0.9494306445121765, Validation Loss: 1.6281899213790894, Accuracy: 48.86%\n",
      "Epoch: 220, Training Loss: 1.048671841621399, Validation Loss: 1.6302698850631714, Accuracy: 48.68%\n",
      "Epoch: 230, Training Loss: 0.7789023518562317, Validation Loss: 1.7281850576400757, Accuracy: 47.870000000000005%\n",
      "Epoch: 240, Training Loss: 0.7309607863426208, Validation Loss: 1.852726697921753, Accuracy: 46.87%\n",
      "Epoch: 250, Training Loss: 0.7191540002822876, Validation Loss: 1.8119103908538818, Accuracy: 47.02%\n",
      "Epoch: 260, Training Loss: 0.6168233752250671, Validation Loss: 1.8419313430786133, Accuracy: 47.17%\n",
      "Epoch: 270, Training Loss: 0.5479784607887268, Validation Loss: 1.839116096496582, Accuracy: 47.88%\n",
      "Epoch: 280, Training Loss: 0.5738944411277771, Validation Loss: 2.102342367172241, Accuracy: 45.36%\n",
      "Epoch: 290, Training Loss: 0.5162743330001831, Validation Loss: 2.0567572116851807, Accuracy: 45.9%\n",
      "Epoch: 300, Training Loss: 2.5052082538604736, Validation Loss: 2.034482479095459, Accuracy: 46.61%\n",
      " \n",
      "Final Loss: 0.002601168116927147, Final Accuracy: 46.61%\n",
      "Training Time: 4473.68 seconds\n"
     ]
    }
   ],
   "source": [
    "# Two new layers in the model.\n",
    "model_new = nn.Sequential(\n",
    "            nn.Linear(3072, 512),\n",
    "            nn.Tanh(),\n",
    "            nn.Linear(512, 1024),\n",
    "            nn.Tanh(),\n",
    "            nn.Linear(1024, 256),\n",
    "            nn.Tanh(),\n",
    "            nn.Linear(256, 10),\n",
    "            nn.LogSoftmax(dim=1))\n",
    "\n",
    "loss = nn.NLLLoss()\n",
    "optimizer = optim.SGD(model_new.parameters(), lr=LEARNING_RATE)\n",
    "\n",
    "# Using new model in the loop. Timing it with the same method.\n",
    "start_time = time.time()\n",
    "training_losses, val_losses, accuracies = training_loop(NUM_EPOCHS, optimizer, model_new, loss, train_loader, val_loader)\n",
    "end_time = time.time()\n",
    "\n",
    "# Report the final stats about the training.\n",
    "print(\" \")\n",
    "print(f\"Final Loss: {training_losses[-1]}, Final Accuracy: {accuracies[-1] * 100}%\")\n",
    "print(f\"Training Time: {(end_time - start_time):.2f} seconds\")"
   ]
  },
  {
   "cell_type": "code",
   "execution_count": 17,
   "id": "175f36ee",
   "metadata": {},
   "outputs": [
    {
     "data": {
      "text/plain": [
       "Text(0.5, 1.0, 'Accuracy')"
      ]
     },
     "execution_count": 17,
     "metadata": {},
     "output_type": "execute_result"
    },
    {
     "data": {
      "image/png": "[encoded data removed]",
      "text/plain": [
       "<Figure size 432x288 with 1 Axes>"
      ]
     },
     "metadata": {
      "needs_background": "light"
     },
     "output_type": "display_data"
    }
   ],
   "source": [
    "# Plotting the accuracy of the model.\n",
    "\n",
    "fig = plt.figure()\n",
    "# Name the x and y axis\n",
    "plt.xlabel(\"Epochs\")\n",
    "plt.ylabel(\"Percents\")\n",
    "\n",
    "for i, x in enumerate(accuracies):\n",
    "    accuracies[i] = x * 100\n",
    "\n",
    "plt.plot(accuracies, label='Accuracy')\n",
    "plt.legend()\n",
    "plt.title(\"Accuracy\")"
   ]
  },
  {
   "cell_type": "code",
   "execution_count": 35,
   "id": "4f4689de",
   "metadata": {},
   "outputs": [
    {
     "name": "stdout",
     "output_type": "stream",
     "text": [
      "Problem 1 Part 1\n",
      "Model size: 57\n",
      "\n",
      "Problem 1 Part 2\n",
      "Model size: 677\n",
      "\n",
      "Warning: variables __flops__ or __params__ are already defined for the moduleLinear ptflops can affect your code!\n",
      "Warning: variables __flops__ or __params__ are already defined for the moduleLinear ptflops can affect your code!\n",
      "Problem 2 Part 1\n",
      "Model size: 1.58 M\n",
      "\n",
      "Warning: variables __flops__ or __params__ are already defined for the moduleLinear ptflops can affect your code!\n",
      "Warning: variables __flops__ or __params__ are already defined for the moduleLinear ptflops can affect your code!\n",
      "Warning: variables __flops__ or __params__ are already defined for the moduleLinear ptflops can affect your code!\n",
      "Warning: variables __flops__ or __params__ are already defined for the moduleLinear ptflops can affect your code!\n",
      "Problem 2 Part 2\n",
      "Model size: 2.36 M\n"
     ]
    }
   ],
   "source": [
    "# Model with one hidden layer of 8\n",
    "model_p1p1 = nn.Sequential(\n",
    "        nn.Linear(5, 8),\n",
    "        nn.Tanh(),\n",
    "        nn.Linear(8, 1))\n",
    "\n",
    "# Model with three hidden layer of 8, 32, 10\n",
    "model__p1p2 = nn.Sequential(\n",
    "                nn.Linear(5, 8),\n",
    "                nn.Tanh(),\n",
    "                nn.Linear(8, 32),\n",
    "                nn.Tanh(),\n",
    "                nn.Linear(32, 10),\n",
    "                nn.Tanh(),\n",
    "                nn.Linear(10, 1))\n",
    "\n",
    "from ptflops import get_model_complexity_info\n",
    "import warnings\n",
    "warnings.filterwarnings(\"ignore\")\n",
    "\n",
    "macs, params = get_model_complexity_info(model_p1p1, (436, 5), as_strings=True,\n",
    " print_per_layer_stat=False, verbose=False)\n",
    "# print out the computational cost and the Model size.\n",
    "print(\"Problem 1 Part 1\")\n",
    "print(\"Model size: \" + params)\n",
    "\n",
    "print(\"\")\n",
    "\n",
    "macs, params = get_model_complexity_info(model__p1p2, (436, 5), as_strings=True,\n",
    " print_per_layer_stat=False, verbose=False)\n",
    "# print out the computational cost and the Model size.\n",
    "print(\"Problem 1 Part 2\")\n",
    "print(\"Model size: \" + params)\n",
    "\n",
    "print(\"\")\n",
    "\n",
    "macs, params = get_model_complexity_info(model, (1, 3072), as_strings=True,\n",
    " print_per_layer_stat=False, verbose=False)\n",
    "# print out the computational cost and the Model size.\n",
    "print(\"Problem 2 Part 1\")\n",
    "print(\"Model size: \" + params)\n",
    "\n",
    "print(\"\")\n",
    "\n",
    "macs, params = get_model_complexity_info(model_new, (1, 3072), as_strings=True,\n",
    " print_per_layer_stat=False, verbose=False)\n",
    "# print out the computational cost and the Model size.\n",
    "print(\"Problem 2 Part 2\")\n",
    "print(\"Model size: \" + params)\n"
   ]
  },
  {
   "cell_type": "code",
   "execution_count": null,
   "id": "b291ea47",
   "metadata": {},
   "outputs": [],
   "source": []
  }
 ],
 "metadata": {
  "kernelspec": {
   "display_name": "Python 3 (ipykernel)",
   "language": "python",
   "name": "python3"
  },
  "language_info": {
   "codemirror_mode": {
    "name": "ipython",
    "version": 3
   },
   "file_extension": ".py",
   "mimetype": "text/x-python",
   "name": "python",
   "nbconvert_exporter": "python",
   "pygments_lexer": "ipython3",
   "version": "3.8.12"
  }
 },
 "nbformat": 4,
 "nbformat_minor": 5
}
