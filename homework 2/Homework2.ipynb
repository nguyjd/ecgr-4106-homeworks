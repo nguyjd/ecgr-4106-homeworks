{
 "cells": [
  {
   "cell_type": "markdown",
   "id": "15571727",
   "metadata": {},
   "source": [
    "Jonathon Nguyen\n",
    "\n",
    "ID: 801093003\n",
    "\n",
    "Homework 1"
   ]
  },
  {
   "cell_type": "code",
   "execution_count": 1,
   "id": "c7482afc",
   "metadata": {},
   "outputs": [],
   "source": [
    "import torch\n",
    "import numpy as np \n",
    "import pandas as pd\n",
    "from matplotlib import pyplot as plt"
   ]
  },
  {
   "cell_type": "code",
   "execution_count": 2,
   "id": "b5e9f849",
   "metadata": {},
   "outputs": [],
   "source": [
    "def normalized_data(tensor):\n",
    "    mean = torch.mean(tensor)\n",
    "    std = torch.std(tensor)\n",
    "    new_tensor = (tensor - mean) / std\n",
    "    \n",
    "    return new_tensor"
   ]
  },
  {
   "cell_type": "code",
   "execution_count": 6,
   "id": "53ac6d4c",
   "metadata": {},
   "outputs": [],
   "source": [
    "NUM_EPOCHS = 200\n",
    "\n",
    "# Read the data from the provided CSV files\n",
    "housing = pd.DataFrame(pd.read_csv(\"Housing.csv\"))\n",
    "\n",
    "# Split the data into the input vars and the prices.\n",
    "names_vars = ['area', 'bedrooms', 'bathrooms', 'stories', 'parking']\n",
    "prices = housing['price']\n",
    "\n",
    "# Find the length of the column.\n",
    "num_samples = len(prices)\n",
    "num_val = int(0.2 * num_samples)\n",
    "\n",
    "# Generate the random indices with 80% training and 20% Validation\n",
    "random_indices = torch.randperm(num_samples)\n",
    "training_indices = random_indices[:-num_val]\n",
    "validation_indices = random_indices[-num_val:]\n",
    "\n",
    "# Turn input, prices and params into a tensor\n",
    "training_vars = []\n",
    "validation_vars = []\n",
    "for col in names_vars:\n",
    "    # Convert the column into a tensor.\n",
    "    tensor = torch.tensor(housing[col]).float()\n",
    "    \n",
    "    # Split the data set and normalized the data.\n",
    "    training_tensor = normalized_data(tensor[training_indices])\n",
    "    validation_tensor = normalized_data(tensor[training_indices])\n",
    "    \n",
    "    # Packing the tensor into a list to pass as a param\n",
    "    training_vars.append(training_tensor)\n",
    "    validation_vars.append(validation_tensor)\n",
    "\n",
    "# Convert the prices to a tensor.\n",
    "prices = torch.tensor(prices.values).float()"
   ]
  },
  {
   "cell_type": "code",
   "execution_count": null,
   "id": "cf0c93ce",
   "metadata": {},
   "outputs": [],
   "source": []
  },
  {
   "cell_type": "code",
   "execution_count": null,
   "id": "a6c47ab1",
   "metadata": {},
   "outputs": [],
   "source": []
  }
 ],
 "metadata": {
  "kernelspec": {
   "display_name": "Python 3 (ipykernel)",
   "language": "python",
   "name": "python3"
  },
  "language_info": {
   "codemirror_mode": {
    "name": "ipython",
    "version": 3
   },
   "file_extension": ".py",
   "mimetype": "text/x-python",
   "name": "python",
   "nbconvert_exporter": "python",
   "pygments_lexer": "ipython3",
   "version": "3.8.12"
  }
 },
 "nbformat": 4,
 "nbformat_minor": 5
}
