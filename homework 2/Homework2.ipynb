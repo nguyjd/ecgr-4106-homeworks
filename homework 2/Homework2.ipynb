{
 "cells": [
  {
   "cell_type": "markdown",
   "id": "15571727",
   "metadata": {},
   "source": [
    "Jonathon Nguyen\n",
    "\n",
    "ID: 801093003\n",
    "\n",
    "Homework 2"
   ]
  },
  {
   "cell_type": "code",
   "execution_count": null,
   "id": "c7482afc",
   "metadata": {},
   "outputs": [],
   "source": [
    "import torch\n",
    "import torch.nn as nn\n",
    "import torch.optim as optim\n",
    "import numpy as np \n",
    "import pandas as pd\n",
    "from matplotlib import pyplot as plt\n",
    "from torchvision import datasets\n",
    "import time"
   ]
  },
  {
   "cell_type": "code",
   "execution_count": null,
   "id": "b5e9f849",
   "metadata": {},
   "outputs": [],
   "source": [
    "# Find the normalized of the input tensor.\n",
    "def normalized_data(tensor):\n",
    "    mean = torch.mean(tensor)\n",
    "    std = torch.std(tensor)\n",
    "    new_tensor = (tensor - mean) / std\n",
    "    \n",
    "    return new_tensor\n",
    "\n",
    "def training_loop(epochs, optimizer, model, loss_fn, training_vars, validation_vars, \n",
    "                  training_prices, validation_prices):\n",
    "    for epoch in range(1, epochs + 1):\n",
    "        prices_p_train = model(training_vars)\n",
    "        loss_train = loss_fn(prices_p_train, training_prices)\n",
    "        \n",
    "        prices_p_val = model(validation_vars)\n",
    "        loss_val = loss_fn(prices_p_val, validation_prices)\n",
    "        \n",
    "        optimizer.zero_grad()\n",
    "        loss_train.backward()\n",
    "        optimizer.step()\n",
    "        \n",
    "        print(f'Epoch {epoch}: Training Loss: {float(loss_train)}, Validation Loss: {float(loss_val)}')"
   ]
  },
  {
   "cell_type": "code",
   "execution_count": null,
   "id": "53ac6d4c",
   "metadata": {},
   "outputs": [],
   "source": [
    "NUM_EPOCHS = 200\n",
    "\n",
    "# Read the data from the provided CSV files\n",
    "housing = pd.DataFrame(pd.read_csv(\"Housing.csv\"))\n",
    "\n",
    "# Split the data into the input vars and the prices.\n",
    "names_vars = ['area', 'bedrooms', 'bathrooms', 'stories', 'parking']\n",
    "prices = housing['price']\n",
    "\n",
    "# Find the length of the column.\n",
    "num_samples = len(prices)\n",
    "num_val = int(0.2 * num_samples)\n",
    "\n",
    "# Generate the random indices with 80% training and 20% Validation\n",
    "random_indices = torch.randperm(num_samples)\n",
    "training_indices = random_indices[:-num_val]\n",
    "validation_indices = random_indices[-num_val:]\n",
    "\n",
    "# Turn input, prices and params into a tensor\n",
    "training_vars = []\n",
    "validation_vars = []\n",
    "for col in names_vars: \n",
    "    # Convert the column into a tensor.\n",
    "    tensor = torch.tensor(housing[col]).float()\n",
    "    \n",
    "    # Split the data set and normalized the data.\n",
    "    training_tensor = normalized_data(tensor[training_indices])\n",
    "    validation_tensor = normalized_data(tensor[validation_indices])\n",
    "    \n",
    "    # Packing the tensor into a list to pass as a param\n",
    "    training_vars.append(training_tensor)\n",
    "    validation_vars.append(validation_tensor)\n",
    "    \n",
    "training_vars = torch.stack(training_vars[:]).permute(1, 0)\n",
    "validation_vars = torch.stack(validation_vars[:]).permute(1, 0)\n",
    "\n",
    "\n",
    "# Convert the prices to a tensor.\n",
    "prices = torch.tensor(prices.values).float()\n",
    "price_training = prices[training_indices]\n",
    "price_validation = prices[validation_indices]\n",
    "\n",
    "housing[names_vars]"
   ]
  },
  {
   "cell_type": "code",
   "execution_count": null,
   "id": "1ab1c115",
   "metadata": {},
   "outputs": [],
   "source": [
    "\n",
    "model = nn.Sequential(\n",
    "        nn.Linear(5, 8),\n",
    "        nn.Tanh(),\n",
    "        nn.Linear(8, 1))\n",
    "\n",
    "optimizer = optim.SGD(model.parameters(), lr=0.001)"
   ]
  },
  {
   "cell_type": "code",
   "execution_count": null,
   "id": "cf0c93ce",
   "metadata": {
    "scrolled": false
   },
   "outputs": [],
   "source": [
    "training_loop(NUM_EPOCHS, optimizer, model, nn.MSELoss(), training_vars, validation_vars, price_training, price_validation)"
   ]
  },
  {
   "cell_type": "markdown",
   "id": "44df6cda",
   "metadata": {},
   "source": [
    "Problem 2"
   ]
  },
  {
   "cell_type": "code",
   "execution_count": 2,
   "id": "0582d2e4",
   "metadata": {},
   "outputs": [],
   "source": [
    "from torchvision import transforms\n",
    "\n",
    "transforms = transforms.Compose([\n",
    "    transforms.ToTensor(),\n",
    "    transforms.Normalize((0.4915, 0.4823, 0.4468),\n",
    "                         (0.2470, 0.2435, 0.2616))\n",
    "])\n",
    "\n",
    "def training_loop(epochs, optimizer, model, loss_fn, train_loader, val_loader):\n",
    "    training_losses = []\n",
    "    val_losses = []\n",
    "    accuracies = []\n",
    "    for epoch in range(1, epochs + 1):\n",
    "        # Temp vars for use in finding the accuracy.\n",
    "        correct_labels = 0\n",
    "        count = 0\n",
    "        loss_val_value = 0\n",
    "        with torch.no_grad():\n",
    "            for imgs, labels in val_loader:\n",
    "                # Pass imgs through the model and find the loss.\n",
    "                output = model(imgs.view(imgs.shape[0], -1))\n",
    "                loss_val = loss_fn(output, labels)\n",
    "                loss_val_value += float(loss_val)\n",
    "                \n",
    "                # Find the accurcey of the model.\n",
    "                _, predicted = torch.max(output, dim=1)\n",
    "                count += labels.shape[0]\n",
    "                correct_labels += int((predicted == labels).sum())\n",
    "            \n",
    "            # Store the loss and accuracy.\n",
    "            loss_val_value /= count\n",
    "            val_losses.append(loss_val_value)\n",
    "            accuracies.append(correct_labels/count)\n",
    "        \n",
    "        loss_train_value = 0\n",
    "        for imgs, labels in train_loader:\n",
    "            # Pass imgs through the model and find the loss.\n",
    "            output = model(imgs.view(imgs.shape[0], -1))\n",
    "            loss_train = loss_fn(output, labels)\n",
    "            \n",
    "            # Adject the params\n",
    "            optimizer.zero_grad()\n",
    "            loss_train.backward()\n",
    "            optimizer.step()\n",
    "        \n",
    "        # Store the loss\n",
    "        loss_train_value /= count\n",
    "        training_losses.append(loss_train_value)\n",
    "        \n",
    "        # Print out the loss every 10 epoch\n",
    "        if epoch % 10 == 0 or epoch == 1:\n",
    "            print(f\"Epoch: {epoch}, Training Loss: {loss_train}, Validation Loss: {loss_val}, Accuracy: {(correct_labels/count)*100}%\")\n",
    "        \n",
    "    return training_losses, val_losses, accuracies"
   ]
  },
  {
   "cell_type": "code",
   "execution_count": 3,
   "id": "ec05f5db",
   "metadata": {},
   "outputs": [
    {
     "name": "stdout",
     "output_type": "stream",
     "text": [
      "Files already downloaded and verified\n",
      "Files already downloaded and verified\n"
     ]
    }
   ],
   "source": [
    "# Download the cifar10 dataset.\n",
    "data = '.\\cifar10'\n",
    "cirfar10_train = datasets.CIFAR10(data, train=True, download=True, transform=transforms)\n",
    "cirfar10_val = datasets.CIFAR10(data, train=False, download=True, transform=transforms)"
   ]
  },
  {
   "cell_type": "code",
   "execution_count": 4,
   "id": "2ef491b0",
   "metadata": {
    "scrolled": true
   },
   "outputs": [],
   "source": [
    "NUM_EPOCHS = 300\n",
    "LEARNING_RATE = 1e-2\n",
    "BATCH_SIZE = 1024\n",
    "\n",
    "# Neural Net with one hidden layer of 512\n",
    "model = nn.Sequential(\n",
    "        nn.Linear(3072, 512),\n",
    "        nn.Tanh(),\n",
    "        nn.Linear(512, 10),\n",
    "        nn.LogSoftmax(dim=1))\n",
    "\n",
    "loss = nn.NLLLoss()\n",
    "optimizer = optim.SGD(model.parameters(), lr=LEARNING_RATE)\n",
    "\n",
    "# Load the data into a dataloader.\n",
    "train_loader = torch.utils.data.DataLoader(cirfar10_train, batch_size=BATCH_SIZE, shuffle=True)\n",
    "val_loader = torch.utils.data.DataLoader(cirfar10_val, batch_size=BATCH_SIZE, shuffle=False)"
   ]
  },
  {
   "cell_type": "code",
   "execution_count": 5,
   "id": "b7940fb9",
   "metadata": {},
   "outputs": [
    {
     "name": "stdout",
     "output_type": "stream",
     "text": [
      "Epoch: 10, Training Loss: 1.7916094064712524,                  Validation Loss: 1.7688019275665283, Accuracy: 39.61%\n",
      "Epoch: 20, Training Loss: 1.67167329788208,                  Validation Loss: 1.7150737047195435, Accuracy: 41.78%\n",
      "Epoch: 30, Training Loss: 1.6277861595153809,                  Validation Loss: 1.6835988759994507, Accuracy: 42.9%\n",
      "Epoch: 40, Training Loss: 1.6090425252914429,                  Validation Loss: 1.6632529497146606, Accuracy: 43.86%\n",
      "Epoch: 50, Training Loss: 1.57368004322052,                  Validation Loss: 1.6431949138641357, Accuracy: 44.34%\n",
      "Epoch: 60, Training Loss: 1.501617431640625,                  Validation Loss: 1.6230076551437378, Accuracy: 45.09%\n",
      "Epoch: 70, Training Loss: 1.4647669792175293,                  Validation Loss: 1.6075302362442017, Accuracy: 45.72%\n",
      "Epoch: 80, Training Loss: 1.5113509893417358,                  Validation Loss: 1.5947539806365967, Accuracy: 46.0%\n",
      "Epoch: 90, Training Loss: 1.4188315868377686,                  Validation Loss: 1.5796855688095093, Accuracy: 46.5%\n",
      "Epoch: 100, Training Loss: 1.3689693212509155,                  Validation Loss: 1.5685460567474365, Accuracy: 47.06%\n",
      "Epoch: 110, Training Loss: 1.3959649801254272,                  Validation Loss: 1.553908109664917, Accuracy: 47.63%\n",
      "Epoch: 120, Training Loss: 1.3895751237869263,                  Validation Loss: 1.5480870008468628, Accuracy: 47.980000000000004%\n",
      "Epoch: 130, Training Loss: 1.3604086637496948,                  Validation Loss: 1.5337227582931519, Accuracy: 48.51%\n",
      "Epoch: 140, Training Loss: 1.281632423400879,                  Validation Loss: 1.5231826305389404, Accuracy: 48.53%\n",
      "Epoch: 150, Training Loss: 1.2852704524993896,                  Validation Loss: 1.5147573947906494, Accuracy: 48.94%\n",
      "Epoch: 160, Training Loss: 1.2139509916305542,                  Validation Loss: 1.511326551437378, Accuracy: 49.059999999999995%\n",
      "Epoch: 170, Training Loss: 1.1864959001541138,                  Validation Loss: 1.5041406154632568, Accuracy: 49.03%\n",
      "Epoch: 180, Training Loss: 1.2204831838607788,                  Validation Loss: 1.5011099576950073, Accuracy: 49.4%\n",
      "Epoch: 190, Training Loss: 1.155574917793274,                  Validation Loss: 1.4968868494033813, Accuracy: 49.6%\n",
      "Epoch: 200, Training Loss: 1.1067262887954712,                  Validation Loss: 1.4947257041931152, Accuracy: 49.63%\n",
      "Epoch: 210, Training Loss: 1.1240696907043457,                  Validation Loss: 1.4936344623565674, Accuracy: 49.81%\n",
      "Epoch: 220, Training Loss: 1.0663042068481445,                  Validation Loss: 1.4909356832504272, Accuracy: 49.91%\n",
      "Epoch: 230, Training Loss: 1.0409482717514038,                  Validation Loss: 1.4904712438583374, Accuracy: 49.96%\n",
      "Epoch: 240, Training Loss: 1.0664254426956177,                  Validation Loss: 1.490328311920166, Accuracy: 50.13999999999999%\n",
      "Epoch: 250, Training Loss: 1.0489528179168701,                  Validation Loss: 1.4923334121704102, Accuracy: 50.01%\n",
      "Epoch: 260, Training Loss: 1.0320345163345337,                  Validation Loss: 1.4947614669799805, Accuracy: 50.28%\n",
      "Epoch: 270, Training Loss: 0.93223637342453,                  Validation Loss: 1.4998570680618286, Accuracy: 50.36000000000001%\n",
      "Epoch: 280, Training Loss: 0.9295340776443481,                  Validation Loss: 1.4958456754684448, Accuracy: 50.33%\n",
      "Epoch: 290, Training Loss: 0.8914586305618286,                  Validation Loss: 1.5010006427764893, Accuracy: 50.19%\n",
      "Epoch: 300, Training Loss: 0.8917527198791504,                  Validation Loss: 1.5037128925323486, Accuracy: 50.260000000000005%\n",
      " \n",
      "Final Loss: 0.0, Final Accuracy: 0.5026, Training Time: 4411.36 seconds\n"
     ]
    }
   ],
   "source": [
    "# Using time to time the training.\n",
    "start_time = time.time()\n",
    "training_losses, val_losses, accuracies = training_loop(NUM_EPOCHS, optimizer, model, loss, train_loader, val_loader)\n",
    "end_time = time.time()\n",
    "\n",
    "# Report the final stats about the training.\n",
    "print(\" \")\n",
    "print(f\"Final Loss: {training_losses[-1]}, Final Accuracy: {accuracies[-1]}, Training Time: {(end_time - start_time):.2f} seconds\")"
   ]
  },
  {
   "cell_type": "code",
   "execution_count": 6,
   "id": "42136b85",
   "metadata": {
    "scrolled": true
   },
   "outputs": [
    {
     "data": {
      "text/plain": [
       "[<matplotlib.lines.Line2D at 0x1f967e65ca0>]"
      ]
     },
     "execution_count": 6,
     "metadata": {},
     "output_type": "execute_result"
    },
    {
     "data": {
      "image/png": "[encoded data removed]",
      "text/plain": [
       "<Figure size 432x288 with 1 Axes>"
      ]
     },
     "metadata": {
      "needs_background": "light"
     },
     "output_type": "display_data"
    }
   ],
   "source": [
    "# Plotting the Losses\n",
    "\n",
    "fig = plt.figure()\n",
    "# Name the x and y axis\n",
    "plt.xlabel(\"Epochs\")\n",
    "plt.ylabel(\"Loss\")\n",
    "\n",
    "# Plot the model and the actual values.\n",
    "plt.plot(training_losses, label='Training loss')\n",
    "plt.plot(val_losses, label='Validation loss')"
   ]
  },
  {
   "cell_type": "code",
   "execution_count": 7,
   "id": "7fb593ee",
   "metadata": {},
   "outputs": [
    {
     "data": {
      "text/plain": [
       "[<matplotlib.lines.Line2D at 0x1f966799fd0>]"
      ]
     },
     "execution_count": 7,
     "metadata": {},
     "output_type": "execute_result"
    },
    {
     "data": {
      "image/png": "[encoded data removed]",
      "text/plain": [
       "<Figure size 432x288 with 1 Axes>"
      ]
     },
     "metadata": {
      "needs_background": "light"
     },
     "output_type": "display_data"
    }
   ],
   "source": [
    "# Plotting the accuracy of the model.\n",
    "\n",
    "fig = plt.figure()\n",
    "# Name the x and y axis\n",
    "plt.xlabel(\"Epochs\")\n",
    "plt.ylabel(\"Percents\")\n",
    "\n",
    "plt.plot(accuracies * 100, label='Accuracy')"
   ]
  },
  {
   "cell_type": "code",
   "execution_count": null,
   "id": "1b219d9a",
   "metadata": {},
   "outputs": [
    {
     "name": "stdout",
     "output_type": "stream",
     "text": [
      "Epoch: 10, Training Loss: 1.8093847036361694,                  Validation Loss: 1.8428081274032593, Accuracy: 36.02%\n",
      "Epoch: 20, Training Loss: 1.766709327697754,                  Validation Loss: 1.7592021226882935, Accuracy: 39.24%\n",
      "Epoch: 30, Training Loss: 1.7386857271194458,                  Validation Loss: 1.7148411273956299, Accuracy: 40.9%\n",
      "Epoch: 40, Training Loss: 1.6488807201385498,                  Validation Loss: 1.6898365020751953, Accuracy: 42.16%\n",
      "Epoch: 50, Training Loss: 1.669877290725708,                  Validation Loss: 1.6648982763290405, Accuracy: 43.36%\n",
      "Epoch: 60, Training Loss: 1.5854144096374512,                  Validation Loss: 1.6414361000061035, Accuracy: 44.28%\n",
      "Epoch: 70, Training Loss: 1.5398234128952026,                  Validation Loss: 1.6127463579177856, Accuracy: 45.050000000000004%\n",
      "Epoch: 80, Training Loss: 1.4959840774536133,                  Validation Loss: 1.5911458730697632, Accuracy: 45.769999999999996%\n",
      "Epoch: 90, Training Loss: 1.4490944147109985,                  Validation Loss: 1.5741276741027832, Accuracy: 46.410000000000004%\n",
      "Epoch: 100, Training Loss: 1.3523045778274536,                  Validation Loss: 1.5546132326126099, Accuracy: 47.08%\n",
      "Epoch: 110, Training Loss: 1.382889986038208,                  Validation Loss: 1.5643682479858398, Accuracy: 47.43%\n",
      "Epoch: 120, Training Loss: 1.2644038200378418,                  Validation Loss: 1.5732710361480713, Accuracy: 47.199999999999996%\n",
      "Epoch: 130, Training Loss: 1.2662321329116821,                  Validation Loss: 1.5255910158157349, Accuracy: 48.46%\n",
      "Epoch: 140, Training Loss: 1.2259507179260254,                  Validation Loss: 1.6001280546188354, Accuracy: 47.48%\n",
      "Epoch: 150, Training Loss: 1.117088794708252,                  Validation Loss: 1.546305775642395, Accuracy: 47.97%\n",
      "Epoch: 160, Training Loss: 1.0923945903778076,                  Validation Loss: 1.5657378435134888, Accuracy: 48.15%\n",
      "Epoch: 170, Training Loss: 1.1421293020248413,                  Validation Loss: 1.5561110973358154, Accuracy: 48.730000000000004%\n",
      "Epoch: 180, Training Loss: 1.0622295141220093,                  Validation Loss: 1.5782121419906616, Accuracy: 48.66%\n"
     ]
    }
   ],
   "source": [
    "# Two new layers in the model.\n",
    "model_new = nn.Sequential(\n",
    "            nn.Linear(3072, 512),\n",
    "            nn.Tanh(),\n",
    "            nn.Linear(512, 1024),\n",
    "            nn.Tanh(),\n",
    "            nn.Linear(1024, 256),\n",
    "            nn.Tanh(),\n",
    "            nn.Linear(256, 10),\n",
    "            nn.LogSoftmax(dim=1))\n",
    "\n",
    "loss = nn.NLLLoss()\n",
    "optimizer = optim.SGD(model_new.parameters(), lr=LEARNING_RATE)\n",
    "\n",
    "# Using new model in the loop. Timing it with the same method.\n",
    "start_time = time.time()\n",
    "training_losses, val_losses, accuracies = training_loop(NUM_EPOCHS, optimizer, model_new, loss, train_loader, val_loader)\n",
    "end_time = time.time()\n",
    "\n",
    "# Report the final stats about the training.\n",
    "print(\" \")\n",
    "print(f\"Final Loss: {training_losses[-1]}, Final Accuracy: {accuracies[-1]}, Training Time: {(end_time - start_time):.2f} seconds\")"
   ]
  },
  {
   "cell_type": "code",
   "execution_count": null,
   "id": "2a69412b",
   "metadata": {},
   "outputs": [],
   "source": [
    "# Plotting the Losses\n",
    "\n",
    "fig = plt.figure()\n",
    "# Name the x and y axis\n",
    "plt.xlabel(\"Epochs\")\n",
    "plt.ylabel(\"Loss\")\n",
    "\n",
    "# Plot the model and the actual values.\n",
    "plt.plot(training_losses, label='Training loss')\n",
    "plt.plot(val_losses, label='Validation loss')"
   ]
  },
  {
   "cell_type": "code",
   "execution_count": null,
   "id": "175f36ee",
   "metadata": {},
   "outputs": [],
   "source": [
    "# Plotting the accuracy of the model.\n",
    "\n",
    "fig = plt.figure()\n",
    "# Name the x and y axis\n",
    "plt.xlabel(\"Epochs\")\n",
    "plt.ylabel(\"Percents\")\n",
    "\n",
    "plt.plot(accuracies * 100, label='Accuracy')"
   ]
  },
  {
   "cell_type": "code",
   "execution_count": null,
   "id": "4f4689de",
   "metadata": {},
   "outputs": [],
   "source": []
  }
 ],
 "metadata": {
  "kernelspec": {
   "display_name": "Python 3 (ipykernel)",
   "language": "python",
   "name": "python3"
  },
  "language_info": {
   "codemirror_mode": {
    "name": "ipython",
    "version": 3
   },
   "file_extension": ".py",
   "mimetype": "text/x-python",
   "name": "python",
   "nbconvert_exporter": "python",
   "pygments_lexer": "ipython3",
   "version": "3.8.12"
  }
 },
 "nbformat": 4,
 "nbformat_minor": 5
}
